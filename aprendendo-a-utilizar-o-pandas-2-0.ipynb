{
 "cells": [
  {
   "cell_type": "code",
   "execution_count": 1,
   "id": "fddb6174",
   "metadata": {
    "_cell_guid": "b1076dfc-b9ad-4769-8c92-a6c4dae69d19",
    "_uuid": "8f2839f25d086af736a60e9eeb907d3b93b6e0e5",
    "execution": {
     "iopub.execute_input": "2024-06-12T12:38:21.652168Z",
     "iopub.status.busy": "2024-06-12T12:38:21.651094Z",
     "iopub.status.idle": "2024-06-12T12:38:22.589072Z",
     "shell.execute_reply": "2024-06-12T12:38:22.588043Z"
    },
    "papermill": {
     "duration": 0.962557,
     "end_time": "2024-06-12T12:38:22.591332",
     "exception": false,
     "start_time": "2024-06-12T12:38:21.628775",
     "status": "completed"
    },
    "tags": []
   },
   "outputs": [
    {
     "data": {
      "text/html": [
       "<div>\n",
       "<style scoped>\n",
       "    .dataframe tbody tr th:only-of-type {\n",
       "        vertical-align: middle;\n",
       "    }\n",
       "\n",
       "    .dataframe tbody tr th {\n",
       "        vertical-align: top;\n",
       "    }\n",
       "\n",
       "    .dataframe thead th {\n",
       "        text-align: right;\n",
       "    }\n",
       "</style>\n",
       "<table border=\"1\" class=\"dataframe\">\n",
       "  <thead>\n",
       "    <tr style=\"text-align: right;\">\n",
       "      <th></th>\n",
       "      <th>product_id</th>\n",
       "      <th>product_name</th>\n",
       "      <th>brand_id</th>\n",
       "      <th>category_id</th>\n",
       "      <th>model_year</th>\n",
       "      <th>list_price</th>\n",
       "    </tr>\n",
       "  </thead>\n",
       "  <tbody>\n",
       "    <tr>\n",
       "      <th>0</th>\n",
       "      <td>1</td>\n",
       "      <td>Trek 820 - 2016</td>\n",
       "      <td>9</td>\n",
       "      <td>6</td>\n",
       "      <td>2016</td>\n",
       "      <td>379.99</td>\n",
       "    </tr>\n",
       "    <tr>\n",
       "      <th>1</th>\n",
       "      <td>2</td>\n",
       "      <td>Ritchey Timberwolf Frameset - 2016</td>\n",
       "      <td>5</td>\n",
       "      <td>6</td>\n",
       "      <td>2016</td>\n",
       "      <td>749.99</td>\n",
       "    </tr>\n",
       "    <tr>\n",
       "      <th>2</th>\n",
       "      <td>3</td>\n",
       "      <td>Surly Wednesday Frameset - 2016</td>\n",
       "      <td>8</td>\n",
       "      <td>6</td>\n",
       "      <td>2016</td>\n",
       "      <td>999.99</td>\n",
       "    </tr>\n",
       "    <tr>\n",
       "      <th>3</th>\n",
       "      <td>4</td>\n",
       "      <td>Trek Fuel EX 8 29 - 2016</td>\n",
       "      <td>9</td>\n",
       "      <td>6</td>\n",
       "      <td>2016</td>\n",
       "      <td>2899.99</td>\n",
       "    </tr>\n",
       "    <tr>\n",
       "      <th>4</th>\n",
       "      <td>5</td>\n",
       "      <td>Heller Shagamaw Frame - 2016</td>\n",
       "      <td>3</td>\n",
       "      <td>6</td>\n",
       "      <td>2016</td>\n",
       "      <td>1320.99</td>\n",
       "    </tr>\n",
       "  </tbody>\n",
       "</table>\n",
       "</div>"
      ],
      "text/plain": [
       "   product_id                        product_name  brand_id  category_id  \\\n",
       "0           1                     Trek 820 - 2016         9            6   \n",
       "1           2  Ritchey Timberwolf Frameset - 2016         5            6   \n",
       "2           3     Surly Wednesday Frameset - 2016         8            6   \n",
       "3           4            Trek Fuel EX 8 29 - 2016         9            6   \n",
       "4           5        Heller Shagamaw Frame - 2016         3            6   \n",
       "\n",
       "   model_year  list_price  \n",
       "0        2016      379.99  \n",
       "1        2016      749.99  \n",
       "2        2016      999.99  \n",
       "3        2016     2899.99  \n",
       "4        2016     1320.99  "
      ]
     },
     "execution_count": 1,
     "metadata": {},
     "output_type": "execute_result"
    }
   ],
   "source": [
    "\n",
    "import numpy as np # linear algebra\n",
    "import pandas as pd # data processing, CSV file I/O (e.g. pd.read_csv)\n",
    "stud = pd.read_csv(\"/kaggle/input/anlise-preditiva-de-evaso-acadmica/data.csv\",sep=\";\")\n",
    "prod = pd.read_csv(\"/kaggle/input/bike-store-sample-database/products.csv\")\n",
    "prod.head()"
   ]
  },
  {
   "cell_type": "markdown",
   "id": "59752a1e",
   "metadata": {
    "papermill": {
     "duration": 0.020844,
     "end_time": "2024-06-12T12:38:22.632339",
     "exception": false,
     "start_time": "2024-06-12T12:38:22.611495",
     "status": "completed"
    },
    "tags": []
   },
   "source": [
    "# 2. Funções do Pandas"
   ]
  },
  {
   "cell_type": "code",
   "execution_count": 2,
   "id": "3fd03f96",
   "metadata": {
    "execution": {
     "iopub.execute_input": "2024-06-12T12:38:22.674492Z",
     "iopub.status.busy": "2024-06-12T12:38:22.674111Z",
     "iopub.status.idle": "2024-06-12T12:38:22.690260Z",
     "shell.execute_reply": "2024-06-12T12:38:22.689248Z"
    },
    "papermill": {
     "duration": 0.040153,
     "end_time": "2024-06-12T12:38:22.692455",
     "exception": false,
     "start_time": "2024-06-12T12:38:22.652302",
     "status": "completed"
    },
    "tags": []
   },
   "outputs": [
    {
     "data": {
      "text/plain": [
       "Target\n",
       "Graduate    0.499322\n",
       "Dropout     0.321203\n",
       "Enrolled    0.179476\n",
       "Name: proportion, dtype: float64"
      ]
     },
     "execution_count": 2,
     "metadata": {},
     "output_type": "execute_result"
    }
   ],
   "source": [
    "# Qual a proporção de Dropouts\n",
    "stud[\"Target\"].value_counts(1)"
   ]
  },
  {
   "cell_type": "code",
   "execution_count": 3,
   "id": "bd20871a",
   "metadata": {
    "execution": {
     "iopub.execute_input": "2024-06-12T12:38:22.735216Z",
     "iopub.status.busy": "2024-06-12T12:38:22.733936Z",
     "iopub.status.idle": "2024-06-12T12:38:22.749464Z",
     "shell.execute_reply": "2024-06-12T12:38:22.748317Z"
    },
    "papermill": {
     "duration": 0.039373,
     "end_time": "2024-06-12T12:38:22.751945",
     "exception": false,
     "start_time": "2024-06-12T12:38:22.712572",
     "status": "completed"
    },
    "tags": []
   },
   "outputs": [
    {
     "data": {
      "text/plain": [
       "Target\n",
       "Dropout     1.283955\n",
       "Enrolled    1.211713\n",
       "Graduate    1.197918\n",
       "Name: Inflation rate, dtype: float64"
      ]
     },
     "execution_count": 3,
     "metadata": {},
     "output_type": "execute_result"
    }
   ],
   "source": [
    "# Qual a média de inflação para cada tipo de target\n",
    "stud.groupby(\"Target\")[\"Inflation rate\"].mean()"
   ]
  },
  {
   "cell_type": "markdown",
   "id": "63642c64",
   "metadata": {
    "papermill": {
     "duration": 0.019937,
     "end_time": "2024-06-12T12:38:22.792282",
     "exception": false,
     "start_time": "2024-06-12T12:38:22.772345",
     "status": "completed"
    },
    "tags": []
   },
   "source": [
    "****Como podemos ver, temos uma taxa de evasão (dropout) bem alta, cerca de 32% dos alunos deixam a graduação. Quando olhamos a inflação do momento em que o aluno se graduou (Graduate) ou deixou a universidade (Dropout), temos uma diferença de 0.07. Como a taxa está em %, estamos falando de 0.07%, o que não seria tão alto assim. Em outras palavras, a inflação parece não ter correlação com a decisão do aluno de evadir o curso."
   ]
  },
  {
   "cell_type": "markdown",
   "id": "fd11a185",
   "metadata": {
    "papermill": {
     "duration": 0.019953,
     "end_time": "2024-06-12T12:38:22.832318",
     "exception": false,
     "start_time": "2024-06-12T12:38:22.812365",
     "status": "completed"
    },
    "tags": []
   },
   "source": [
    "# 2.1. Pivotamento de Tabelas (Pivot Tables)"
   ]
  },
  {
   "cell_type": "code",
   "execution_count": 4,
   "id": "904ebd85",
   "metadata": {
    "execution": {
     "iopub.execute_input": "2024-06-12T12:38:22.874640Z",
     "iopub.status.busy": "2024-06-12T12:38:22.874260Z",
     "iopub.status.idle": "2024-06-12T12:38:22.906391Z",
     "shell.execute_reply": "2024-06-12T12:38:22.905342Z"
    },
    "papermill": {
     "duration": 0.056135,
     "end_time": "2024-06-12T12:38:22.908793",
     "exception": false,
     "start_time": "2024-06-12T12:38:22.852658",
     "status": "completed"
    },
    "tags": []
   },
   "outputs": [
    {
     "data": {
      "text/html": [
       "<div>\n",
       "<style scoped>\n",
       "    .dataframe tbody tr th:only-of-type {\n",
       "        vertical-align: middle;\n",
       "    }\n",
       "\n",
       "    .dataframe tbody tr th {\n",
       "        vertical-align: top;\n",
       "    }\n",
       "\n",
       "    .dataframe thead th {\n",
       "        text-align: right;\n",
       "    }\n",
       "</style>\n",
       "<table border=\"1\" class=\"dataframe\">\n",
       "  <thead>\n",
       "    <tr style=\"text-align: right;\">\n",
       "      <th>Marital status</th>\n",
       "      <th>1</th>\n",
       "      <th>2</th>\n",
       "      <th>3</th>\n",
       "      <th>4</th>\n",
       "      <th>5</th>\n",
       "      <th>6</th>\n",
       "    </tr>\n",
       "    <tr>\n",
       "      <th>Target</th>\n",
       "      <th></th>\n",
       "      <th></th>\n",
       "      <th></th>\n",
       "      <th></th>\n",
       "      <th></th>\n",
       "      <th></th>\n",
       "    </tr>\n",
       "  </thead>\n",
       "  <tbody>\n",
       "    <tr>\n",
       "      <th>Dropout</th>\n",
       "      <td>1.282601</td>\n",
       "      <td>1.300559</td>\n",
       "      <td>1.40</td>\n",
       "      <td>1.269048</td>\n",
       "      <td>1.354545</td>\n",
       "      <td>0.875</td>\n",
       "    </tr>\n",
       "    <tr>\n",
       "      <th>Enrolled</th>\n",
       "      <td>1.220694</td>\n",
       "      <td>1.003846</td>\n",
       "      <td>2.55</td>\n",
       "      <td>1.593750</td>\n",
       "      <td>-0.333333</td>\n",
       "      <td>1.400</td>\n",
       "    </tr>\n",
       "    <tr>\n",
       "      <th>Graduate</th>\n",
       "      <td>1.193499</td>\n",
       "      <td>1.216216</td>\n",
       "      <td>-0.80</td>\n",
       "      <td>1.163636</td>\n",
       "      <td>2.181818</td>\n",
       "      <td>-0.300</td>\n",
       "    </tr>\n",
       "  </tbody>\n",
       "</table>\n",
       "</div>"
      ],
      "text/plain": [
       "Marital status         1         2     3         4         5      6\n",
       "Target                                                             \n",
       "Dropout         1.282601  1.300559  1.40  1.269048  1.354545  0.875\n",
       "Enrolled        1.220694  1.003846  2.55  1.593750 -0.333333  1.400\n",
       "Graduate        1.193499  1.216216 -0.80  1.163636  2.181818 -0.300"
      ]
     },
     "execution_count": 4,
     "metadata": {},
     "output_type": "execute_result"
    }
   ],
   "source": [
    "stud.pivot_table(index='Target', columns='Marital status', values='Inflation rate', aggfunc='mean')"
   ]
  },
  {
   "cell_type": "markdown",
   "id": "83236655",
   "metadata": {
    "papermill": {
     "duration": 0.020415,
     "end_time": "2024-06-12T12:38:22.949877",
     "exception": false,
     "start_time": "2024-06-12T12:38:22.929462",
     "status": "completed"
    },
    "tags": []
   },
   "source": [
    "****Agora utilizando uma tabela dinâmica, utilizando o Target e o Marital Status, podemos tirar a média de evasão por status matrimônial, isso é impresisonante pois nos deixa analisar de formas diferentes os dados."
   ]
  },
  {
   "cell_type": "code",
   "execution_count": 5,
   "id": "b236ff30",
   "metadata": {
    "execution": {
     "iopub.execute_input": "2024-06-12T12:38:22.992768Z",
     "iopub.status.busy": "2024-06-12T12:38:22.991972Z",
     "iopub.status.idle": "2024-06-12T12:38:23.021625Z",
     "shell.execute_reply": "2024-06-12T12:38:23.020516Z"
    },
    "papermill": {
     "duration": 0.053971,
     "end_time": "2024-06-12T12:38:23.024113",
     "exception": false,
     "start_time": "2024-06-12T12:38:22.970142",
     "status": "completed"
    },
    "tags": []
   },
   "outputs": [
    {
     "data": {
      "text/html": [
       "<div>\n",
       "<style scoped>\n",
       "    .dataframe tbody tr th:only-of-type {\n",
       "        vertical-align: middle;\n",
       "    }\n",
       "\n",
       "    .dataframe tbody tr th {\n",
       "        vertical-align: top;\n",
       "    }\n",
       "\n",
       "    .dataframe thead tr th {\n",
       "        text-align: left;\n",
       "    }\n",
       "\n",
       "    .dataframe thead tr:last-of-type th {\n",
       "        text-align: right;\n",
       "    }\n",
       "</style>\n",
       "<table border=\"1\" class=\"dataframe\">\n",
       "  <thead>\n",
       "    <tr>\n",
       "      <th>Daytime/evening attendance</th>\n",
       "      <th colspan=\"6\" halign=\"left\">0</th>\n",
       "      <th colspan=\"6\" halign=\"left\">1</th>\n",
       "    </tr>\n",
       "    <tr>\n",
       "      <th>Marital status</th>\n",
       "      <th>1</th>\n",
       "      <th>2</th>\n",
       "      <th>3</th>\n",
       "      <th>4</th>\n",
       "      <th>5</th>\n",
       "      <th>6</th>\n",
       "      <th>1</th>\n",
       "      <th>2</th>\n",
       "      <th>3</th>\n",
       "      <th>4</th>\n",
       "      <th>5</th>\n",
       "      <th>6</th>\n",
       "    </tr>\n",
       "    <tr>\n",
       "      <th>Target</th>\n",
       "      <th></th>\n",
       "      <th></th>\n",
       "      <th></th>\n",
       "      <th></th>\n",
       "      <th></th>\n",
       "      <th></th>\n",
       "      <th></th>\n",
       "      <th></th>\n",
       "      <th></th>\n",
       "      <th></th>\n",
       "      <th></th>\n",
       "      <th></th>\n",
       "    </tr>\n",
       "  </thead>\n",
       "  <tbody>\n",
       "    <tr>\n",
       "      <th>Dropout</th>\n",
       "      <td>128.471774</td>\n",
       "      <td>130.476471</td>\n",
       "      <td>NaN</td>\n",
       "      <td>127.733333</td>\n",
       "      <td>120.0</td>\n",
       "      <td>122.5</td>\n",
       "      <td>131.537736</td>\n",
       "      <td>129.937838</td>\n",
       "      <td>135.0</td>\n",
       "      <td>130.753333</td>\n",
       "      <td>143.5500</td>\n",
       "      <td>133.1</td>\n",
       "    </tr>\n",
       "    <tr>\n",
       "      <th>Enrolled</th>\n",
       "      <td>128.863415</td>\n",
       "      <td>133.296000</td>\n",
       "      <td>NaN</td>\n",
       "      <td>135.400000</td>\n",
       "      <td>NaN</td>\n",
       "      <td>133.1</td>\n",
       "      <td>131.172607</td>\n",
       "      <td>129.177778</td>\n",
       "      <td>154.0</td>\n",
       "      <td>137.412500</td>\n",
       "      <td>128.7000</td>\n",
       "      <td>NaN</td>\n",
       "    </tr>\n",
       "    <tr>\n",
       "      <th>Graduate</th>\n",
       "      <td>132.313333</td>\n",
       "      <td>131.133784</td>\n",
       "      <td>120.0</td>\n",
       "      <td>138.388235</td>\n",
       "      <td>120.0</td>\n",
       "      <td>133.1</td>\n",
       "      <td>134.495393</td>\n",
       "      <td>130.505405</td>\n",
       "      <td>NaN</td>\n",
       "      <td>126.593750</td>\n",
       "      <td>132.1375</td>\n",
       "      <td>NaN</td>\n",
       "    </tr>\n",
       "  </tbody>\n",
       "</table>\n",
       "</div>"
      ],
      "text/plain": [
       "Daytime/evening attendance\t           0                                        \\\n",
       "Marital status                        1           2      3           4      5   \n",
       "Target                                                                          \n",
       "Dropout                      128.471774  130.476471    NaN  127.733333  120.0   \n",
       "Enrolled                     128.863415  133.296000    NaN  135.400000    NaN   \n",
       "Graduate                     132.313333  131.133784  120.0  138.388235  120.0   \n",
       "\n",
       "Daytime/evening attendance\t                  1                                 \\\n",
       "Marital status                   6           1           2      3           4   \n",
       "Target                                                                          \n",
       "Dropout                      122.5  131.537736  129.937838  135.0  130.753333   \n",
       "Enrolled                     133.1  131.172607  129.177778  154.0  137.412500   \n",
       "Graduate                     133.1  134.495393  130.505405    NaN  126.593750   \n",
       "\n",
       "Daytime/evening attendance\t                   \n",
       "Marital status                      5      6  \n",
       "Target                                        \n",
       "Dropout                      143.5500  133.1  \n",
       "Enrolled                     128.7000    NaN  \n",
       "Graduate                     132.1375    NaN  "
      ]
     },
     "execution_count": 5,
     "metadata": {},
     "output_type": "execute_result"
    }
   ],
   "source": [
    "stud.pivot_table(index='Target',\n",
    "                 columns = ['Daytime/evening attendance\\t', 'Marital status'],\n",
    "                 values = 'Previous qualification (grade)',\n",
    "                 aggfunc = 'mean'\n",
    "                )"
   ]
  },
  {
   "cell_type": "markdown",
   "id": "4667a624",
   "metadata": {
    "papermill": {
     "duration": 0.021111,
     "end_time": "2024-06-12T12:38:23.066164",
     "exception": false,
     "start_time": "2024-06-12T12:38:23.045053",
     "status": "completed"
    },
    "tags": []
   },
   "source": [
    "**Veja que agora a gente além de quebrar por tipo de target e por matrimônio, ainda olhamos para o horário que a pessoa atendia às aulas. Ou seja, você conseguirá diferenciar a nota da última qualificação (previous qualification (grade)) do solteiro que evadiu e estuda à noite do solteiro que evadiu e estuda de dia (além de todos os outros status, claro). Imagine o quanto que isso será poderoso nas suas análises!**"
   ]
  },
  {
   "cell_type": "markdown",
   "id": "e4b27a89",
   "metadata": {
    "papermill": {
     "duration": 0.080355,
     "end_time": "2024-06-12T12:38:23.168304",
     "exception": false,
     "start_time": "2024-06-12T12:38:23.087949",
     "status": "completed"
    },
    "tags": []
   },
   "source": [
    "# 2.2 Formatação Condicional"
   ]
  },
  {
   "cell_type": "code",
   "execution_count": 6,
   "id": "1529d86f",
   "metadata": {
    "execution": {
     "iopub.execute_input": "2024-06-12T12:38:23.212989Z",
     "iopub.status.busy": "2024-06-12T12:38:23.212610Z",
     "iopub.status.idle": "2024-06-12T12:38:23.222981Z",
     "shell.execute_reply": "2024-06-12T12:38:23.222014Z"
    },
    "papermill": {
     "duration": 0.035251,
     "end_time": "2024-06-12T12:38:23.225082",
     "exception": false,
     "start_time": "2024-06-12T12:38:23.189831",
     "status": "completed"
    },
    "tags": []
   },
   "outputs": [
    {
     "data": {
      "text/html": [
       "<div>\n",
       "<style scoped>\n",
       "    .dataframe tbody tr th:only-of-type {\n",
       "        vertical-align: middle;\n",
       "    }\n",
       "\n",
       "    .dataframe tbody tr th {\n",
       "        vertical-align: top;\n",
       "    }\n",
       "\n",
       "    .dataframe thead th {\n",
       "        text-align: right;\n",
       "    }\n",
       "</style>\n",
       "<table border=\"1\" class=\"dataframe\">\n",
       "  <thead>\n",
       "    <tr style=\"text-align: right;\">\n",
       "      <th></th>\n",
       "      <th>A</th>\n",
       "      <th>B</th>\n",
       "    </tr>\n",
       "  </thead>\n",
       "  <tbody>\n",
       "    <tr>\n",
       "      <th>0</th>\n",
       "      <td>9</td>\n",
       "      <td>-1</td>\n",
       "    </tr>\n",
       "    <tr>\n",
       "      <th>1</th>\n",
       "      <td>-7</td>\n",
       "      <td>3</td>\n",
       "    </tr>\n",
       "    <tr>\n",
       "      <th>2</th>\n",
       "      <td>5</td>\n",
       "      <td>-4</td>\n",
       "    </tr>\n",
       "  </tbody>\n",
       "</table>\n",
       "</div>"
      ],
      "text/plain": [
       "   A  B\n",
       "0  9 -1\n",
       "1 -7  3\n",
       "2  5 -4"
      ]
     },
     "execution_count": 6,
     "metadata": {},
     "output_type": "execute_result"
    }
   ],
   "source": [
    "# Criando um DataFrame simples\n",
    "df = pd.DataFrame({\n",
    "    'A': [9, -7, 5],\n",
    "    'B': [-1, 3, -4]\n",
    "})\n",
    "\n",
    "df"
   ]
  },
  {
   "cell_type": "code",
   "execution_count": 7,
   "id": "7da9f6ee",
   "metadata": {
    "execution": {
     "iopub.execute_input": "2024-06-12T12:38:23.270858Z",
     "iopub.status.busy": "2024-06-12T12:38:23.269881Z",
     "iopub.status.idle": "2024-06-12T12:38:23.358844Z",
     "shell.execute_reply": "2024-06-12T12:38:23.357921Z"
    },
    "papermill": {
     "duration": 0.114855,
     "end_time": "2024-06-12T12:38:23.361186",
     "exception": false,
     "start_time": "2024-06-12T12:38:23.246331",
     "status": "completed"
    },
    "tags": []
   },
   "outputs": [
    {
     "data": {
      "text/html": [
       "<style type=\"text/css\">\n",
       "#T_54539_row0_col0, #T_54539_row1_col1, #T_54539_row2_col0 {\n",
       "  color: #008000;\n",
       "}\n",
       "#T_54539_row0_col1, #T_54539_row1_col0, #T_54539_row2_col1 {\n",
       "  color: #FF0000;\n",
       "}\n",
       "</style>\n",
       "<table id=\"T_54539\">\n",
       "  <thead>\n",
       "    <tr>\n",
       "      <th class=\"blank level0\" >&nbsp;</th>\n",
       "      <th id=\"T_54539_level0_col0\" class=\"col_heading level0 col0\" >A</th>\n",
       "      <th id=\"T_54539_level0_col1\" class=\"col_heading level0 col1\" >B</th>\n",
       "    </tr>\n",
       "  </thead>\n",
       "  <tbody>\n",
       "    <tr>\n",
       "      <th id=\"T_54539_level0_row0\" class=\"row_heading level0 row0\" >0</th>\n",
       "      <td id=\"T_54539_row0_col0\" class=\"data row0 col0\" >9</td>\n",
       "      <td id=\"T_54539_row0_col1\" class=\"data row0 col1\" >-1</td>\n",
       "    </tr>\n",
       "    <tr>\n",
       "      <th id=\"T_54539_level0_row1\" class=\"row_heading level0 row1\" >1</th>\n",
       "      <td id=\"T_54539_row1_col0\" class=\"data row1 col0\" >-7</td>\n",
       "      <td id=\"T_54539_row1_col1\" class=\"data row1 col1\" >3</td>\n",
       "    </tr>\n",
       "    <tr>\n",
       "      <th id=\"T_54539_level0_row2\" class=\"row_heading level0 row2\" >2</th>\n",
       "      <td id=\"T_54539_row2_col0\" class=\"data row2 col0\" >5</td>\n",
       "      <td id=\"T_54539_row2_col1\" class=\"data row2 col1\" >-4</td>\n",
       "    </tr>\n",
       "  </tbody>\n",
       "</table>\n"
      ],
      "text/plain": [
       "<pandas.io.formats.style.Styler at 0x7804a54fd330>"
      ]
     },
     "metadata": {},
     "output_type": "display_data"
    }
   ],
   "source": [
    "# Definindo uma função para aplicar a coloração\n",
    "def color_positive_negative(val):\n",
    "    color = '#008000' if val > 0 else '#FF0000'\n",
    "    return 'color: %s'% color\n",
    "\n",
    "# Aplicando a coloração ao DataFrame\n",
    "styled_df = df.style.map(color_positive_negative)\n",
    "display(styled_df)"
   ]
  },
  {
   "cell_type": "code",
   "execution_count": 8,
   "id": "889f10fd",
   "metadata": {
    "execution": {
     "iopub.execute_input": "2024-06-12T12:38:23.407273Z",
     "iopub.status.busy": "2024-06-12T12:38:23.406082Z",
     "iopub.status.idle": "2024-06-12T12:38:23.421514Z",
     "shell.execute_reply": "2024-06-12T12:38:23.420514Z"
    },
    "papermill": {
     "duration": 0.041083,
     "end_time": "2024-06-12T12:38:23.423936",
     "exception": false,
     "start_time": "2024-06-12T12:38:23.382853",
     "status": "completed"
    },
    "tags": []
   },
   "outputs": [
    {
     "data": {
      "text/html": [
       "<style type=\"text/css\">\n",
       "#T_b02ae_row0_col0, #T_b02ae_row1_col1 {\n",
       "  color: green;\n",
       "}\n",
       "#T_b02ae_row1_col0, #T_b02ae_row2_col1 {\n",
       "  color: red;\n",
       "}\n",
       "</style>\n",
       "<table id=\"T_b02ae\">\n",
       "  <thead>\n",
       "    <tr>\n",
       "      <th class=\"blank level0\" >&nbsp;</th>\n",
       "      <th id=\"T_b02ae_level0_col0\" class=\"col_heading level0 col0\" >A</th>\n",
       "      <th id=\"T_b02ae_level0_col1\" class=\"col_heading level0 col1\" >B</th>\n",
       "    </tr>\n",
       "  </thead>\n",
       "  <tbody>\n",
       "    <tr>\n",
       "      <th id=\"T_b02ae_level0_row0\" class=\"row_heading level0 row0\" >0</th>\n",
       "      <td id=\"T_b02ae_row0_col0\" class=\"data row0 col0\" >9</td>\n",
       "      <td id=\"T_b02ae_row0_col1\" class=\"data row0 col1\" >-1</td>\n",
       "    </tr>\n",
       "    <tr>\n",
       "      <th id=\"T_b02ae_level0_row1\" class=\"row_heading level0 row1\" >1</th>\n",
       "      <td id=\"T_b02ae_row1_col0\" class=\"data row1 col0\" >-7</td>\n",
       "      <td id=\"T_b02ae_row1_col1\" class=\"data row1 col1\" >3</td>\n",
       "    </tr>\n",
       "    <tr>\n",
       "      <th id=\"T_b02ae_level0_row2\" class=\"row_heading level0 row2\" >2</th>\n",
       "      <td id=\"T_b02ae_row2_col0\" class=\"data row2 col0\" >5</td>\n",
       "      <td id=\"T_b02ae_row2_col1\" class=\"data row2 col1\" >-4</td>\n",
       "    </tr>\n",
       "  </tbody>\n",
       "</table>\n"
      ],
      "text/plain": [
       "<pandas.io.formats.style.Styler at 0x780493193ac0>"
      ]
     },
     "metadata": {},
     "output_type": "display_data"
    }
   ],
   "source": [
    "# Defube a função que destaca máximo e mínimo\n",
    "def highlight_max_min(s):\n",
    "    is_max = s == s.max()\n",
    "    is_min = s == s.min()\n",
    "    return ['color: green' if v_max else 'color: red' if v_min else '' for v_max, v_min in zip (is_max, is_min)]\n",
    "\n",
    "# Aplica formatação condicional\n",
    "styled_df = df.style.apply(highlight_max_min)\n",
    "display(styled_df)"
   ]
  },
  {
   "cell_type": "markdown",
   "id": "de8972b1",
   "metadata": {
    "papermill": {
     "duration": 0.021537,
     "end_time": "2024-06-12T12:38:23.467320",
     "exception": false,
     "start_time": "2024-06-12T12:38:23.445783",
     "status": "completed"
    },
    "tags": []
   },
   "source": [
    "**Agora vamos utilizar formatação condicional em uma tabela dinâmica**"
   ]
  },
  {
   "cell_type": "code",
   "execution_count": 9,
   "id": "72c24adc",
   "metadata": {
    "execution": {
     "iopub.execute_input": "2024-06-12T12:38:23.512954Z",
     "iopub.status.busy": "2024-06-12T12:38:23.512562Z",
     "iopub.status.idle": "2024-06-12T12:38:23.530318Z",
     "shell.execute_reply": "2024-06-12T12:38:23.529332Z"
    },
    "papermill": {
     "duration": 0.042999,
     "end_time": "2024-06-12T12:38:23.532703",
     "exception": false,
     "start_time": "2024-06-12T12:38:23.489704",
     "status": "completed"
    },
    "tags": []
   },
   "outputs": [
    {
     "data": {
      "text/html": [
       "<div>\n",
       "<style scoped>\n",
       "    .dataframe tbody tr th:only-of-type {\n",
       "        vertical-align: middle;\n",
       "    }\n",
       "\n",
       "    .dataframe tbody tr th {\n",
       "        vertical-align: top;\n",
       "    }\n",
       "\n",
       "    .dataframe thead th {\n",
       "        text-align: right;\n",
       "    }\n",
       "</style>\n",
       "<table border=\"1\" class=\"dataframe\">\n",
       "  <thead>\n",
       "    <tr style=\"text-align: right;\">\n",
       "      <th>Target</th>\n",
       "      <th>Dropout</th>\n",
       "      <th>Enrolled</th>\n",
       "      <th>Graduate</th>\n",
       "    </tr>\n",
       "    <tr>\n",
       "      <th>Marital status</th>\n",
       "      <th></th>\n",
       "      <th></th>\n",
       "      <th></th>\n",
       "    </tr>\n",
       "  </thead>\n",
       "  <tbody>\n",
       "    <tr>\n",
       "      <th>1</th>\n",
       "      <td>131.216639</td>\n",
       "      <td>131.041111</td>\n",
       "      <td>134.381687</td>\n",
       "    </tr>\n",
       "    <tr>\n",
       "      <th>2</th>\n",
       "      <td>130.142458</td>\n",
       "      <td>131.157692</td>\n",
       "      <td>130.819595</td>\n",
       "    </tr>\n",
       "    <tr>\n",
       "      <th>3</th>\n",
       "      <td>135.000000</td>\n",
       "      <td>154.000000</td>\n",
       "      <td>120.000000</td>\n",
       "    </tr>\n",
       "    <tr>\n",
       "      <th>4</th>\n",
       "      <td>129.890476</td>\n",
       "      <td>136.406250</td>\n",
       "      <td>132.669697</td>\n",
       "    </tr>\n",
       "    <tr>\n",
       "      <th>5</th>\n",
       "      <td>141.409091</td>\n",
       "      <td>128.700000</td>\n",
       "      <td>128.827273</td>\n",
       "    </tr>\n",
       "    <tr>\n",
       "      <th>6</th>\n",
       "      <td>127.800000</td>\n",
       "      <td>133.100000</td>\n",
       "      <td>133.100000</td>\n",
       "    </tr>\n",
       "  </tbody>\n",
       "</table>\n",
       "</div>"
      ],
      "text/plain": [
       "Target             Dropout    Enrolled    Graduate\n",
       "Marital status                                    \n",
       "1               131.216639  131.041111  134.381687\n",
       "2               130.142458  131.157692  130.819595\n",
       "3               135.000000  154.000000  120.000000\n",
       "4               129.890476  136.406250  132.669697\n",
       "5               141.409091  128.700000  128.827273\n",
       "6               127.800000  133.100000  133.100000"
      ]
     },
     "execution_count": 9,
     "metadata": {},
     "output_type": "execute_result"
    }
   ],
   "source": [
    "pivot_df = stud.pivot_table(index = 'Marital status',\n",
    "                    columns = ['Target'],\n",
    "                    values = 'Previous qualification (grade)',\n",
    "                    aggfunc = 'mean'\n",
    "                    )\n",
    "pivot_df"
   ]
  },
  {
   "cell_type": "code",
   "execution_count": 10,
   "id": "49808cf4",
   "metadata": {
    "execution": {
     "iopub.execute_input": "2024-06-12T12:38:23.577453Z",
     "iopub.status.busy": "2024-06-12T12:38:23.577105Z",
     "iopub.status.idle": "2024-06-12T12:38:23.590127Z",
     "shell.execute_reply": "2024-06-12T12:38:23.588970Z"
    },
    "papermill": {
     "duration": 0.038002,
     "end_time": "2024-06-12T12:38:23.592399",
     "exception": false,
     "start_time": "2024-06-12T12:38:23.554397",
     "status": "completed"
    },
    "tags": []
   },
   "outputs": [
    {
     "data": {
      "text/html": [
       "<style type=\"text/css\">\n",
       "#T_07c58_row0_col2, #T_07c58_row2_col1, #T_07c58_row4_col0 {\n",
       "  background-color: lightgreen;\n",
       "}\n",
       "#T_07c58_row2_col2, #T_07c58_row4_col1, #T_07c58_row5_col0 {\n",
       "  background-color: yellow;\n",
       "}\n",
       "</style>\n",
       "<table id=\"T_07c58\">\n",
       "  <thead>\n",
       "    <tr>\n",
       "      <th class=\"index_name level0\" >Target</th>\n",
       "      <th id=\"T_07c58_level0_col0\" class=\"col_heading level0 col0\" >Dropout</th>\n",
       "      <th id=\"T_07c58_level0_col1\" class=\"col_heading level0 col1\" >Enrolled</th>\n",
       "      <th id=\"T_07c58_level0_col2\" class=\"col_heading level0 col2\" >Graduate</th>\n",
       "    </tr>\n",
       "    <tr>\n",
       "      <th class=\"index_name level0\" >Marital status</th>\n",
       "      <th class=\"blank col0\" >&nbsp;</th>\n",
       "      <th class=\"blank col1\" >&nbsp;</th>\n",
       "      <th class=\"blank col2\" >&nbsp;</th>\n",
       "    </tr>\n",
       "  </thead>\n",
       "  <tbody>\n",
       "    <tr>\n",
       "      <th id=\"T_07c58_level0_row0\" class=\"row_heading level0 row0\" >1</th>\n",
       "      <td id=\"T_07c58_row0_col0\" class=\"data row0 col0\" >131.216639</td>\n",
       "      <td id=\"T_07c58_row0_col1\" class=\"data row0 col1\" >131.041111</td>\n",
       "      <td id=\"T_07c58_row0_col2\" class=\"data row0 col2\" >134.381687</td>\n",
       "    </tr>\n",
       "    <tr>\n",
       "      <th id=\"T_07c58_level0_row1\" class=\"row_heading level0 row1\" >2</th>\n",
       "      <td id=\"T_07c58_row1_col0\" class=\"data row1 col0\" >130.142458</td>\n",
       "      <td id=\"T_07c58_row1_col1\" class=\"data row1 col1\" >131.157692</td>\n",
       "      <td id=\"T_07c58_row1_col2\" class=\"data row1 col2\" >130.819595</td>\n",
       "    </tr>\n",
       "    <tr>\n",
       "      <th id=\"T_07c58_level0_row2\" class=\"row_heading level0 row2\" >3</th>\n",
       "      <td id=\"T_07c58_row2_col0\" class=\"data row2 col0\" >135.000000</td>\n",
       "      <td id=\"T_07c58_row2_col1\" class=\"data row2 col1\" >154.000000</td>\n",
       "      <td id=\"T_07c58_row2_col2\" class=\"data row2 col2\" >120.000000</td>\n",
       "    </tr>\n",
       "    <tr>\n",
       "      <th id=\"T_07c58_level0_row3\" class=\"row_heading level0 row3\" >4</th>\n",
       "      <td id=\"T_07c58_row3_col0\" class=\"data row3 col0\" >129.890476</td>\n",
       "      <td id=\"T_07c58_row3_col1\" class=\"data row3 col1\" >136.406250</td>\n",
       "      <td id=\"T_07c58_row3_col2\" class=\"data row3 col2\" >132.669697</td>\n",
       "    </tr>\n",
       "    <tr>\n",
       "      <th id=\"T_07c58_level0_row4\" class=\"row_heading level0 row4\" >5</th>\n",
       "      <td id=\"T_07c58_row4_col0\" class=\"data row4 col0\" >141.409091</td>\n",
       "      <td id=\"T_07c58_row4_col1\" class=\"data row4 col1\" >128.700000</td>\n",
       "      <td id=\"T_07c58_row4_col2\" class=\"data row4 col2\" >128.827273</td>\n",
       "    </tr>\n",
       "    <tr>\n",
       "      <th id=\"T_07c58_level0_row5\" class=\"row_heading level0 row5\" >6</th>\n",
       "      <td id=\"T_07c58_row5_col0\" class=\"data row5 col0\" >127.800000</td>\n",
       "      <td id=\"T_07c58_row5_col1\" class=\"data row5 col1\" >133.100000</td>\n",
       "      <td id=\"T_07c58_row5_col2\" class=\"data row5 col2\" >133.100000</td>\n",
       "    </tr>\n",
       "  </tbody>\n",
       "</table>\n"
      ],
      "text/plain": [
       "<pandas.io.formats.style.Styler at 0x780493245cf0>"
      ]
     },
     "metadata": {},
     "output_type": "display_data"
    }
   ],
   "source": [
    "def highlight_max_min(data):\n",
    "    styles = data.copy()\n",
    "    for col in data.columns:\n",
    "        max_val = data[col].max()\n",
    "        min_val = data[col].min()\n",
    "        styles[col] = ['background-color: lightgreen' if v == max_val else 'background-color: yellow'\n",
    "                      if v== min_val else '' for v in data[col]\n",
    "                      ]\n",
    "    return styles\n",
    "\n",
    "styled_df = pivot_df.style.apply(highlight_max_min, axis = None)\n",
    "display(styled_df)"
   ]
  },
  {
   "cell_type": "markdown",
   "id": "2dcfae38",
   "metadata": {
    "papermill": {
     "duration": 0.021485,
     "end_time": "2024-06-12T12:38:23.635406",
     "exception": false,
     "start_time": "2024-06-12T12:38:23.613921",
     "status": "completed"
    },
    "tags": []
   },
   "source": [
    "# 2.3 Usando a função agg no Pandas"
   ]
  },
  {
   "cell_type": "markdown",
   "id": "f908a3d0",
   "metadata": {
    "papermill": {
     "duration": 0.021916,
     "end_time": "2024-06-12T12:38:23.679267",
     "exception": false,
     "start_time": "2024-06-12T12:38:23.657351",
     "status": "completed"
    },
    "tags": []
   },
   "source": [
    "Nós já vimos como gerar algumas estatísticas para as colunas, de forma isolada, e para agrupamentos de categorias no Pandas. Entretanto, ainda não vimos como poderíamos montar uma tabela com diversas estatísticas descritivas para diferentes colunas. A função agg é usada para aplicar estes tipos de operações de agregação a colunas do DataFrame!"
   ]
  },
  {
   "cell_type": "code",
   "execution_count": 11,
   "id": "9b621ab5",
   "metadata": {
    "execution": {
     "iopub.execute_input": "2024-06-12T12:38:23.724970Z",
     "iopub.status.busy": "2024-06-12T12:38:23.724110Z",
     "iopub.status.idle": "2024-06-12T12:38:23.734411Z",
     "shell.execute_reply": "2024-06-12T12:38:23.733193Z"
    },
    "papermill": {
     "duration": 0.035795,
     "end_time": "2024-06-12T12:38:23.736821",
     "exception": false,
     "start_time": "2024-06-12T12:38:23.701026",
     "status": "completed"
    },
    "tags": []
   },
   "outputs": [
    {
     "name": "stdout",
     "output_type": "stream",
     "text": [
      "Marital status                                       1.178571\n",
      "Application mode                                    18.669078\n",
      "Application order                                    1.727848\n",
      "Course                                            8856.642631\n",
      "Daytime/evening attendance\\t                         0.890823\n",
      "Previous qualification                               4.577758\n",
      "Previous qualification (grade)                     132.613314\n",
      "Nacionality                                          1.873192\n",
      "Mother's qualification                              19.561935\n",
      "Father's qualification                              22.275316\n",
      "Mother's occupation                                 10.960895\n",
      "Father's occupation                                 11.032324\n",
      "Admission grade                                    126.978119\n",
      "Displaced                                            0.548373\n",
      "Educational special needs                            0.011528\n",
      "Debtor                                               0.113698\n",
      "Tuition fees up to date                              0.880651\n",
      "Gender                                               0.351718\n",
      "Scholarship holder                                   0.248418\n",
      "Age at enrollment                                   23.265145\n",
      "International                                        0.024864\n",
      "Curricular units 1st sem (credited)                  0.709991\n",
      "Curricular units 1st sem (enrolled)                  6.270570\n",
      "Curricular units 1st sem (evaluations)               8.299051\n",
      "Curricular units 1st sem (approved)                  4.706600\n",
      "Curricular units 1st sem (grade)                    10.640822\n",
      "Curricular units 1st sem (without evaluations)       0.137658\n",
      "Curricular units 2nd sem (credited)                  0.541817\n",
      "Curricular units 2nd sem (enrolled)                  6.232143\n",
      "Curricular units 2nd sem (evaluations)               8.063291\n",
      "Curricular units 2nd sem (approved)                  4.435805\n",
      "Curricular units 2nd sem (grade)                    10.230206\n",
      "Curricular units 2nd sem (without evaluations)       0.150316\n",
      "Unemployment rate                                   11.566139\n",
      "Inflation rate                                       1.228029\n",
      "GDP                                                  0.001969\n",
      "dtype: float64\n"
     ]
    }
   ],
   "source": [
    "# Filtrar apenas colunas numéricas\n",
    "numeric_cols = stud.select_dtypes(include=[np.number])\n",
    "\n",
    "# Calcular a média das colunas numéricas\n",
    "mean_values = numeric_cols.agg(\"mean\", axis=0)\n",
    "print(mean_values)\n"
   ]
  },
  {
   "cell_type": "code",
   "execution_count": 12,
   "id": "89f69816",
   "metadata": {
    "execution": {
     "iopub.execute_input": "2024-06-12T12:38:23.783138Z",
     "iopub.status.busy": "2024-06-12T12:38:23.782089Z",
     "iopub.status.idle": "2024-06-12T12:38:23.836818Z",
     "shell.execute_reply": "2024-06-12T12:38:23.835836Z"
    },
    "papermill": {
     "duration": 0.079961,
     "end_time": "2024-06-12T12:38:23.839133",
     "exception": false,
     "start_time": "2024-06-12T12:38:23.759172",
     "status": "completed"
    },
    "tags": []
   },
   "outputs": [
    {
     "data": {
      "text/html": [
       "<div>\n",
       "<style scoped>\n",
       "    .dataframe tbody tr th:only-of-type {\n",
       "        vertical-align: middle;\n",
       "    }\n",
       "\n",
       "    .dataframe tbody tr th {\n",
       "        vertical-align: top;\n",
       "    }\n",
       "\n",
       "    .dataframe thead th {\n",
       "        text-align: right;\n",
       "    }\n",
       "</style>\n",
       "<table border=\"1\" class=\"dataframe\">\n",
       "  <thead>\n",
       "    <tr style=\"text-align: right;\">\n",
       "      <th></th>\n",
       "      <th>Marital status</th>\n",
       "      <th>Application mode</th>\n",
       "      <th>Application order</th>\n",
       "      <th>Course</th>\n",
       "      <th>Daytime/evening attendance\\t</th>\n",
       "      <th>Previous qualification</th>\n",
       "      <th>Previous qualification (grade)</th>\n",
       "      <th>Nacionality</th>\n",
       "      <th>Mother's qualification</th>\n",
       "      <th>Father's qualification</th>\n",
       "      <th>...</th>\n",
       "      <th>Curricular units 1st sem (without evaluations)</th>\n",
       "      <th>Curricular units 2nd sem (credited)</th>\n",
       "      <th>Curricular units 2nd sem (enrolled)</th>\n",
       "      <th>Curricular units 2nd sem (evaluations)</th>\n",
       "      <th>Curricular units 2nd sem (approved)</th>\n",
       "      <th>Curricular units 2nd sem (grade)</th>\n",
       "      <th>Curricular units 2nd sem (without evaluations)</th>\n",
       "      <th>Unemployment rate</th>\n",
       "      <th>Inflation rate</th>\n",
       "      <th>GDP</th>\n",
       "    </tr>\n",
       "  </thead>\n",
       "  <tbody>\n",
       "    <tr>\n",
       "      <th>sum</th>\n",
       "      <td>5214.000000</td>\n",
       "      <td>82592.000000</td>\n",
       "      <td>7644.000000</td>\n",
       "      <td>3.918179e+07</td>\n",
       "      <td>3941.000000</td>\n",
       "      <td>20252.000000</td>\n",
       "      <td>586681.300000</td>\n",
       "      <td>8287.000000</td>\n",
       "      <td>86542.000000</td>\n",
       "      <td>98546.000000</td>\n",
       "      <td>...</td>\n",
       "      <td>609.000000</td>\n",
       "      <td>2397.000000</td>\n",
       "      <td>27571.000000</td>\n",
       "      <td>35672.000000</td>\n",
       "      <td>19624.000000</td>\n",
       "      <td>45258.430117</td>\n",
       "      <td>665.000000</td>\n",
       "      <td>51168.600000</td>\n",
       "      <td>5432.800000</td>\n",
       "      <td>8.710000</td>\n",
       "    </tr>\n",
       "    <tr>\n",
       "      <th>mean</th>\n",
       "      <td>1.178571</td>\n",
       "      <td>18.669078</td>\n",
       "      <td>1.727848</td>\n",
       "      <td>8.856643e+03</td>\n",
       "      <td>0.890823</td>\n",
       "      <td>4.577758</td>\n",
       "      <td>132.613314</td>\n",
       "      <td>1.873192</td>\n",
       "      <td>19.561935</td>\n",
       "      <td>22.275316</td>\n",
       "      <td>...</td>\n",
       "      <td>0.137658</td>\n",
       "      <td>0.541817</td>\n",
       "      <td>6.232143</td>\n",
       "      <td>8.063291</td>\n",
       "      <td>4.435805</td>\n",
       "      <td>10.230206</td>\n",
       "      <td>0.150316</td>\n",
       "      <td>11.566139</td>\n",
       "      <td>1.228029</td>\n",
       "      <td>0.001969</td>\n",
       "    </tr>\n",
       "    <tr>\n",
       "      <th>min</th>\n",
       "      <td>1.000000</td>\n",
       "      <td>1.000000</td>\n",
       "      <td>0.000000</td>\n",
       "      <td>3.300000e+01</td>\n",
       "      <td>0.000000</td>\n",
       "      <td>1.000000</td>\n",
       "      <td>95.000000</td>\n",
       "      <td>1.000000</td>\n",
       "      <td>1.000000</td>\n",
       "      <td>1.000000</td>\n",
       "      <td>...</td>\n",
       "      <td>0.000000</td>\n",
       "      <td>0.000000</td>\n",
       "      <td>0.000000</td>\n",
       "      <td>0.000000</td>\n",
       "      <td>0.000000</td>\n",
       "      <td>0.000000</td>\n",
       "      <td>0.000000</td>\n",
       "      <td>7.600000</td>\n",
       "      <td>-0.800000</td>\n",
       "      <td>-4.060000</td>\n",
       "    </tr>\n",
       "  </tbody>\n",
       "</table>\n",
       "<p>3 rows × 36 columns</p>\n",
       "</div>"
      ],
      "text/plain": [
       "      Marital status  Application mode  Application order        Course  \\\n",
       "sum      5214.000000      82592.000000        7644.000000  3.918179e+07   \n",
       "mean        1.178571         18.669078           1.727848  8.856643e+03   \n",
       "min         1.000000          1.000000           0.000000  3.300000e+01   \n",
       "\n",
       "      Daytime/evening attendance\\t  Previous qualification  \\\n",
       "sum                    3941.000000            20252.000000   \n",
       "mean                      0.890823                4.577758   \n",
       "min                       0.000000                1.000000   \n",
       "\n",
       "      Previous qualification (grade)  Nacionality  Mother's qualification  \\\n",
       "sum                    586681.300000  8287.000000            86542.000000   \n",
       "mean                      132.613314     1.873192               19.561935   \n",
       "min                        95.000000     1.000000                1.000000   \n",
       "\n",
       "      Father's qualification  ...  \\\n",
       "sum             98546.000000  ...   \n",
       "mean               22.275316  ...   \n",
       "min                 1.000000  ...   \n",
       "\n",
       "      Curricular units 1st sem (without evaluations)  \\\n",
       "sum                                       609.000000   \n",
       "mean                                        0.137658   \n",
       "min                                         0.000000   \n",
       "\n",
       "      Curricular units 2nd sem (credited)  \\\n",
       "sum                           2397.000000   \n",
       "mean                             0.541817   \n",
       "min                              0.000000   \n",
       "\n",
       "      Curricular units 2nd sem (enrolled)  \\\n",
       "sum                          27571.000000   \n",
       "mean                             6.232143   \n",
       "min                              0.000000   \n",
       "\n",
       "      Curricular units 2nd sem (evaluations)  \\\n",
       "sum                             35672.000000   \n",
       "mean                                8.063291   \n",
       "min                                 0.000000   \n",
       "\n",
       "      Curricular units 2nd sem (approved)  Curricular units 2nd sem (grade)  \\\n",
       "sum                          19624.000000                      45258.430117   \n",
       "mean                             4.435805                         10.230206   \n",
       "min                              0.000000                          0.000000   \n",
       "\n",
       "      Curricular units 2nd sem (without evaluations)  Unemployment rate  \\\n",
       "sum                                       665.000000       51168.600000   \n",
       "mean                                        0.150316          11.566139   \n",
       "min                                         0.000000           7.600000   \n",
       "\n",
       "      Inflation rate       GDP  \n",
       "sum      5432.800000  8.710000  \n",
       "mean        1.228029  0.001969  \n",
       "min        -0.800000 -4.060000  \n",
       "\n",
       "[3 rows x 36 columns]"
      ]
     },
     "execution_count": 12,
     "metadata": {},
     "output_type": "execute_result"
    }
   ],
   "source": [
    "\n",
    "numeric_cols.agg(['sum', 'mean', 'min'], axis=0)\n"
   ]
  },
  {
   "cell_type": "markdown",
   "id": "1297561b",
   "metadata": {
    "papermill": {
     "duration": 0.021934,
     "end_time": "2024-06-12T12:38:23.884226",
     "exception": false,
     "start_time": "2024-06-12T12:38:23.862292",
     "status": "completed"
    },
    "tags": []
   },
   "source": [
    "Olha que interessante, a função agg permite que você crie sua própria tabela descritiva. Ao invés do describe(), você pode criar algo com o agg e as estatísticas que mais atendem às suas necessidades, incluindo ainda funções que você mesmo tenha criado:"
   ]
  },
  {
   "cell_type": "code",
   "execution_count": 13,
   "id": "5464944e",
   "metadata": {
    "execution": {
     "iopub.execute_input": "2024-06-12T12:38:23.930539Z",
     "iopub.status.busy": "2024-06-12T12:38:23.930168Z",
     "iopub.status.idle": "2024-06-12T12:38:23.997969Z",
     "shell.execute_reply": "2024-06-12T12:38:23.996877Z"
    },
    "papermill": {
     "duration": 0.093971,
     "end_time": "2024-06-12T12:38:24.000630",
     "exception": false,
     "start_time": "2024-06-12T12:38:23.906659",
     "status": "completed"
    },
    "tags": []
   },
   "outputs": [
    {
     "data": {
      "text/html": [
       "<div>\n",
       "<style scoped>\n",
       "    .dataframe tbody tr th:only-of-type {\n",
       "        vertical-align: middle;\n",
       "    }\n",
       "\n",
       "    .dataframe tbody tr th {\n",
       "        vertical-align: top;\n",
       "    }\n",
       "\n",
       "    .dataframe thead th {\n",
       "        text-align: right;\n",
       "    }\n",
       "</style>\n",
       "<table border=\"1\" class=\"dataframe\">\n",
       "  <thead>\n",
       "    <tr style=\"text-align: right;\">\n",
       "      <th></th>\n",
       "      <th>Marital status</th>\n",
       "      <th>Application mode</th>\n",
       "      <th>Application order</th>\n",
       "      <th>Course</th>\n",
       "      <th>Daytime/evening attendance\\t</th>\n",
       "      <th>Previous qualification</th>\n",
       "      <th>Previous qualification (grade)</th>\n",
       "      <th>Nacionality</th>\n",
       "      <th>Mother's qualification</th>\n",
       "      <th>Father's qualification</th>\n",
       "      <th>...</th>\n",
       "      <th>Curricular units 1st sem (without evaluations)</th>\n",
       "      <th>Curricular units 2nd sem (credited)</th>\n",
       "      <th>Curricular units 2nd sem (enrolled)</th>\n",
       "      <th>Curricular units 2nd sem (evaluations)</th>\n",
       "      <th>Curricular units 2nd sem (approved)</th>\n",
       "      <th>Curricular units 2nd sem (grade)</th>\n",
       "      <th>Curricular units 2nd sem (without evaluations)</th>\n",
       "      <th>Unemployment rate</th>\n",
       "      <th>Inflation rate</th>\n",
       "      <th>GDP</th>\n",
       "    </tr>\n",
       "  </thead>\n",
       "  <tbody>\n",
       "    <tr>\n",
       "      <th>sum</th>\n",
       "      <td>5214.000000</td>\n",
       "      <td>82592.000000</td>\n",
       "      <td>7644.000000</td>\n",
       "      <td>3.918179e+07</td>\n",
       "      <td>3941.000000</td>\n",
       "      <td>20252.000000</td>\n",
       "      <td>586681.300000</td>\n",
       "      <td>8287.000000</td>\n",
       "      <td>86542.000000</td>\n",
       "      <td>98546.000000</td>\n",
       "      <td>...</td>\n",
       "      <td>609.000000</td>\n",
       "      <td>2397.000000</td>\n",
       "      <td>27571.000000</td>\n",
       "      <td>35672.000000</td>\n",
       "      <td>19624.000000</td>\n",
       "      <td>45258.430117</td>\n",
       "      <td>665.000000</td>\n",
       "      <td>51168.600000</td>\n",
       "      <td>5432.800000</td>\n",
       "      <td>8.710000</td>\n",
       "    </tr>\n",
       "    <tr>\n",
       "      <th>mean</th>\n",
       "      <td>1.178571</td>\n",
       "      <td>18.669078</td>\n",
       "      <td>1.727848</td>\n",
       "      <td>8.856643e+03</td>\n",
       "      <td>0.890823</td>\n",
       "      <td>4.577758</td>\n",
       "      <td>132.613314</td>\n",
       "      <td>1.873192</td>\n",
       "      <td>19.561935</td>\n",
       "      <td>22.275316</td>\n",
       "      <td>...</td>\n",
       "      <td>0.137658</td>\n",
       "      <td>0.541817</td>\n",
       "      <td>6.232143</td>\n",
       "      <td>8.063291</td>\n",
       "      <td>4.435805</td>\n",
       "      <td>10.230206</td>\n",
       "      <td>0.150316</td>\n",
       "      <td>11.566139</td>\n",
       "      <td>1.228029</td>\n",
       "      <td>0.001969</td>\n",
       "    </tr>\n",
       "    <tr>\n",
       "      <th>min</th>\n",
       "      <td>1.000000</td>\n",
       "      <td>1.000000</td>\n",
       "      <td>0.000000</td>\n",
       "      <td>3.300000e+01</td>\n",
       "      <td>0.000000</td>\n",
       "      <td>1.000000</td>\n",
       "      <td>95.000000</td>\n",
       "      <td>1.000000</td>\n",
       "      <td>1.000000</td>\n",
       "      <td>1.000000</td>\n",
       "      <td>...</td>\n",
       "      <td>0.000000</td>\n",
       "      <td>0.000000</td>\n",
       "      <td>0.000000</td>\n",
       "      <td>0.000000</td>\n",
       "      <td>0.000000</td>\n",
       "      <td>0.000000</td>\n",
       "      <td>0.000000</td>\n",
       "      <td>7.600000</td>\n",
       "      <td>-0.800000</td>\n",
       "      <td>-4.060000</td>\n",
       "    </tr>\n",
       "    <tr>\n",
       "      <th>max</th>\n",
       "      <td>6.000000</td>\n",
       "      <td>57.000000</td>\n",
       "      <td>9.000000</td>\n",
       "      <td>9.991000e+03</td>\n",
       "      <td>1.000000</td>\n",
       "      <td>43.000000</td>\n",
       "      <td>190.000000</td>\n",
       "      <td>109.000000</td>\n",
       "      <td>44.000000</td>\n",
       "      <td>44.000000</td>\n",
       "      <td>...</td>\n",
       "      <td>12.000000</td>\n",
       "      <td>19.000000</td>\n",
       "      <td>23.000000</td>\n",
       "      <td>33.000000</td>\n",
       "      <td>20.000000</td>\n",
       "      <td>18.571429</td>\n",
       "      <td>12.000000</td>\n",
       "      <td>16.200000</td>\n",
       "      <td>3.700000</td>\n",
       "      <td>3.510000</td>\n",
       "    </tr>\n",
       "    <tr>\n",
       "      <th>amplitude</th>\n",
       "      <td>5.000000</td>\n",
       "      <td>56.000000</td>\n",
       "      <td>9.000000</td>\n",
       "      <td>9.958000e+03</td>\n",
       "      <td>1.000000</td>\n",
       "      <td>42.000000</td>\n",
       "      <td>95.000000</td>\n",
       "      <td>108.000000</td>\n",
       "      <td>43.000000</td>\n",
       "      <td>43.000000</td>\n",
       "      <td>...</td>\n",
       "      <td>12.000000</td>\n",
       "      <td>19.000000</td>\n",
       "      <td>23.000000</td>\n",
       "      <td>33.000000</td>\n",
       "      <td>20.000000</td>\n",
       "      <td>18.571429</td>\n",
       "      <td>12.000000</td>\n",
       "      <td>8.600000</td>\n",
       "      <td>4.500000</td>\n",
       "      <td>7.570000</td>\n",
       "    </tr>\n",
       "  </tbody>\n",
       "</table>\n",
       "<p>5 rows × 36 columns</p>\n",
       "</div>"
      ],
      "text/plain": [
       "           Marital status  Application mode  Application order        Course  \\\n",
       "sum           5214.000000      82592.000000        7644.000000  3.918179e+07   \n",
       "mean             1.178571         18.669078           1.727848  8.856643e+03   \n",
       "min              1.000000          1.000000           0.000000  3.300000e+01   \n",
       "max              6.000000         57.000000           9.000000  9.991000e+03   \n",
       "amplitude        5.000000         56.000000           9.000000  9.958000e+03   \n",
       "\n",
       "           Daytime/evening attendance\\t  Previous qualification  \\\n",
       "sum                         3941.000000            20252.000000   \n",
       "mean                           0.890823                4.577758   \n",
       "min                            0.000000                1.000000   \n",
       "max                            1.000000               43.000000   \n",
       "amplitude                      1.000000               42.000000   \n",
       "\n",
       "           Previous qualification (grade)  Nacionality  \\\n",
       "sum                         586681.300000  8287.000000   \n",
       "mean                           132.613314     1.873192   \n",
       "min                             95.000000     1.000000   \n",
       "max                            190.000000   109.000000   \n",
       "amplitude                       95.000000   108.000000   \n",
       "\n",
       "           Mother's qualification  Father's qualification  ...  \\\n",
       "sum                  86542.000000            98546.000000  ...   \n",
       "mean                    19.561935               22.275316  ...   \n",
       "min                      1.000000                1.000000  ...   \n",
       "max                     44.000000               44.000000  ...   \n",
       "amplitude               43.000000               43.000000  ...   \n",
       "\n",
       "           Curricular units 1st sem (without evaluations)  \\\n",
       "sum                                            609.000000   \n",
       "mean                                             0.137658   \n",
       "min                                              0.000000   \n",
       "max                                             12.000000   \n",
       "amplitude                                       12.000000   \n",
       "\n",
       "           Curricular units 2nd sem (credited)  \\\n",
       "sum                                2397.000000   \n",
       "mean                                  0.541817   \n",
       "min                                   0.000000   \n",
       "max                                  19.000000   \n",
       "amplitude                            19.000000   \n",
       "\n",
       "           Curricular units 2nd sem (enrolled)  \\\n",
       "sum                               27571.000000   \n",
       "mean                                  6.232143   \n",
       "min                                   0.000000   \n",
       "max                                  23.000000   \n",
       "amplitude                            23.000000   \n",
       "\n",
       "           Curricular units 2nd sem (evaluations)  \\\n",
       "sum                                  35672.000000   \n",
       "mean                                     8.063291   \n",
       "min                                      0.000000   \n",
       "max                                     33.000000   \n",
       "amplitude                               33.000000   \n",
       "\n",
       "           Curricular units 2nd sem (approved)  \\\n",
       "sum                               19624.000000   \n",
       "mean                                  4.435805   \n",
       "min                                   0.000000   \n",
       "max                                  20.000000   \n",
       "amplitude                            20.000000   \n",
       "\n",
       "           Curricular units 2nd sem (grade)  \\\n",
       "sum                            45258.430117   \n",
       "mean                              10.230206   \n",
       "min                                0.000000   \n",
       "max                               18.571429   \n",
       "amplitude                         18.571429   \n",
       "\n",
       "           Curricular units 2nd sem (without evaluations)  Unemployment rate  \\\n",
       "sum                                            665.000000       51168.600000   \n",
       "mean                                             0.150316          11.566139   \n",
       "min                                              0.000000           7.600000   \n",
       "max                                             12.000000          16.200000   \n",
       "amplitude                                       12.000000           8.600000   \n",
       "\n",
       "           Inflation rate       GDP  \n",
       "sum           5432.800000  8.710000  \n",
       "mean             1.228029  0.001969  \n",
       "min             -0.800000 -4.060000  \n",
       "max              3.700000  3.510000  \n",
       "amplitude        4.500000  7.570000  \n",
       "\n",
       "[5 rows x 36 columns]"
      ]
     },
     "execution_count": 13,
     "metadata": {},
     "output_type": "execute_result"
    }
   ],
   "source": [
    "# Função de amplitude\n",
    "def amplitude(series):\n",
    "    return series.max() - series.min()\n",
    "\n",
    "# Selecionar apenas as colunas numéricas\n",
    "numeric_cols = stud.select_dtypes(include=[np.number])\n",
    "\n",
    "# Aplicar funções de agregação apenas às colunas numéricas\n",
    "numeric_cols.agg(['sum', 'mean', 'min', 'max', amplitude])\n",
    "\n"
   ]
  },
  {
   "cell_type": "markdown",
   "id": "c00a38d0",
   "metadata": {
    "papermill": {
     "duration": 0.021971,
     "end_time": "2024-06-12T12:38:24.045423",
     "exception": false,
     "start_time": "2024-06-12T12:38:24.023452",
     "status": "completed"
    },
    "tags": []
   },
   "source": [
    "# 3. Unindo Diferentes Datasets"
   ]
  },
  {
   "cell_type": "markdown",
   "id": "24c138eb",
   "metadata": {
    "papermill": {
     "duration": 0.022135,
     "end_time": "2024-06-12T12:38:24.089808",
     "exception": false,
     "start_time": "2024-06-12T12:38:24.067673",
     "status": "completed"
    },
    "tags": []
   },
   "source": [
    "Uma das tarefas mais comuns no mercado de trabalho é você precisar unir diferentes datasets. Pense comigo, a empresa não consegue guardar todas as informações em um único local, não é sequer a melhor solução, a mais otimizada. A maioria das empresas vai ter um dataset de cadastro dos clientes, um contendo as compras feitas, um com informações de geolocalização e por aí vai. Agora, vamos pensar num exemplo real que acontece a todo o tempo nas empresas: imagine que o seu chefe peça para você levantar a informação de qual estado possui os maiores consumidores, em termos de dinheiro gasto, da sua empresa . Basicamente, você vai precisar pegar a informação de geolocalização e unir com a informação de compras. O que você precisará fazer: primeiro, resumir as informações de compras, agrupando e somando o que cada cliente gastou. Na sequência, você vai \"plugar\" a informação de geolocalização na informação de compras feitas. Por fim, precisaremos fazer um novo agrupamento, dessa vez, por estado. Abaixo, temos um desenho do processo que precisaria ser feito:"
   ]
  },
  {
   "cell_type": "code",
   "execution_count": 14,
   "id": "b212677c",
   "metadata": {
    "execution": {
     "iopub.execute_input": "2024-06-12T12:38:24.136702Z",
     "iopub.status.busy": "2024-06-12T12:38:24.136305Z",
     "iopub.status.idle": "2024-06-12T12:38:24.144078Z",
     "shell.execute_reply": "2024-06-12T12:38:24.142818Z"
    },
    "papermill": {
     "duration": 0.033927,
     "end_time": "2024-06-12T12:38:24.146288",
     "exception": false,
     "start_time": "2024-06-12T12:38:24.112361",
     "status": "completed"
    },
    "tags": []
   },
   "outputs": [],
   "source": [
    "# Criando o dataframe \"compras\"\n",
    "compras = pd.DataFrame({\n",
    "'id_cliente': ['AA00', 'AA00', 'BB01', 'BB01', 'BB01', 'CC02', 'CC02', 'CC02', 'CC02', 'CC02'],\n",
    "'data_compra': ['2023-01-01', '2023-01-05', '2023-01-10', '2023-01-15', '2023-01-20',\n",
    "'2023-01-25', '2023-01-30', '2023-02-01', '2023-02-05', '2023-02-10'],\n",
    "'valor_compra': [100, 150, 200, 250, 300, 350, 400, 450, 500, 550]\n",
    "})\n",
    "\n",
    "# Criando o dataframe \"geolocalizacao\"\n",
    "geolocalizacao = pd.DataFrame({\n",
    "'id_cliente': ['AA00', 'BB01', 'CC02', 'DD03', 'EE04'],\n",
    "'estado': ['São Paulo', 'São Paulo', 'Minas Gerais', 'Bahia', 'Pernambuco']\n",
    "})"
   ]
  },
  {
   "cell_type": "markdown",
   "id": "fb16d617",
   "metadata": {
    "papermill": {
     "duration": 0.022383,
     "end_time": "2024-06-12T12:38:24.191255",
     "exception": false,
     "start_time": "2024-06-12T12:38:24.168872",
     "status": "completed"
    },
    "tags": []
   },
   "source": [
    "Se quiser, pode dar uma conferida nas tabelas criadas. Nem precisa usar .head(), pois elas são pequenas, justamente para conseguirmos acompanhar as transformações:"
   ]
  },
  {
   "cell_type": "code",
   "execution_count": 15,
   "id": "b84d241b",
   "metadata": {
    "execution": {
     "iopub.execute_input": "2024-06-12T12:38:24.237483Z",
     "iopub.status.busy": "2024-06-12T12:38:24.237130Z",
     "iopub.status.idle": "2024-06-12T12:38:24.247928Z",
     "shell.execute_reply": "2024-06-12T12:38:24.246944Z"
    },
    "papermill": {
     "duration": 0.036611,
     "end_time": "2024-06-12T12:38:24.250232",
     "exception": false,
     "start_time": "2024-06-12T12:38:24.213621",
     "status": "completed"
    },
    "tags": []
   },
   "outputs": [
    {
     "data": {
      "text/html": [
       "<div>\n",
       "<style scoped>\n",
       "    .dataframe tbody tr th:only-of-type {\n",
       "        vertical-align: middle;\n",
       "    }\n",
       "\n",
       "    .dataframe tbody tr th {\n",
       "        vertical-align: top;\n",
       "    }\n",
       "\n",
       "    .dataframe thead th {\n",
       "        text-align: right;\n",
       "    }\n",
       "</style>\n",
       "<table border=\"1\" class=\"dataframe\">\n",
       "  <thead>\n",
       "    <tr style=\"text-align: right;\">\n",
       "      <th></th>\n",
       "      <th>id_cliente</th>\n",
       "      <th>data_compra</th>\n",
       "      <th>valor_compra</th>\n",
       "    </tr>\n",
       "  </thead>\n",
       "  <tbody>\n",
       "    <tr>\n",
       "      <th>0</th>\n",
       "      <td>AA00</td>\n",
       "      <td>2023-01-01</td>\n",
       "      <td>100</td>\n",
       "    </tr>\n",
       "    <tr>\n",
       "      <th>1</th>\n",
       "      <td>AA00</td>\n",
       "      <td>2023-01-05</td>\n",
       "      <td>150</td>\n",
       "    </tr>\n",
       "    <tr>\n",
       "      <th>2</th>\n",
       "      <td>BB01</td>\n",
       "      <td>2023-01-10</td>\n",
       "      <td>200</td>\n",
       "    </tr>\n",
       "    <tr>\n",
       "      <th>3</th>\n",
       "      <td>BB01</td>\n",
       "      <td>2023-01-15</td>\n",
       "      <td>250</td>\n",
       "    </tr>\n",
       "    <tr>\n",
       "      <th>4</th>\n",
       "      <td>BB01</td>\n",
       "      <td>2023-01-20</td>\n",
       "      <td>300</td>\n",
       "    </tr>\n",
       "    <tr>\n",
       "      <th>5</th>\n",
       "      <td>CC02</td>\n",
       "      <td>2023-01-25</td>\n",
       "      <td>350</td>\n",
       "    </tr>\n",
       "    <tr>\n",
       "      <th>6</th>\n",
       "      <td>CC02</td>\n",
       "      <td>2023-01-30</td>\n",
       "      <td>400</td>\n",
       "    </tr>\n",
       "    <tr>\n",
       "      <th>7</th>\n",
       "      <td>CC02</td>\n",
       "      <td>2023-02-01</td>\n",
       "      <td>450</td>\n",
       "    </tr>\n",
       "    <tr>\n",
       "      <th>8</th>\n",
       "      <td>CC02</td>\n",
       "      <td>2023-02-05</td>\n",
       "      <td>500</td>\n",
       "    </tr>\n",
       "    <tr>\n",
       "      <th>9</th>\n",
       "      <td>CC02</td>\n",
       "      <td>2023-02-10</td>\n",
       "      <td>550</td>\n",
       "    </tr>\n",
       "  </tbody>\n",
       "</table>\n",
       "</div>"
      ],
      "text/plain": [
       "  id_cliente data_compra  valor_compra\n",
       "0       AA00  2023-01-01           100\n",
       "1       AA00  2023-01-05           150\n",
       "2       BB01  2023-01-10           200\n",
       "3       BB01  2023-01-15           250\n",
       "4       BB01  2023-01-20           300\n",
       "5       CC02  2023-01-25           350\n",
       "6       CC02  2023-01-30           400\n",
       "7       CC02  2023-02-01           450\n",
       "8       CC02  2023-02-05           500\n",
       "9       CC02  2023-02-10           550"
      ]
     },
     "execution_count": 15,
     "metadata": {},
     "output_type": "execute_result"
    }
   ],
   "source": [
    "compras"
   ]
  },
  {
   "cell_type": "code",
   "execution_count": 16,
   "id": "1250c1ad",
   "metadata": {
    "execution": {
     "iopub.execute_input": "2024-06-12T12:38:24.297887Z",
     "iopub.status.busy": "2024-06-12T12:38:24.297513Z",
     "iopub.status.idle": "2024-06-12T12:38:24.307607Z",
     "shell.execute_reply": "2024-06-12T12:38:24.306580Z"
    },
    "papermill": {
     "duration": 0.036783,
     "end_time": "2024-06-12T12:38:24.309825",
     "exception": false,
     "start_time": "2024-06-12T12:38:24.273042",
     "status": "completed"
    },
    "tags": []
   },
   "outputs": [
    {
     "data": {
      "text/html": [
       "<div>\n",
       "<style scoped>\n",
       "    .dataframe tbody tr th:only-of-type {\n",
       "        vertical-align: middle;\n",
       "    }\n",
       "\n",
       "    .dataframe tbody tr th {\n",
       "        vertical-align: top;\n",
       "    }\n",
       "\n",
       "    .dataframe thead th {\n",
       "        text-align: right;\n",
       "    }\n",
       "</style>\n",
       "<table border=\"1\" class=\"dataframe\">\n",
       "  <thead>\n",
       "    <tr style=\"text-align: right;\">\n",
       "      <th></th>\n",
       "      <th>id_cliente</th>\n",
       "      <th>estado</th>\n",
       "    </tr>\n",
       "  </thead>\n",
       "  <tbody>\n",
       "    <tr>\n",
       "      <th>0</th>\n",
       "      <td>AA00</td>\n",
       "      <td>São Paulo</td>\n",
       "    </tr>\n",
       "    <tr>\n",
       "      <th>1</th>\n",
       "      <td>BB01</td>\n",
       "      <td>São Paulo</td>\n",
       "    </tr>\n",
       "    <tr>\n",
       "      <th>2</th>\n",
       "      <td>CC02</td>\n",
       "      <td>Minas Gerais</td>\n",
       "    </tr>\n",
       "    <tr>\n",
       "      <th>3</th>\n",
       "      <td>DD03</td>\n",
       "      <td>Bahia</td>\n",
       "    </tr>\n",
       "    <tr>\n",
       "      <th>4</th>\n",
       "      <td>EE04</td>\n",
       "      <td>Pernambuco</td>\n",
       "    </tr>\n",
       "  </tbody>\n",
       "</table>\n",
       "</div>"
      ],
      "text/plain": [
       "  id_cliente        estado\n",
       "0       AA00     São Paulo\n",
       "1       BB01     São Paulo\n",
       "2       CC02  Minas Gerais\n",
       "3       DD03         Bahia\n",
       "4       EE04    Pernambuco"
      ]
     },
     "execution_count": 16,
     "metadata": {},
     "output_type": "execute_result"
    }
   ],
   "source": [
    "geolocalizacao"
   ]
  },
  {
   "cell_type": "markdown",
   "id": "51b27c68",
   "metadata": {
    "papermill": {
     "duration": 0.026235,
     "end_time": "2024-06-12T12:38:24.358924",
     "exception": false,
     "start_time": "2024-06-12T12:38:24.332689",
     "status": "completed"
    },
    "tags": []
   },
   "source": [
    "No dia a dia da empresa, se você estiver inseguro quanto ao que está fazendo, recomendo muito fazer algo parecido. Crie uma tabela temporária, contendo apenas 5 linhas da tabela que irá receber as informações (no nosso caso, seria \"compras\") e vá acompanhando se o que está sendo feito bate com o resultado esperado. Depois, execute o código com todas as linhas! Isso vai garantir que o que está sendo feito está correto e ainda pode te poupar tempo, já que ir executando tudo com a tabela inteira, errando e fazendo ajustes, pode demorar muito mais!\n",
    "\n",
    "Bom, agora, vamos sumarizar a tabela compras. Precisamos somar as compras por cada id_cliente:"
   ]
  },
  {
   "cell_type": "code",
   "execution_count": 17,
   "id": "52aa593f",
   "metadata": {
    "execution": {
     "iopub.execute_input": "2024-06-12T12:38:24.406324Z",
     "iopub.status.busy": "2024-06-12T12:38:24.405928Z",
     "iopub.status.idle": "2024-06-12T12:38:24.420185Z",
     "shell.execute_reply": "2024-06-12T12:38:24.419028Z"
    },
    "papermill": {
     "duration": 0.040417,
     "end_time": "2024-06-12T12:38:24.422213",
     "exception": false,
     "start_time": "2024-06-12T12:38:24.381796",
     "status": "completed"
    },
    "tags": []
   },
   "outputs": [
    {
     "data": {
      "text/html": [
       "<div>\n",
       "<style scoped>\n",
       "    .dataframe tbody tr th:only-of-type {\n",
       "        vertical-align: middle;\n",
       "    }\n",
       "\n",
       "    .dataframe tbody tr th {\n",
       "        vertical-align: top;\n",
       "    }\n",
       "\n",
       "    .dataframe thead th {\n",
       "        text-align: right;\n",
       "    }\n",
       "</style>\n",
       "<table border=\"1\" class=\"dataframe\">\n",
       "  <thead>\n",
       "    <tr style=\"text-align: right;\">\n",
       "      <th></th>\n",
       "      <th>id_cliente</th>\n",
       "      <th>valor_compra</th>\n",
       "    </tr>\n",
       "  </thead>\n",
       "  <tbody>\n",
       "    <tr>\n",
       "      <th>0</th>\n",
       "      <td>AA00</td>\n",
       "      <td>250</td>\n",
       "    </tr>\n",
       "    <tr>\n",
       "      <th>1</th>\n",
       "      <td>BB01</td>\n",
       "      <td>750</td>\n",
       "    </tr>\n",
       "    <tr>\n",
       "      <th>2</th>\n",
       "      <td>CC02</td>\n",
       "      <td>2250</td>\n",
       "    </tr>\n",
       "  </tbody>\n",
       "</table>\n",
       "</div>"
      ],
      "text/plain": [
       "  id_cliente  valor_compra\n",
       "0       AA00           250\n",
       "1       BB01           750\n",
       "2       CC02          2250"
      ]
     },
     "execution_count": 17,
     "metadata": {},
     "output_type": "execute_result"
    }
   ],
   "source": [
    "compras_group = compras.groupby('id_cliente')['valor_compra'].sum().reset_index()\n",
    "compras_group"
   ]
  },
  {
   "cell_type": "markdown",
   "id": "13eff6db",
   "metadata": {
    "papermill": {
     "duration": 0.022688,
     "end_time": "2024-06-12T12:38:24.467929",
     "exception": false,
     "start_time": "2024-06-12T12:38:24.445241",
     "status": "completed"
    },
    "tags": []
   },
   "source": [
    "O groupby nós aprendemos semana passada, a única \"inovação\" de hoje é que o reset_index reseta o índice e mantém o formato de DataFrame para continuarmos trabalhando em cima destes dados. Agora, vem a parte que esta seção é dedicada: o join/merge! É hora de trazer informações de um outro DataFrame para o que estamos utilizando. Vamos fazer isso com um merge, na coluna id_cliente, do tipo left - ou seja, fixamos o DataFrame da esquerda, o inicial, e \"plugamos\" a informação do DataFrame à direita:"
   ]
  },
  {
   "cell_type": "code",
   "execution_count": 18,
   "id": "bfb47db8",
   "metadata": {
    "execution": {
     "iopub.execute_input": "2024-06-12T12:38:24.517126Z",
     "iopub.status.busy": "2024-06-12T12:38:24.516113Z",
     "iopub.status.idle": "2024-06-12T12:38:24.533937Z",
     "shell.execute_reply": "2024-06-12T12:38:24.532944Z"
    },
    "papermill": {
     "duration": 0.0442,
     "end_time": "2024-06-12T12:38:24.535975",
     "exception": false,
     "start_time": "2024-06-12T12:38:24.491775",
     "status": "completed"
    },
    "tags": []
   },
   "outputs": [
    {
     "data": {
      "text/html": [
       "<div>\n",
       "<style scoped>\n",
       "    .dataframe tbody tr th:only-of-type {\n",
       "        vertical-align: middle;\n",
       "    }\n",
       "\n",
       "    .dataframe tbody tr th {\n",
       "        vertical-align: top;\n",
       "    }\n",
       "\n",
       "    .dataframe thead th {\n",
       "        text-align: right;\n",
       "    }\n",
       "</style>\n",
       "<table border=\"1\" class=\"dataframe\">\n",
       "  <thead>\n",
       "    <tr style=\"text-align: right;\">\n",
       "      <th></th>\n",
       "      <th>id_cliente</th>\n",
       "      <th>valor_compra</th>\n",
       "      <th>estado</th>\n",
       "    </tr>\n",
       "  </thead>\n",
       "  <tbody>\n",
       "    <tr>\n",
       "      <th>0</th>\n",
       "      <td>AA00</td>\n",
       "      <td>250</td>\n",
       "      <td>São Paulo</td>\n",
       "    </tr>\n",
       "    <tr>\n",
       "      <th>1</th>\n",
       "      <td>BB01</td>\n",
       "      <td>750</td>\n",
       "      <td>São Paulo</td>\n",
       "    </tr>\n",
       "    <tr>\n",
       "      <th>2</th>\n",
       "      <td>CC02</td>\n",
       "      <td>2250</td>\n",
       "      <td>Minas Gerais</td>\n",
       "    </tr>\n",
       "  </tbody>\n",
       "</table>\n",
       "</div>"
      ],
      "text/plain": [
       "  id_cliente  valor_compra        estado\n",
       "0       AA00           250     São Paulo\n",
       "1       BB01           750     São Paulo\n",
       "2       CC02          2250  Minas Gerais"
      ]
     },
     "execution_count": 18,
     "metadata": {},
     "output_type": "execute_result"
    }
   ],
   "source": [
    "compras_group_geo = compras_group.merge(geolocalizacao, on='id_cliente',how='left')\n",
    "compras_group_geo"
   ]
  },
  {
   "cell_type": "code",
   "execution_count": 19,
   "id": "9dd3c93d",
   "metadata": {
    "execution": {
     "iopub.execute_input": "2024-06-12T12:38:24.584511Z",
     "iopub.status.busy": "2024-06-12T12:38:24.583783Z",
     "iopub.status.idle": "2024-06-12T12:38:24.594820Z",
     "shell.execute_reply": "2024-06-12T12:38:24.593885Z"
    },
    "papermill": {
     "duration": 0.037913,
     "end_time": "2024-06-12T12:38:24.597158",
     "exception": false,
     "start_time": "2024-06-12T12:38:24.559245",
     "status": "completed"
    },
    "tags": []
   },
   "outputs": [
    {
     "data": {
      "text/html": [
       "<div>\n",
       "<style scoped>\n",
       "    .dataframe tbody tr th:only-of-type {\n",
       "        vertical-align: middle;\n",
       "    }\n",
       "\n",
       "    .dataframe tbody tr th {\n",
       "        vertical-align: top;\n",
       "    }\n",
       "\n",
       "    .dataframe thead th {\n",
       "        text-align: right;\n",
       "    }\n",
       "</style>\n",
       "<table border=\"1\" class=\"dataframe\">\n",
       "  <thead>\n",
       "    <tr style=\"text-align: right;\">\n",
       "      <th></th>\n",
       "      <th>estado</th>\n",
       "      <th>valor_compra</th>\n",
       "    </tr>\n",
       "  </thead>\n",
       "  <tbody>\n",
       "    <tr>\n",
       "      <th>0</th>\n",
       "      <td>Minas Gerais</td>\n",
       "      <td>2250</td>\n",
       "    </tr>\n",
       "    <tr>\n",
       "      <th>1</th>\n",
       "      <td>São Paulo</td>\n",
       "      <td>1000</td>\n",
       "    </tr>\n",
       "  </tbody>\n",
       "</table>\n",
       "</div>"
      ],
      "text/plain": [
       "         estado  valor_compra\n",
       "0  Minas Gerais          2250\n",
       "1     São Paulo          1000"
      ]
     },
     "execution_count": 19,
     "metadata": {},
     "output_type": "execute_result"
    }
   ],
   "source": [
    "compras_group_geo = compras_group_geo.groupby('estado')['valor_compra'].sum().reset_index()\n",
    "compras_group_geo"
   ]
  },
  {
   "cell_type": "markdown",
   "id": "c6fdfdbe",
   "metadata": {
    "papermill": {
     "duration": 0.023526,
     "end_time": "2024-06-12T12:38:24.644768",
     "exception": false,
     "start_time": "2024-06-12T12:38:24.621242",
     "status": "completed"
    },
    "tags": []
   },
   "source": [
    "# Função merge\n",
    "\n",
    "* É uma função no Pandas que fornece uma interface mais genérica para combinar DataFrames com base em colunas ou índices comuns.\n",
    "* É mais flexível e permite especificar como deseja combinar os DataFrames (por exemplo, left, right, outer, inner).\n",
    "* Sintaxe: pd.merge(df1, df2, how='inner', on='coluna_chave')\n",
    "* É geralmente usada quando você deseja combinar DataFrames com base em colunas específicas.\n",
    "\n",
    "# Função join\n",
    "\n",
    "* É um método de um DataFrame que é uma abreviação conveniente para combinar DataFrames com base em seus índices. Por padrão, ele combina usando    * índices, mas você também pode especificar uma coluna.\n",
    "* Também permite especificar o tipo de junção, mas é mais comumente usado para junções baseadas em índices.\n",
    "* Sintaxe: df1.join(df2, on='coluna_chave')\n",
    "* É mais conveniente de usar quando você deseja combinar DataFrames com base em seus índices."
   ]
  },
  {
   "cell_type": "markdown",
   "id": "92b58e02",
   "metadata": {
    "papermill": {
     "duration": 0.023127,
     "end_time": "2024-06-12T12:38:24.692244",
     "exception": false,
     "start_time": "2024-06-12T12:38:24.669117",
     "status": "completed"
    },
    "tags": []
   },
   "source": [
    "Agora que você já entende, vamos falar um pouco do merge que fizemos. A sintaxe é bem simples, você passa os 2 dataframes que quer unir, sendo o primeiro o DataFrame que receberá informação e o segundo é de onde vamos trazer a informação. Agora, existem diversas formas de trazer a informação. Veja que, no nosso caso, nós fixamos o DataFrame compras e trouxemos a informação de geolocalização. Se a gente fixasse o de geolocalização, o resultado seria diferente, já que temos ids nele e que não estão no DataFrame de compras. Poderíamos também ter o caso de ter ids no primeiro DataFrame que não estão no segundo e precisaríamos decidir se vamos só agregar informação do segundo DataFrame ou se iríamos apenas trazer a intersecção entre os 2. Enfim, são várias formas diferentes e é o parâmetro how que define como os DataFrames serão unidos. Vejamos uma ilustração para ajudar a como decidir se você quer uma função merge com inner, left, right, etc:"
   ]
  },
  {
   "cell_type": "markdown",
   "id": "4eb18342",
   "metadata": {
    "papermill": {
     "duration": 0.023217,
     "end_time": "2024-06-12T12:38:24.739475",
     "exception": false,
     "start_time": "2024-06-12T12:38:24.716258",
     "status": "completed"
    },
    "tags": []
   },
   "source": [
    "![teste](https://harmash.com/tutorials/sql/self-join/eca2f76f-1266-4eb1-b654-a97922a676dc_type-of-joins.PNG)"
   ]
  },
  {
   "cell_type": "markdown",
   "id": "4b82b838",
   "metadata": {
    "papermill": {
     "duration": 0.023046,
     "end_time": "2024-06-12T12:38:24.786501",
     "exception": false,
     "start_time": "2024-06-12T12:38:24.763455",
     "status": "completed"
    },
    "tags": []
   },
   "source": [
    "1. Left (Junção à Esquerda):\n",
    "- A junção à esquerda usa apenas as chaves do DataFrame à esquerda.\n",
    "- O resultado conterá todas as linhas do DataFrame à esquerda e as linhas correspondentes do DataFrame à direita. Se não houver correspondência para uma linha do DataFrame à esquerda, os valores nas colunas do DataFrame à direita serão 'NaN'.\n",
    "\n",
    "2. Right (Junção à Direita):\n",
    "- A junção à direita usa apenas as chaves do DataFrame à direita.\n",
    "- O resultado conterá todas as linhas do DataFrame à direita e as linhas correspondentes do DataFrame à esquerda. Se não houver correspondência para uma linha do DataFrame à direita, os valores nas colunas do DataFrame à esquerda serão 'NaN'.\n",
    "\n",
    "3. Inner (Junção Interna):\n",
    "- A junção interna usa apenas as chaves comuns aos dois DataFrames.\n",
    "- O resultado conterá apenas as linhas para as quais há chaves correspondentes em ambos os DataFrames. Linhas em ambos os DataFrames que não têm correspondências serão excluídas.\n",
    "\n",
    "4. Outer (Junção Externa ou Full Outer Join):\n",
    "- A junção externa usa todas as chaves presentes em ambos os DataFrames.\n",
    "- O resultado conterá todas as linhas de ambos os DataFrames. Para as linhas que não têm correspondências no outro DataFrame, os valores nas colunas desse DataFrame serão 'NaN'."
   ]
  },
  {
   "cell_type": "code",
   "execution_count": 20,
   "id": "4207e141",
   "metadata": {
    "execution": {
     "iopub.execute_input": "2024-06-12T12:38:24.835383Z",
     "iopub.status.busy": "2024-06-12T12:38:24.835020Z",
     "iopub.status.idle": "2024-06-12T12:38:24.841440Z",
     "shell.execute_reply": "2024-06-12T12:38:24.840299Z"
    },
    "papermill": {
     "duration": 0.033342,
     "end_time": "2024-06-12T12:38:24.843664",
     "exception": false,
     "start_time": "2024-06-12T12:38:24.810322",
     "status": "completed"
    },
    "tags": []
   },
   "outputs": [],
   "source": [
    "df_A = pd.DataFrame({\n",
    "    'key': [1, 2, 3],\n",
    "    'Value_A': ['A1', 'A2', 'A3']\n",
    "})\n",
    "\n",
    "df_B = pd.DataFrame({\n",
    "    'key': [1, 3, 4],\n",
    "    'Value_B': ['B1', 'B3', 'B4']\n",
    "})\n",
    "\n",
    "# Exibindo os DataFrames para verificar\n"
   ]
  },
  {
   "cell_type": "code",
   "execution_count": 21,
   "id": "783c0dff",
   "metadata": {
    "execution": {
     "iopub.execute_input": "2024-06-12T12:38:24.892152Z",
     "iopub.status.busy": "2024-06-12T12:38:24.891795Z",
     "iopub.status.idle": "2024-06-12T12:38:24.900508Z",
     "shell.execute_reply": "2024-06-12T12:38:24.899559Z"
    },
    "papermill": {
     "duration": 0.035456,
     "end_time": "2024-06-12T12:38:24.902651",
     "exception": false,
     "start_time": "2024-06-12T12:38:24.867195",
     "status": "completed"
    },
    "tags": []
   },
   "outputs": [
    {
     "data": {
      "text/html": [
       "<div>\n",
       "<style scoped>\n",
       "    .dataframe tbody tr th:only-of-type {\n",
       "        vertical-align: middle;\n",
       "    }\n",
       "\n",
       "    .dataframe tbody tr th {\n",
       "        vertical-align: top;\n",
       "    }\n",
       "\n",
       "    .dataframe thead th {\n",
       "        text-align: right;\n",
       "    }\n",
       "</style>\n",
       "<table border=\"1\" class=\"dataframe\">\n",
       "  <thead>\n",
       "    <tr style=\"text-align: right;\">\n",
       "      <th></th>\n",
       "      <th>key</th>\n",
       "      <th>Value_A</th>\n",
       "    </tr>\n",
       "  </thead>\n",
       "  <tbody>\n",
       "    <tr>\n",
       "      <th>0</th>\n",
       "      <td>1</td>\n",
       "      <td>A1</td>\n",
       "    </tr>\n",
       "    <tr>\n",
       "      <th>1</th>\n",
       "      <td>2</td>\n",
       "      <td>A2</td>\n",
       "    </tr>\n",
       "    <tr>\n",
       "      <th>2</th>\n",
       "      <td>3</td>\n",
       "      <td>A3</td>\n",
       "    </tr>\n",
       "  </tbody>\n",
       "</table>\n",
       "</div>"
      ],
      "text/plain": [
       "   key Value_A\n",
       "0    1      A1\n",
       "1    2      A2\n",
       "2    3      A3"
      ]
     },
     "execution_count": 21,
     "metadata": {},
     "output_type": "execute_result"
    }
   ],
   "source": [
    "df_A"
   ]
  },
  {
   "cell_type": "code",
   "execution_count": 22,
   "id": "66ee2ff5",
   "metadata": {
    "execution": {
     "iopub.execute_input": "2024-06-12T12:38:24.952281Z",
     "iopub.status.busy": "2024-06-12T12:38:24.951881Z",
     "iopub.status.idle": "2024-06-12T12:38:24.961032Z",
     "shell.execute_reply": "2024-06-12T12:38:24.959990Z"
    },
    "papermill": {
     "duration": 0.035961,
     "end_time": "2024-06-12T12:38:24.963098",
     "exception": false,
     "start_time": "2024-06-12T12:38:24.927137",
     "status": "completed"
    },
    "tags": []
   },
   "outputs": [
    {
     "data": {
      "text/html": [
       "<div>\n",
       "<style scoped>\n",
       "    .dataframe tbody tr th:only-of-type {\n",
       "        vertical-align: middle;\n",
       "    }\n",
       "\n",
       "    .dataframe tbody tr th {\n",
       "        vertical-align: top;\n",
       "    }\n",
       "\n",
       "    .dataframe thead th {\n",
       "        text-align: right;\n",
       "    }\n",
       "</style>\n",
       "<table border=\"1\" class=\"dataframe\">\n",
       "  <thead>\n",
       "    <tr style=\"text-align: right;\">\n",
       "      <th></th>\n",
       "      <th>key</th>\n",
       "      <th>Value_B</th>\n",
       "    </tr>\n",
       "  </thead>\n",
       "  <tbody>\n",
       "    <tr>\n",
       "      <th>0</th>\n",
       "      <td>1</td>\n",
       "      <td>B1</td>\n",
       "    </tr>\n",
       "    <tr>\n",
       "      <th>1</th>\n",
       "      <td>3</td>\n",
       "      <td>B3</td>\n",
       "    </tr>\n",
       "    <tr>\n",
       "      <th>2</th>\n",
       "      <td>4</td>\n",
       "      <td>B4</td>\n",
       "    </tr>\n",
       "  </tbody>\n",
       "</table>\n",
       "</div>"
      ],
      "text/plain": [
       "   key Value_B\n",
       "0    1      B1\n",
       "1    3      B3\n",
       "2    4      B4"
      ]
     },
     "execution_count": 22,
     "metadata": {},
     "output_type": "execute_result"
    }
   ],
   "source": [
    "df_B"
   ]
  },
  {
   "cell_type": "code",
   "execution_count": 23,
   "id": "759b525a",
   "metadata": {
    "execution": {
     "iopub.execute_input": "2024-06-12T12:38:25.011724Z",
     "iopub.status.busy": "2024-06-12T12:38:25.011322Z",
     "iopub.status.idle": "2024-06-12T12:38:25.025943Z",
     "shell.execute_reply": "2024-06-12T12:38:25.024916Z"
    },
    "papermill": {
     "duration": 0.04168,
     "end_time": "2024-06-12T12:38:25.028276",
     "exception": false,
     "start_time": "2024-06-12T12:38:24.986596",
     "status": "completed"
    },
    "tags": []
   },
   "outputs": [
    {
     "name": "stdout",
     "output_type": "stream",
     "text": [
      "Left Join:\n"
     ]
    },
    {
     "data": {
      "text/html": [
       "<div>\n",
       "<style scoped>\n",
       "    .dataframe tbody tr th:only-of-type {\n",
       "        vertical-align: middle;\n",
       "    }\n",
       "\n",
       "    .dataframe tbody tr th {\n",
       "        vertical-align: top;\n",
       "    }\n",
       "\n",
       "    .dataframe thead th {\n",
       "        text-align: right;\n",
       "    }\n",
       "</style>\n",
       "<table border=\"1\" class=\"dataframe\">\n",
       "  <thead>\n",
       "    <tr style=\"text-align: right;\">\n",
       "      <th></th>\n",
       "      <th>key</th>\n",
       "      <th>Value_A</th>\n",
       "      <th>Value_B</th>\n",
       "    </tr>\n",
       "  </thead>\n",
       "  <tbody>\n",
       "    <tr>\n",
       "      <th>0</th>\n",
       "      <td>1</td>\n",
       "      <td>A1</td>\n",
       "      <td>B1</td>\n",
       "    </tr>\n",
       "    <tr>\n",
       "      <th>1</th>\n",
       "      <td>2</td>\n",
       "      <td>A2</td>\n",
       "      <td>NaN</td>\n",
       "    </tr>\n",
       "    <tr>\n",
       "      <th>2</th>\n",
       "      <td>3</td>\n",
       "      <td>A3</td>\n",
       "      <td>B3</td>\n",
       "    </tr>\n",
       "  </tbody>\n",
       "</table>\n",
       "</div>"
      ],
      "text/plain": [
       "   key Value_A Value_B\n",
       "0    1      A1      B1\n",
       "1    2      A2     NaN\n",
       "2    3      A3      B3"
      ]
     },
     "execution_count": 23,
     "metadata": {},
     "output_type": "execute_result"
    }
   ],
   "source": [
    "left_join = df_A.merge(df_B,on='key', how='left')\n",
    "print('Left Join:')\n",
    "left_join"
   ]
  },
  {
   "cell_type": "code",
   "execution_count": 24,
   "id": "90a36ffd",
   "metadata": {
    "execution": {
     "iopub.execute_input": "2024-06-12T12:38:25.078111Z",
     "iopub.status.busy": "2024-06-12T12:38:25.077129Z",
     "iopub.status.idle": "2024-06-12T12:38:25.090969Z",
     "shell.execute_reply": "2024-06-12T12:38:25.089885Z"
    },
    "papermill": {
     "duration": 0.041801,
     "end_time": "2024-06-12T12:38:25.093855",
     "exception": false,
     "start_time": "2024-06-12T12:38:25.052054",
     "status": "completed"
    },
    "tags": []
   },
   "outputs": [
    {
     "name": "stdout",
     "output_type": "stream",
     "text": [
      "Right Join:\n"
     ]
    },
    {
     "data": {
      "text/html": [
       "<div>\n",
       "<style scoped>\n",
       "    .dataframe tbody tr th:only-of-type {\n",
       "        vertical-align: middle;\n",
       "    }\n",
       "\n",
       "    .dataframe tbody tr th {\n",
       "        vertical-align: top;\n",
       "    }\n",
       "\n",
       "    .dataframe thead th {\n",
       "        text-align: right;\n",
       "    }\n",
       "</style>\n",
       "<table border=\"1\" class=\"dataframe\">\n",
       "  <thead>\n",
       "    <tr style=\"text-align: right;\">\n",
       "      <th></th>\n",
       "      <th>key</th>\n",
       "      <th>Value_A</th>\n",
       "      <th>Value_B</th>\n",
       "    </tr>\n",
       "  </thead>\n",
       "  <tbody>\n",
       "    <tr>\n",
       "      <th>0</th>\n",
       "      <td>1</td>\n",
       "      <td>A1</td>\n",
       "      <td>B1</td>\n",
       "    </tr>\n",
       "    <tr>\n",
       "      <th>1</th>\n",
       "      <td>3</td>\n",
       "      <td>A3</td>\n",
       "      <td>B3</td>\n",
       "    </tr>\n",
       "    <tr>\n",
       "      <th>2</th>\n",
       "      <td>4</td>\n",
       "      <td>NaN</td>\n",
       "      <td>B4</td>\n",
       "    </tr>\n",
       "  </tbody>\n",
       "</table>\n",
       "</div>"
      ],
      "text/plain": [
       "   key Value_A Value_B\n",
       "0    1      A1      B1\n",
       "1    3      A3      B3\n",
       "2    4     NaN      B4"
      ]
     },
     "execution_count": 24,
     "metadata": {},
     "output_type": "execute_result"
    }
   ],
   "source": [
    "right_join = df_A.merge(df_B, on='key', how='right')\n",
    "print('Right Join:')\n",
    "right_join"
   ]
  },
  {
   "cell_type": "code",
   "execution_count": 25,
   "id": "b7fcdeff",
   "metadata": {
    "execution": {
     "iopub.execute_input": "2024-06-12T12:38:25.144031Z",
     "iopub.status.busy": "2024-06-12T12:38:25.143629Z",
     "iopub.status.idle": "2024-06-12T12:38:25.159268Z",
     "shell.execute_reply": "2024-06-12T12:38:25.158187Z"
    },
    "papermill": {
     "duration": 0.043307,
     "end_time": "2024-06-12T12:38:25.161406",
     "exception": false,
     "start_time": "2024-06-12T12:38:25.118099",
     "status": "completed"
    },
    "tags": []
   },
   "outputs": [
    {
     "name": "stdout",
     "output_type": "stream",
     "text": [
      "Inner Join\n"
     ]
    },
    {
     "data": {
      "text/html": [
       "<div>\n",
       "<style scoped>\n",
       "    .dataframe tbody tr th:only-of-type {\n",
       "        vertical-align: middle;\n",
       "    }\n",
       "\n",
       "    .dataframe tbody tr th {\n",
       "        vertical-align: top;\n",
       "    }\n",
       "\n",
       "    .dataframe thead th {\n",
       "        text-align: right;\n",
       "    }\n",
       "</style>\n",
       "<table border=\"1\" class=\"dataframe\">\n",
       "  <thead>\n",
       "    <tr style=\"text-align: right;\">\n",
       "      <th></th>\n",
       "      <th>key</th>\n",
       "      <th>Value_A</th>\n",
       "      <th>Value_B</th>\n",
       "    </tr>\n",
       "  </thead>\n",
       "  <tbody>\n",
       "    <tr>\n",
       "      <th>0</th>\n",
       "      <td>1</td>\n",
       "      <td>A1</td>\n",
       "      <td>B1</td>\n",
       "    </tr>\n",
       "    <tr>\n",
       "      <th>1</th>\n",
       "      <td>3</td>\n",
       "      <td>A3</td>\n",
       "      <td>B3</td>\n",
       "    </tr>\n",
       "  </tbody>\n",
       "</table>\n",
       "</div>"
      ],
      "text/plain": [
       "   key Value_A Value_B\n",
       "0    1      A1      B1\n",
       "1    3      A3      B3"
      ]
     },
     "execution_count": 25,
     "metadata": {},
     "output_type": "execute_result"
    }
   ],
   "source": [
    "inner_join = df_A.merge(df_B, on='key', how='inner')\n",
    "print('Inner Join')\n",
    "inner_join"
   ]
  },
  {
   "cell_type": "code",
   "execution_count": 26,
   "id": "bd0898ed",
   "metadata": {
    "execution": {
     "iopub.execute_input": "2024-06-12T12:38:25.212156Z",
     "iopub.status.busy": "2024-06-12T12:38:25.211744Z",
     "iopub.status.idle": "2024-06-12T12:38:25.226428Z",
     "shell.execute_reply": "2024-06-12T12:38:25.225505Z"
    },
    "papermill": {
     "duration": 0.043769,
     "end_time": "2024-06-12T12:38:25.229604",
     "exception": false,
     "start_time": "2024-06-12T12:38:25.185835",
     "status": "completed"
    },
    "tags": []
   },
   "outputs": [
    {
     "name": "stdout",
     "output_type": "stream",
     "text": [
      "\n",
      "Outer Join:\n"
     ]
    },
    {
     "data": {
      "text/html": [
       "<div>\n",
       "<style scoped>\n",
       "    .dataframe tbody tr th:only-of-type {\n",
       "        vertical-align: middle;\n",
       "    }\n",
       "\n",
       "    .dataframe tbody tr th {\n",
       "        vertical-align: top;\n",
       "    }\n",
       "\n",
       "    .dataframe thead th {\n",
       "        text-align: right;\n",
       "    }\n",
       "</style>\n",
       "<table border=\"1\" class=\"dataframe\">\n",
       "  <thead>\n",
       "    <tr style=\"text-align: right;\">\n",
       "      <th></th>\n",
       "      <th>key</th>\n",
       "      <th>Value_A</th>\n",
       "      <th>Value_B</th>\n",
       "    </tr>\n",
       "  </thead>\n",
       "  <tbody>\n",
       "    <tr>\n",
       "      <th>0</th>\n",
       "      <td>1</td>\n",
       "      <td>A1</td>\n",
       "      <td>B1</td>\n",
       "    </tr>\n",
       "    <tr>\n",
       "      <th>1</th>\n",
       "      <td>2</td>\n",
       "      <td>A2</td>\n",
       "      <td>NaN</td>\n",
       "    </tr>\n",
       "    <tr>\n",
       "      <th>2</th>\n",
       "      <td>3</td>\n",
       "      <td>A3</td>\n",
       "      <td>B3</td>\n",
       "    </tr>\n",
       "    <tr>\n",
       "      <th>3</th>\n",
       "      <td>4</td>\n",
       "      <td>NaN</td>\n",
       "      <td>B4</td>\n",
       "    </tr>\n",
       "  </tbody>\n",
       "</table>\n",
       "</div>"
      ],
      "text/plain": [
       "   key Value_A Value_B\n",
       "0    1      A1      B1\n",
       "1    2      A2     NaN\n",
       "2    3      A3      B3\n",
       "3    4     NaN      B4"
      ]
     },
     "execution_count": 26,
     "metadata": {},
     "output_type": "execute_result"
    }
   ],
   "source": [
    "outer_join = df_A.merge(df_B, on='key', how='outer')\n",
    "print(\"\\nOuter Join:\")\n",
    "outer_join"
   ]
  },
  {
   "cell_type": "markdown",
   "id": "76a2eed7",
   "metadata": {
    "papermill": {
     "duration": 0.024044,
     "end_time": "2024-06-12T12:38:25.278087",
     "exception": false,
     "start_time": "2024-06-12T12:38:25.254043",
     "status": "completed"
    },
    "tags": []
   },
   "source": [
    "Agora, algo menos comum, mas que pode ocorrer, é a necessidade de empilharmos os DataFrames. Imagine que a gente tenha as informações das compras dos clientes de Junho e Julho em um DataFrame e as compras de Agosto e Setembro em outro DataFrame. Como podemos fazer essa união? É nesta que entra a função concat:"
   ]
  },
  {
   "cell_type": "code",
   "execution_count": 27,
   "id": "1ac292b5",
   "metadata": {
    "execution": {
     "iopub.execute_input": "2024-06-12T12:38:25.329044Z",
     "iopub.status.busy": "2024-06-12T12:38:25.328625Z",
     "iopub.status.idle": "2024-06-12T12:38:25.335716Z",
     "shell.execute_reply": "2024-06-12T12:38:25.334716Z"
    },
    "papermill": {
     "duration": 0.035093,
     "end_time": "2024-06-12T12:38:25.337862",
     "exception": false,
     "start_time": "2024-06-12T12:38:25.302769",
     "status": "completed"
    },
    "tags": []
   },
   "outputs": [],
   "source": [
    "# Criando o DataFrame de compras de junho e julho\n",
    "jun_jul = pd.DataFrame({\n",
    "'id_cliente': ['AA01', 'BB02', 'AA01', 'CC03', 'BB02', 'DD04'],\n",
    "'dt_compra': ['2023-06-05', '2023-06-15', '2023-06-25', '2023-07-05', '2023-07-15', '2023-07-25'],\n",
    "'vl_compra': [200.50, 155.75, 333.60, 450.00, 300.10, 250.00]\n",
    "})\n",
    "\n",
    "\n",
    "# Criando o DataFrame de compras de agosto e setembro\n",
    "ago_set = pd.DataFrame({\n",
    "'id_cliente': ['EE05', 'EE05', 'FF06', 'GG07'],\n",
    "'dt_compra': ['2023-08-05', '2023-08-15', '2023-08-25', '2023-09-05'],\n",
    "'vl_compra': [205.55, 233.75, 550.65, 320.82]\n",
    "})"
   ]
  },
  {
   "cell_type": "code",
   "execution_count": 28,
   "id": "7a5bea02",
   "metadata": {
    "execution": {
     "iopub.execute_input": "2024-06-12T12:38:25.391066Z",
     "iopub.status.busy": "2024-06-12T12:38:25.390676Z",
     "iopub.status.idle": "2024-06-12T12:38:25.401268Z",
     "shell.execute_reply": "2024-06-12T12:38:25.400282Z"
    },
    "papermill": {
     "duration": 0.038394,
     "end_time": "2024-06-12T12:38:25.403331",
     "exception": false,
     "start_time": "2024-06-12T12:38:25.364937",
     "status": "completed"
    },
    "tags": []
   },
   "outputs": [
    {
     "data": {
      "text/html": [
       "<div>\n",
       "<style scoped>\n",
       "    .dataframe tbody tr th:only-of-type {\n",
       "        vertical-align: middle;\n",
       "    }\n",
       "\n",
       "    .dataframe tbody tr th {\n",
       "        vertical-align: top;\n",
       "    }\n",
       "\n",
       "    .dataframe thead th {\n",
       "        text-align: right;\n",
       "    }\n",
       "</style>\n",
       "<table border=\"1\" class=\"dataframe\">\n",
       "  <thead>\n",
       "    <tr style=\"text-align: right;\">\n",
       "      <th></th>\n",
       "      <th>id_cliente</th>\n",
       "      <th>dt_compra</th>\n",
       "      <th>vl_compra</th>\n",
       "    </tr>\n",
       "  </thead>\n",
       "  <tbody>\n",
       "    <tr>\n",
       "      <th>0</th>\n",
       "      <td>AA01</td>\n",
       "      <td>2023-06-05</td>\n",
       "      <td>200.50</td>\n",
       "    </tr>\n",
       "    <tr>\n",
       "      <th>1</th>\n",
       "      <td>BB02</td>\n",
       "      <td>2023-06-15</td>\n",
       "      <td>155.75</td>\n",
       "    </tr>\n",
       "    <tr>\n",
       "      <th>2</th>\n",
       "      <td>AA01</td>\n",
       "      <td>2023-06-25</td>\n",
       "      <td>333.60</td>\n",
       "    </tr>\n",
       "    <tr>\n",
       "      <th>3</th>\n",
       "      <td>CC03</td>\n",
       "      <td>2023-07-05</td>\n",
       "      <td>450.00</td>\n",
       "    </tr>\n",
       "    <tr>\n",
       "      <th>4</th>\n",
       "      <td>BB02</td>\n",
       "      <td>2023-07-15</td>\n",
       "      <td>300.10</td>\n",
       "    </tr>\n",
       "    <tr>\n",
       "      <th>5</th>\n",
       "      <td>DD04</td>\n",
       "      <td>2023-07-25</td>\n",
       "      <td>250.00</td>\n",
       "    </tr>\n",
       "  </tbody>\n",
       "</table>\n",
       "</div>"
      ],
      "text/plain": [
       "  id_cliente   dt_compra  vl_compra\n",
       "0       AA01  2023-06-05     200.50\n",
       "1       BB02  2023-06-15     155.75\n",
       "2       AA01  2023-06-25     333.60\n",
       "3       CC03  2023-07-05     450.00\n",
       "4       BB02  2023-07-15     300.10\n",
       "5       DD04  2023-07-25     250.00"
      ]
     },
     "execution_count": 28,
     "metadata": {},
     "output_type": "execute_result"
    }
   ],
   "source": [
    "jun_jul"
   ]
  },
  {
   "cell_type": "code",
   "execution_count": 29,
   "id": "5a419964",
   "metadata": {
    "execution": {
     "iopub.execute_input": "2024-06-12T12:38:25.455755Z",
     "iopub.status.busy": "2024-06-12T12:38:25.455371Z",
     "iopub.status.idle": "2024-06-12T12:38:25.466132Z",
     "shell.execute_reply": "2024-06-12T12:38:25.465064Z"
    },
    "papermill": {
     "duration": 0.040306,
     "end_time": "2024-06-12T12:38:25.468509",
     "exception": false,
     "start_time": "2024-06-12T12:38:25.428203",
     "status": "completed"
    },
    "tags": []
   },
   "outputs": [
    {
     "data": {
      "text/html": [
       "<div>\n",
       "<style scoped>\n",
       "    .dataframe tbody tr th:only-of-type {\n",
       "        vertical-align: middle;\n",
       "    }\n",
       "\n",
       "    .dataframe tbody tr th {\n",
       "        vertical-align: top;\n",
       "    }\n",
       "\n",
       "    .dataframe thead th {\n",
       "        text-align: right;\n",
       "    }\n",
       "</style>\n",
       "<table border=\"1\" class=\"dataframe\">\n",
       "  <thead>\n",
       "    <tr style=\"text-align: right;\">\n",
       "      <th></th>\n",
       "      <th>id_cliente</th>\n",
       "      <th>dt_compra</th>\n",
       "      <th>vl_compra</th>\n",
       "    </tr>\n",
       "  </thead>\n",
       "  <tbody>\n",
       "    <tr>\n",
       "      <th>0</th>\n",
       "      <td>EE05</td>\n",
       "      <td>2023-08-05</td>\n",
       "      <td>205.55</td>\n",
       "    </tr>\n",
       "    <tr>\n",
       "      <th>1</th>\n",
       "      <td>EE05</td>\n",
       "      <td>2023-08-15</td>\n",
       "      <td>233.75</td>\n",
       "    </tr>\n",
       "    <tr>\n",
       "      <th>2</th>\n",
       "      <td>FF06</td>\n",
       "      <td>2023-08-25</td>\n",
       "      <td>550.65</td>\n",
       "    </tr>\n",
       "    <tr>\n",
       "      <th>3</th>\n",
       "      <td>GG07</td>\n",
       "      <td>2023-09-05</td>\n",
       "      <td>320.82</td>\n",
       "    </tr>\n",
       "  </tbody>\n",
       "</table>\n",
       "</div>"
      ],
      "text/plain": [
       "  id_cliente   dt_compra  vl_compra\n",
       "0       EE05  2023-08-05     205.55\n",
       "1       EE05  2023-08-15     233.75\n",
       "2       FF06  2023-08-25     550.65\n",
       "3       GG07  2023-09-05     320.82"
      ]
     },
     "execution_count": 29,
     "metadata": {},
     "output_type": "execute_result"
    }
   ],
   "source": [
    "ago_set"
   ]
  },
  {
   "cell_type": "code",
   "execution_count": 30,
   "id": "6ac07115",
   "metadata": {
    "execution": {
     "iopub.execute_input": "2024-06-12T12:38:25.521205Z",
     "iopub.status.busy": "2024-06-12T12:38:25.520829Z",
     "iopub.status.idle": "2024-06-12T12:38:25.532951Z",
     "shell.execute_reply": "2024-06-12T12:38:25.531968Z"
    },
    "papermill": {
     "duration": 0.040833,
     "end_time": "2024-06-12T12:38:25.535410",
     "exception": false,
     "start_time": "2024-06-12T12:38:25.494577",
     "status": "completed"
    },
    "tags": []
   },
   "outputs": [
    {
     "data": {
      "text/html": [
       "<div>\n",
       "<style scoped>\n",
       "    .dataframe tbody tr th:only-of-type {\n",
       "        vertical-align: middle;\n",
       "    }\n",
       "\n",
       "    .dataframe tbody tr th {\n",
       "        vertical-align: top;\n",
       "    }\n",
       "\n",
       "    .dataframe thead th {\n",
       "        text-align: right;\n",
       "    }\n",
       "</style>\n",
       "<table border=\"1\" class=\"dataframe\">\n",
       "  <thead>\n",
       "    <tr style=\"text-align: right;\">\n",
       "      <th></th>\n",
       "      <th>id_cliente</th>\n",
       "      <th>dt_compra</th>\n",
       "      <th>vl_compra</th>\n",
       "    </tr>\n",
       "  </thead>\n",
       "  <tbody>\n",
       "    <tr>\n",
       "      <th>0</th>\n",
       "      <td>AA01</td>\n",
       "      <td>2023-06-05</td>\n",
       "      <td>200.50</td>\n",
       "    </tr>\n",
       "    <tr>\n",
       "      <th>1</th>\n",
       "      <td>BB02</td>\n",
       "      <td>2023-06-15</td>\n",
       "      <td>155.75</td>\n",
       "    </tr>\n",
       "    <tr>\n",
       "      <th>2</th>\n",
       "      <td>AA01</td>\n",
       "      <td>2023-06-25</td>\n",
       "      <td>333.60</td>\n",
       "    </tr>\n",
       "    <tr>\n",
       "      <th>3</th>\n",
       "      <td>CC03</td>\n",
       "      <td>2023-07-05</td>\n",
       "      <td>450.00</td>\n",
       "    </tr>\n",
       "    <tr>\n",
       "      <th>4</th>\n",
       "      <td>BB02</td>\n",
       "      <td>2023-07-15</td>\n",
       "      <td>300.10</td>\n",
       "    </tr>\n",
       "    <tr>\n",
       "      <th>5</th>\n",
       "      <td>DD04</td>\n",
       "      <td>2023-07-25</td>\n",
       "      <td>250.00</td>\n",
       "    </tr>\n",
       "    <tr>\n",
       "      <th>0</th>\n",
       "      <td>EE05</td>\n",
       "      <td>2023-08-05</td>\n",
       "      <td>205.55</td>\n",
       "    </tr>\n",
       "    <tr>\n",
       "      <th>1</th>\n",
       "      <td>EE05</td>\n",
       "      <td>2023-08-15</td>\n",
       "      <td>233.75</td>\n",
       "    </tr>\n",
       "    <tr>\n",
       "      <th>2</th>\n",
       "      <td>FF06</td>\n",
       "      <td>2023-08-25</td>\n",
       "      <td>550.65</td>\n",
       "    </tr>\n",
       "    <tr>\n",
       "      <th>3</th>\n",
       "      <td>GG07</td>\n",
       "      <td>2023-09-05</td>\n",
       "      <td>320.82</td>\n",
       "    </tr>\n",
       "  </tbody>\n",
       "</table>\n",
       "</div>"
      ],
      "text/plain": [
       "  id_cliente   dt_compra  vl_compra\n",
       "0       AA01  2023-06-05     200.50\n",
       "1       BB02  2023-06-15     155.75\n",
       "2       AA01  2023-06-25     333.60\n",
       "3       CC03  2023-07-05     450.00\n",
       "4       BB02  2023-07-15     300.10\n",
       "5       DD04  2023-07-25     250.00\n",
       "0       EE05  2023-08-05     205.55\n",
       "1       EE05  2023-08-15     233.75\n",
       "2       FF06  2023-08-25     550.65\n",
       "3       GG07  2023-09-05     320.82"
      ]
     },
     "execution_count": 30,
     "metadata": {},
     "output_type": "execute_result"
    }
   ],
   "source": [
    "df_concat = pd.concat([jun_jul,ago_set])\n",
    "df_concat"
   ]
  },
  {
   "cell_type": "markdown",
   "id": "0f6e0c14",
   "metadata": {
    "papermill": {
     "duration": 0.02568,
     "end_time": "2024-06-12T12:38:25.586211",
     "exception": false,
     "start_time": "2024-06-12T12:38:25.560531",
     "status": "completed"
    },
    "tags": []
   },
   "source": [
    "# 4. Outros Métodos e Funções\n",
    "# 4.1 Criando intervalos discretos com cut e qcut"
   ]
  },
  {
   "cell_type": "markdown",
   "id": "463cb899",
   "metadata": {
    "papermill": {
     "duration": 0.025463,
     "end_time": "2024-06-12T12:38:25.636724",
     "exception": false,
     "start_time": "2024-06-12T12:38:25.611261",
     "status": "completed"
    },
    "tags": []
   },
   "source": [
    "O método cut é uma ferramenta poderosa do Pandas que permite segmentar e classificar os valores dos dados em compartimentos (ou bins) discretos. Isso é útil quando você deseja categorizar dados contínuos em intervalos específicos."
   ]
  },
  {
   "cell_type": "code",
   "execution_count": 31,
   "id": "6ca04fad",
   "metadata": {
    "execution": {
     "iopub.execute_input": "2024-06-12T12:38:25.690324Z",
     "iopub.status.busy": "2024-06-12T12:38:25.689912Z",
     "iopub.status.idle": "2024-06-12T12:38:25.706081Z",
     "shell.execute_reply": "2024-06-12T12:38:25.705066Z"
    },
    "papermill": {
     "duration": 0.046228,
     "end_time": "2024-06-12T12:38:25.708356",
     "exception": false,
     "start_time": "2024-06-12T12:38:25.662128",
     "status": "completed"
    },
    "tags": []
   },
   "outputs": [
    {
     "data": {
      "text/html": [
       "<div>\n",
       "<style scoped>\n",
       "    .dataframe tbody tr th:only-of-type {\n",
       "        vertical-align: middle;\n",
       "    }\n",
       "\n",
       "    .dataframe tbody tr th {\n",
       "        vertical-align: top;\n",
       "    }\n",
       "\n",
       "    .dataframe thead th {\n",
       "        text-align: right;\n",
       "    }\n",
       "</style>\n",
       "<table border=\"1\" class=\"dataframe\">\n",
       "  <thead>\n",
       "    <tr style=\"text-align: right;\">\n",
       "      <th></th>\n",
       "      <th>value</th>\n",
       "      <th>bin</th>\n",
       "    </tr>\n",
       "  </thead>\n",
       "  <tbody>\n",
       "    <tr>\n",
       "      <th>0</th>\n",
       "      <td>1</td>\n",
       "      <td>Low</td>\n",
       "    </tr>\n",
       "    <tr>\n",
       "      <th>1</th>\n",
       "      <td>2</td>\n",
       "      <td>Low</td>\n",
       "    </tr>\n",
       "    <tr>\n",
       "      <th>2</th>\n",
       "      <td>3</td>\n",
       "      <td>Low</td>\n",
       "    </tr>\n",
       "    <tr>\n",
       "      <th>3</th>\n",
       "      <td>4</td>\n",
       "      <td>High</td>\n",
       "    </tr>\n",
       "    <tr>\n",
       "      <th>4</th>\n",
       "      <td>5</td>\n",
       "      <td>High</td>\n",
       "    </tr>\n",
       "  </tbody>\n",
       "</table>\n",
       "</div>"
      ],
      "text/plain": [
       "   value   bin\n",
       "0      1   Low\n",
       "1      2   Low\n",
       "2      3   Low\n",
       "3      4  High\n",
       "4      5  High"
      ]
     },
     "execution_count": 31,
     "metadata": {},
     "output_type": "execute_result"
    }
   ],
   "source": [
    "df = pd.DataFrame({'value': [1,2,3,4,5]})\n",
    "df['bin'] = pd.cut(df['value'], bins=[0,3,5], labels=['Low','High'])\n",
    "df"
   ]
  },
  {
   "cell_type": "code",
   "execution_count": 32,
   "id": "31658667",
   "metadata": {
    "execution": {
     "iopub.execute_input": "2024-06-12T12:38:25.762341Z",
     "iopub.status.busy": "2024-06-12T12:38:25.761458Z",
     "iopub.status.idle": "2024-06-12T12:38:25.781789Z",
     "shell.execute_reply": "2024-06-12T12:38:25.780606Z"
    },
    "papermill": {
     "duration": 0.050192,
     "end_time": "2024-06-12T12:38:25.784324",
     "exception": false,
     "start_time": "2024-06-12T12:38:25.734132",
     "status": "completed"
    },
    "tags": []
   },
   "outputs": [
    {
     "data": {
      "text/html": [
       "<div>\n",
       "<style scoped>\n",
       "    .dataframe tbody tr th:only-of-type {\n",
       "        vertical-align: middle;\n",
       "    }\n",
       "\n",
       "    .dataframe tbody tr th {\n",
       "        vertical-align: top;\n",
       "    }\n",
       "\n",
       "    .dataframe thead th {\n",
       "        text-align: right;\n",
       "    }\n",
       "</style>\n",
       "<table border=\"1\" class=\"dataframe\">\n",
       "  <thead>\n",
       "    <tr style=\"text-align: right;\">\n",
       "      <th></th>\n",
       "      <th>value</th>\n",
       "      <th>bin</th>\n",
       "      <th>equal_bins</th>\n",
       "    </tr>\n",
       "  </thead>\n",
       "  <tbody>\n",
       "    <tr>\n",
       "      <th>0</th>\n",
       "      <td>1</td>\n",
       "      <td>Low</td>\n",
       "      <td>(0.996, 2.333]</td>\n",
       "    </tr>\n",
       "    <tr>\n",
       "      <th>1</th>\n",
       "      <td>2</td>\n",
       "      <td>Low</td>\n",
       "      <td>(0.996, 2.333]</td>\n",
       "    </tr>\n",
       "    <tr>\n",
       "      <th>2</th>\n",
       "      <td>3</td>\n",
       "      <td>Low</td>\n",
       "      <td>(2.333, 3.667]</td>\n",
       "    </tr>\n",
       "    <tr>\n",
       "      <th>3</th>\n",
       "      <td>4</td>\n",
       "      <td>High</td>\n",
       "      <td>(3.667, 5.0]</td>\n",
       "    </tr>\n",
       "    <tr>\n",
       "      <th>4</th>\n",
       "      <td>5</td>\n",
       "      <td>High</td>\n",
       "      <td>(3.667, 5.0]</td>\n",
       "    </tr>\n",
       "  </tbody>\n",
       "</table>\n",
       "</div>"
      ],
      "text/plain": [
       "   value   bin      equal_bins\n",
       "0      1   Low  (0.996, 2.333]\n",
       "1      2   Low  (0.996, 2.333]\n",
       "2      3   Low  (2.333, 3.667]\n",
       "3      4  High    (3.667, 5.0]\n",
       "4      5  High    (3.667, 5.0]"
      ]
     },
     "execution_count": 32,
     "metadata": {},
     "output_type": "execute_result"
    }
   ],
   "source": [
    "df['equal_bins'] = pd.cut(df['value'], bins=3)\n",
    "df"
   ]
  },
  {
   "cell_type": "markdown",
   "id": "75421ee5",
   "metadata": {
    "papermill": {
     "duration": 0.025027,
     "end_time": "2024-06-12T12:38:25.835212",
     "exception": false,
     "start_time": "2024-06-12T12:38:25.810185",
     "status": "completed"
    },
    "tags": []
   },
   "source": [
    "# 4.2 Método sample\n",
    "O método sample é uma maneira conveniente de obter uma amostra aleatória de itens de um eixo de um DataFrame, seja por número ou por fração. Como muitos de nossos estudos são feitos por amostragem, ou também acontece de utilizarmos só parte da base durante a criação dos passos de um projeto grande, a amostragem acaba sendo muito útil!"
   ]
  },
  {
   "cell_type": "code",
   "execution_count": 33,
   "id": "de73d11e",
   "metadata": {
    "execution": {
     "iopub.execute_input": "2024-06-12T12:38:25.888159Z",
     "iopub.status.busy": "2024-06-12T12:38:25.887381Z",
     "iopub.status.idle": "2024-06-12T12:38:25.914731Z",
     "shell.execute_reply": "2024-06-12T12:38:25.913711Z"
    },
    "papermill": {
     "duration": 0.056954,
     "end_time": "2024-06-12T12:38:25.917574",
     "exception": false,
     "start_time": "2024-06-12T12:38:25.860620",
     "status": "completed"
    },
    "tags": []
   },
   "outputs": [
    {
     "data": {
      "text/html": [
       "<div>\n",
       "<style scoped>\n",
       "    .dataframe tbody tr th:only-of-type {\n",
       "        vertical-align: middle;\n",
       "    }\n",
       "\n",
       "    .dataframe tbody tr th {\n",
       "        vertical-align: top;\n",
       "    }\n",
       "\n",
       "    .dataframe thead th {\n",
       "        text-align: right;\n",
       "    }\n",
       "</style>\n",
       "<table border=\"1\" class=\"dataframe\">\n",
       "  <thead>\n",
       "    <tr style=\"text-align: right;\">\n",
       "      <th></th>\n",
       "      <th>Marital status</th>\n",
       "      <th>Application mode</th>\n",
       "      <th>Application order</th>\n",
       "      <th>Course</th>\n",
       "      <th>Daytime/evening attendance\\t</th>\n",
       "      <th>Previous qualification</th>\n",
       "      <th>Previous qualification (grade)</th>\n",
       "      <th>Nacionality</th>\n",
       "      <th>Mother's qualification</th>\n",
       "      <th>Father's qualification</th>\n",
       "      <th>...</th>\n",
       "      <th>Curricular units 2nd sem (credited)</th>\n",
       "      <th>Curricular units 2nd sem (enrolled)</th>\n",
       "      <th>Curricular units 2nd sem (evaluations)</th>\n",
       "      <th>Curricular units 2nd sem (approved)</th>\n",
       "      <th>Curricular units 2nd sem (grade)</th>\n",
       "      <th>Curricular units 2nd sem (without evaluations)</th>\n",
       "      <th>Unemployment rate</th>\n",
       "      <th>Inflation rate</th>\n",
       "      <th>GDP</th>\n",
       "      <th>Target</th>\n",
       "    </tr>\n",
       "  </thead>\n",
       "  <tbody>\n",
       "    <tr>\n",
       "      <th>2112</th>\n",
       "      <td>1</td>\n",
       "      <td>1</td>\n",
       "      <td>2</td>\n",
       "      <td>9556</td>\n",
       "      <td>1</td>\n",
       "      <td>1</td>\n",
       "      <td>136.0</td>\n",
       "      <td>1</td>\n",
       "      <td>19</td>\n",
       "      <td>19</td>\n",
       "      <td>...</td>\n",
       "      <td>0</td>\n",
       "      <td>8</td>\n",
       "      <td>8</td>\n",
       "      <td>8</td>\n",
       "      <td>16.800000</td>\n",
       "      <td>0</td>\n",
       "      <td>12.7</td>\n",
       "      <td>3.7</td>\n",
       "      <td>-1.70</td>\n",
       "      <td>Graduate</td>\n",
       "    </tr>\n",
       "    <tr>\n",
       "      <th>1825</th>\n",
       "      <td>1</td>\n",
       "      <td>17</td>\n",
       "      <td>1</td>\n",
       "      <td>9254</td>\n",
       "      <td>1</td>\n",
       "      <td>1</td>\n",
       "      <td>160.0</td>\n",
       "      <td>1</td>\n",
       "      <td>19</td>\n",
       "      <td>37</td>\n",
       "      <td>...</td>\n",
       "      <td>0</td>\n",
       "      <td>6</td>\n",
       "      <td>7</td>\n",
       "      <td>6</td>\n",
       "      <td>14.166667</td>\n",
       "      <td>0</td>\n",
       "      <td>12.7</td>\n",
       "      <td>3.7</td>\n",
       "      <td>-1.70</td>\n",
       "      <td>Graduate</td>\n",
       "    </tr>\n",
       "    <tr>\n",
       "      <th>3020</th>\n",
       "      <td>1</td>\n",
       "      <td>17</td>\n",
       "      <td>1</td>\n",
       "      <td>9130</td>\n",
       "      <td>1</td>\n",
       "      <td>1</td>\n",
       "      <td>131.0</td>\n",
       "      <td>1</td>\n",
       "      <td>19</td>\n",
       "      <td>9</td>\n",
       "      <td>...</td>\n",
       "      <td>0</td>\n",
       "      <td>5</td>\n",
       "      <td>7</td>\n",
       "      <td>5</td>\n",
       "      <td>12.833333</td>\n",
       "      <td>0</td>\n",
       "      <td>7.6</td>\n",
       "      <td>2.6</td>\n",
       "      <td>0.32</td>\n",
       "      <td>Graduate</td>\n",
       "    </tr>\n",
       "    <tr>\n",
       "      <th>1753</th>\n",
       "      <td>1</td>\n",
       "      <td>44</td>\n",
       "      <td>1</td>\n",
       "      <td>9119</td>\n",
       "      <td>1</td>\n",
       "      <td>39</td>\n",
       "      <td>150.0</td>\n",
       "      <td>1</td>\n",
       "      <td>19</td>\n",
       "      <td>3</td>\n",
       "      <td>...</td>\n",
       "      <td>0</td>\n",
       "      <td>5</td>\n",
       "      <td>12</td>\n",
       "      <td>2</td>\n",
       "      <td>10.500000</td>\n",
       "      <td>0</td>\n",
       "      <td>12.7</td>\n",
       "      <td>3.7</td>\n",
       "      <td>-1.70</td>\n",
       "      <td>Enrolled</td>\n",
       "    </tr>\n",
       "    <tr>\n",
       "      <th>898</th>\n",
       "      <td>1</td>\n",
       "      <td>1</td>\n",
       "      <td>1</td>\n",
       "      <td>9254</td>\n",
       "      <td>1</td>\n",
       "      <td>1</td>\n",
       "      <td>112.0</td>\n",
       "      <td>1</td>\n",
       "      <td>38</td>\n",
       "      <td>19</td>\n",
       "      <td>...</td>\n",
       "      <td>0</td>\n",
       "      <td>6</td>\n",
       "      <td>10</td>\n",
       "      <td>4</td>\n",
       "      <td>11.000000</td>\n",
       "      <td>0</td>\n",
       "      <td>7.6</td>\n",
       "      <td>2.6</td>\n",
       "      <td>0.32</td>\n",
       "      <td>Enrolled</td>\n",
       "    </tr>\n",
       "    <tr>\n",
       "      <th>1593</th>\n",
       "      <td>1</td>\n",
       "      <td>1</td>\n",
       "      <td>3</td>\n",
       "      <td>171</td>\n",
       "      <td>1</td>\n",
       "      <td>1</td>\n",
       "      <td>129.0</td>\n",
       "      <td>1</td>\n",
       "      <td>38</td>\n",
       "      <td>37</td>\n",
       "      <td>...</td>\n",
       "      <td>0</td>\n",
       "      <td>0</td>\n",
       "      <td>0</td>\n",
       "      <td>0</td>\n",
       "      <td>0.000000</td>\n",
       "      <td>0</td>\n",
       "      <td>9.4</td>\n",
       "      <td>-0.8</td>\n",
       "      <td>-3.12</td>\n",
       "      <td>Dropout</td>\n",
       "    </tr>\n",
       "    <tr>\n",
       "      <th>489</th>\n",
       "      <td>1</td>\n",
       "      <td>1</td>\n",
       "      <td>3</td>\n",
       "      <td>9500</td>\n",
       "      <td>1</td>\n",
       "      <td>1</td>\n",
       "      <td>128.0</td>\n",
       "      <td>1</td>\n",
       "      <td>38</td>\n",
       "      <td>38</td>\n",
       "      <td>...</td>\n",
       "      <td>0</td>\n",
       "      <td>8</td>\n",
       "      <td>8</td>\n",
       "      <td>7</td>\n",
       "      <td>13.542857</td>\n",
       "      <td>0</td>\n",
       "      <td>13.9</td>\n",
       "      <td>-0.3</td>\n",
       "      <td>0.79</td>\n",
       "      <td>Graduate</td>\n",
       "    </tr>\n",
       "    <tr>\n",
       "      <th>3486</th>\n",
       "      <td>1</td>\n",
       "      <td>1</td>\n",
       "      <td>2</td>\n",
       "      <td>9500</td>\n",
       "      <td>1</td>\n",
       "      <td>1</td>\n",
       "      <td>149.0</td>\n",
       "      <td>1</td>\n",
       "      <td>19</td>\n",
       "      <td>1</td>\n",
       "      <td>...</td>\n",
       "      <td>0</td>\n",
       "      <td>8</td>\n",
       "      <td>8</td>\n",
       "      <td>7</td>\n",
       "      <td>13.000000</td>\n",
       "      <td>0</td>\n",
       "      <td>12.7</td>\n",
       "      <td>3.7</td>\n",
       "      <td>-1.70</td>\n",
       "      <td>Graduate</td>\n",
       "    </tr>\n",
       "    <tr>\n",
       "      <th>1234</th>\n",
       "      <td>1</td>\n",
       "      <td>17</td>\n",
       "      <td>6</td>\n",
       "      <td>9500</td>\n",
       "      <td>1</td>\n",
       "      <td>1</td>\n",
       "      <td>150.0</td>\n",
       "      <td>1</td>\n",
       "      <td>1</td>\n",
       "      <td>37</td>\n",
       "      <td>...</td>\n",
       "      <td>0</td>\n",
       "      <td>8</td>\n",
       "      <td>8</td>\n",
       "      <td>7</td>\n",
       "      <td>13.925714</td>\n",
       "      <td>0</td>\n",
       "      <td>10.8</td>\n",
       "      <td>1.4</td>\n",
       "      <td>1.74</td>\n",
       "      <td>Graduate</td>\n",
       "    </tr>\n",
       "    <tr>\n",
       "      <th>3301</th>\n",
       "      <td>1</td>\n",
       "      <td>17</td>\n",
       "      <td>1</td>\n",
       "      <td>9500</td>\n",
       "      <td>1</td>\n",
       "      <td>1</td>\n",
       "      <td>130.0</td>\n",
       "      <td>1</td>\n",
       "      <td>19</td>\n",
       "      <td>1</td>\n",
       "      <td>...</td>\n",
       "      <td>0</td>\n",
       "      <td>8</td>\n",
       "      <td>8</td>\n",
       "      <td>8</td>\n",
       "      <td>14.362500</td>\n",
       "      <td>0</td>\n",
       "      <td>11.1</td>\n",
       "      <td>0.6</td>\n",
       "      <td>2.02</td>\n",
       "      <td>Graduate</td>\n",
       "    </tr>\n",
       "  </tbody>\n",
       "</table>\n",
       "<p>10 rows × 37 columns</p>\n",
       "</div>"
      ],
      "text/plain": [
       "      Marital status  Application mode  Application order  Course  \\\n",
       "2112               1                 1                  2    9556   \n",
       "1825               1                17                  1    9254   \n",
       "3020               1                17                  1    9130   \n",
       "1753               1                44                  1    9119   \n",
       "898                1                 1                  1    9254   \n",
       "1593               1                 1                  3     171   \n",
       "489                1                 1                  3    9500   \n",
       "3486               1                 1                  2    9500   \n",
       "1234               1                17                  6    9500   \n",
       "3301               1                17                  1    9500   \n",
       "\n",
       "      Daytime/evening attendance\\t  Previous qualification  \\\n",
       "2112                             1                       1   \n",
       "1825                             1                       1   \n",
       "3020                             1                       1   \n",
       "1753                             1                      39   \n",
       "898                              1                       1   \n",
       "1593                             1                       1   \n",
       "489                              1                       1   \n",
       "3486                             1                       1   \n",
       "1234                             1                       1   \n",
       "3301                             1                       1   \n",
       "\n",
       "      Previous qualification (grade)  Nacionality  Mother's qualification  \\\n",
       "2112                           136.0            1                      19   \n",
       "1825                           160.0            1                      19   \n",
       "3020                           131.0            1                      19   \n",
       "1753                           150.0            1                      19   \n",
       "898                            112.0            1                      38   \n",
       "1593                           129.0            1                      38   \n",
       "489                            128.0            1                      38   \n",
       "3486                           149.0            1                      19   \n",
       "1234                           150.0            1                       1   \n",
       "3301                           130.0            1                      19   \n",
       "\n",
       "      Father's qualification  ...  Curricular units 2nd sem (credited)  \\\n",
       "2112                      19  ...                                    0   \n",
       "1825                      37  ...                                    0   \n",
       "3020                       9  ...                                    0   \n",
       "1753                       3  ...                                    0   \n",
       "898                       19  ...                                    0   \n",
       "1593                      37  ...                                    0   \n",
       "489                       38  ...                                    0   \n",
       "3486                       1  ...                                    0   \n",
       "1234                      37  ...                                    0   \n",
       "3301                       1  ...                                    0   \n",
       "\n",
       "      Curricular units 2nd sem (enrolled)  \\\n",
       "2112                                    8   \n",
       "1825                                    6   \n",
       "3020                                    5   \n",
       "1753                                    5   \n",
       "898                                     6   \n",
       "1593                                    0   \n",
       "489                                     8   \n",
       "3486                                    8   \n",
       "1234                                    8   \n",
       "3301                                    8   \n",
       "\n",
       "      Curricular units 2nd sem (evaluations)  \\\n",
       "2112                                       8   \n",
       "1825                                       7   \n",
       "3020                                       7   \n",
       "1753                                      12   \n",
       "898                                       10   \n",
       "1593                                       0   \n",
       "489                                        8   \n",
       "3486                                       8   \n",
       "1234                                       8   \n",
       "3301                                       8   \n",
       "\n",
       "      Curricular units 2nd sem (approved)  Curricular units 2nd sem (grade)  \\\n",
       "2112                                    8                         16.800000   \n",
       "1825                                    6                         14.166667   \n",
       "3020                                    5                         12.833333   \n",
       "1753                                    2                         10.500000   \n",
       "898                                     4                         11.000000   \n",
       "1593                                    0                          0.000000   \n",
       "489                                     7                         13.542857   \n",
       "3486                                    7                         13.000000   \n",
       "1234                                    7                         13.925714   \n",
       "3301                                    8                         14.362500   \n",
       "\n",
       "      Curricular units 2nd sem (without evaluations)  Unemployment rate  \\\n",
       "2112                                               0               12.7   \n",
       "1825                                               0               12.7   \n",
       "3020                                               0                7.6   \n",
       "1753                                               0               12.7   \n",
       "898                                                0                7.6   \n",
       "1593                                               0                9.4   \n",
       "489                                                0               13.9   \n",
       "3486                                               0               12.7   \n",
       "1234                                               0               10.8   \n",
       "3301                                               0               11.1   \n",
       "\n",
       "      Inflation rate   GDP    Target  \n",
       "2112             3.7 -1.70  Graduate  \n",
       "1825             3.7 -1.70  Graduate  \n",
       "3020             2.6  0.32  Graduate  \n",
       "1753             3.7 -1.70  Enrolled  \n",
       "898              2.6  0.32  Enrolled  \n",
       "1593            -0.8 -3.12   Dropout  \n",
       "489             -0.3  0.79  Graduate  \n",
       "3486             3.7 -1.70  Graduate  \n",
       "1234             1.4  1.74  Graduate  \n",
       "3301             0.6  2.02  Graduate  \n",
       "\n",
       "[10 rows x 37 columns]"
      ]
     },
     "execution_count": 33,
     "metadata": {},
     "output_type": "execute_result"
    }
   ],
   "source": [
    "# Amostra de 10 estudantes\n",
    "amostra = stud.sample(n=10)\n",
    "amostra"
   ]
  },
  {
   "cell_type": "code",
   "execution_count": 34,
   "id": "989aefd8",
   "metadata": {
    "execution": {
     "iopub.execute_input": "2024-06-12T12:38:25.973918Z",
     "iopub.status.busy": "2024-06-12T12:38:25.973539Z",
     "iopub.status.idle": "2024-06-12T12:38:26.001512Z",
     "shell.execute_reply": "2024-06-12T12:38:26.000289Z"
    },
    "papermill": {
     "duration": 0.059057,
     "end_time": "2024-06-12T12:38:26.004534",
     "exception": false,
     "start_time": "2024-06-12T12:38:25.945477",
     "status": "completed"
    },
    "tags": []
   },
   "outputs": [
    {
     "data": {
      "text/html": [
       "<div>\n",
       "<style scoped>\n",
       "    .dataframe tbody tr th:only-of-type {\n",
       "        vertical-align: middle;\n",
       "    }\n",
       "\n",
       "    .dataframe tbody tr th {\n",
       "        vertical-align: top;\n",
       "    }\n",
       "\n",
       "    .dataframe thead th {\n",
       "        text-align: right;\n",
       "    }\n",
       "</style>\n",
       "<table border=\"1\" class=\"dataframe\">\n",
       "  <thead>\n",
       "    <tr style=\"text-align: right;\">\n",
       "      <th></th>\n",
       "      <th>Marital status</th>\n",
       "      <th>Application mode</th>\n",
       "      <th>Application order</th>\n",
       "      <th>Course</th>\n",
       "      <th>Daytime/evening attendance\\t</th>\n",
       "      <th>Previous qualification</th>\n",
       "      <th>Previous qualification (grade)</th>\n",
       "      <th>Nacionality</th>\n",
       "      <th>Mother's qualification</th>\n",
       "      <th>Father's qualification</th>\n",
       "      <th>...</th>\n",
       "      <th>Curricular units 2nd sem (credited)</th>\n",
       "      <th>Curricular units 2nd sem (enrolled)</th>\n",
       "      <th>Curricular units 2nd sem (evaluations)</th>\n",
       "      <th>Curricular units 2nd sem (approved)</th>\n",
       "      <th>Curricular units 2nd sem (grade)</th>\n",
       "      <th>Curricular units 2nd sem (without evaluations)</th>\n",
       "      <th>Unemployment rate</th>\n",
       "      <th>Inflation rate</th>\n",
       "      <th>GDP</th>\n",
       "      <th>Target</th>\n",
       "    </tr>\n",
       "  </thead>\n",
       "  <tbody>\n",
       "    <tr>\n",
       "      <th>342</th>\n",
       "      <td>2</td>\n",
       "      <td>39</td>\n",
       "      <td>1</td>\n",
       "      <td>8014</td>\n",
       "      <td>0</td>\n",
       "      <td>1</td>\n",
       "      <td>120.0</td>\n",
       "      <td>1</td>\n",
       "      <td>37</td>\n",
       "      <td>37</td>\n",
       "      <td>...</td>\n",
       "      <td>0</td>\n",
       "      <td>6</td>\n",
       "      <td>8</td>\n",
       "      <td>6</td>\n",
       "      <td>12.857143</td>\n",
       "      <td>0</td>\n",
       "      <td>12.4</td>\n",
       "      <td>0.5</td>\n",
       "      <td>1.79</td>\n",
       "      <td>Graduate</td>\n",
       "    </tr>\n",
       "    <tr>\n",
       "      <th>2506</th>\n",
       "      <td>1</td>\n",
       "      <td>1</td>\n",
       "      <td>1</td>\n",
       "      <td>9556</td>\n",
       "      <td>1</td>\n",
       "      <td>1</td>\n",
       "      <td>123.0</td>\n",
       "      <td>1</td>\n",
       "      <td>19</td>\n",
       "      <td>19</td>\n",
       "      <td>...</td>\n",
       "      <td>0</td>\n",
       "      <td>8</td>\n",
       "      <td>10</td>\n",
       "      <td>8</td>\n",
       "      <td>11.425000</td>\n",
       "      <td>0</td>\n",
       "      <td>12.7</td>\n",
       "      <td>3.7</td>\n",
       "      <td>-1.70</td>\n",
       "      <td>Graduate</td>\n",
       "    </tr>\n",
       "    <tr>\n",
       "      <th>786</th>\n",
       "      <td>1</td>\n",
       "      <td>1</td>\n",
       "      <td>1</td>\n",
       "      <td>9070</td>\n",
       "      <td>1</td>\n",
       "      <td>1</td>\n",
       "      <td>153.0</td>\n",
       "      <td>1</td>\n",
       "      <td>3</td>\n",
       "      <td>3</td>\n",
       "      <td>...</td>\n",
       "      <td>0</td>\n",
       "      <td>6</td>\n",
       "      <td>6</td>\n",
       "      <td>5</td>\n",
       "      <td>14.000000</td>\n",
       "      <td>0</td>\n",
       "      <td>12.7</td>\n",
       "      <td>3.7</td>\n",
       "      <td>-1.70</td>\n",
       "      <td>Graduate</td>\n",
       "    </tr>\n",
       "    <tr>\n",
       "      <th>2365</th>\n",
       "      <td>1</td>\n",
       "      <td>18</td>\n",
       "      <td>1</td>\n",
       "      <td>9773</td>\n",
       "      <td>1</td>\n",
       "      <td>1</td>\n",
       "      <td>125.0</td>\n",
       "      <td>1</td>\n",
       "      <td>1</td>\n",
       "      <td>1</td>\n",
       "      <td>...</td>\n",
       "      <td>0</td>\n",
       "      <td>6</td>\n",
       "      <td>6</td>\n",
       "      <td>6</td>\n",
       "      <td>14.500000</td>\n",
       "      <td>0</td>\n",
       "      <td>8.9</td>\n",
       "      <td>1.4</td>\n",
       "      <td>3.51</td>\n",
       "      <td>Graduate</td>\n",
       "    </tr>\n",
       "    <tr>\n",
       "      <th>127</th>\n",
       "      <td>1</td>\n",
       "      <td>1</td>\n",
       "      <td>1</td>\n",
       "      <td>9853</td>\n",
       "      <td>1</td>\n",
       "      <td>1</td>\n",
       "      <td>146.0</td>\n",
       "      <td>1</td>\n",
       "      <td>19</td>\n",
       "      <td>38</td>\n",
       "      <td>...</td>\n",
       "      <td>0</td>\n",
       "      <td>6</td>\n",
       "      <td>7</td>\n",
       "      <td>5</td>\n",
       "      <td>13.400000</td>\n",
       "      <td>0</td>\n",
       "      <td>9.4</td>\n",
       "      <td>-0.8</td>\n",
       "      <td>-3.12</td>\n",
       "      <td>Enrolled</td>\n",
       "    </tr>\n",
       "    <tr>\n",
       "      <th>...</th>\n",
       "      <td>...</td>\n",
       "      <td>...</td>\n",
       "      <td>...</td>\n",
       "      <td>...</td>\n",
       "      <td>...</td>\n",
       "      <td>...</td>\n",
       "      <td>...</td>\n",
       "      <td>...</td>\n",
       "      <td>...</td>\n",
       "      <td>...</td>\n",
       "      <td>...</td>\n",
       "      <td>...</td>\n",
       "      <td>...</td>\n",
       "      <td>...</td>\n",
       "      <td>...</td>\n",
       "      <td>...</td>\n",
       "      <td>...</td>\n",
       "      <td>...</td>\n",
       "      <td>...</td>\n",
       "      <td>...</td>\n",
       "      <td>...</td>\n",
       "    </tr>\n",
       "    <tr>\n",
       "      <th>2491</th>\n",
       "      <td>1</td>\n",
       "      <td>1</td>\n",
       "      <td>2</td>\n",
       "      <td>9147</td>\n",
       "      <td>1</td>\n",
       "      <td>1</td>\n",
       "      <td>128.0</td>\n",
       "      <td>1</td>\n",
       "      <td>1</td>\n",
       "      <td>1</td>\n",
       "      <td>...</td>\n",
       "      <td>0</td>\n",
       "      <td>5</td>\n",
       "      <td>13</td>\n",
       "      <td>2</td>\n",
       "      <td>13.500000</td>\n",
       "      <td>0</td>\n",
       "      <td>8.9</td>\n",
       "      <td>1.4</td>\n",
       "      <td>3.51</td>\n",
       "      <td>Enrolled</td>\n",
       "    </tr>\n",
       "    <tr>\n",
       "      <th>4184</th>\n",
       "      <td>1</td>\n",
       "      <td>1</td>\n",
       "      <td>1</td>\n",
       "      <td>9238</td>\n",
       "      <td>1</td>\n",
       "      <td>1</td>\n",
       "      <td>136.0</td>\n",
       "      <td>1</td>\n",
       "      <td>38</td>\n",
       "      <td>38</td>\n",
       "      <td>...</td>\n",
       "      <td>0</td>\n",
       "      <td>6</td>\n",
       "      <td>13</td>\n",
       "      <td>5</td>\n",
       "      <td>11.400000</td>\n",
       "      <td>0</td>\n",
       "      <td>7.6</td>\n",
       "      <td>2.6</td>\n",
       "      <td>0.32</td>\n",
       "      <td>Graduate</td>\n",
       "    </tr>\n",
       "    <tr>\n",
       "      <th>2123</th>\n",
       "      <td>1</td>\n",
       "      <td>17</td>\n",
       "      <td>3</td>\n",
       "      <td>9238</td>\n",
       "      <td>1</td>\n",
       "      <td>1</td>\n",
       "      <td>118.0</td>\n",
       "      <td>1</td>\n",
       "      <td>1</td>\n",
       "      <td>19</td>\n",
       "      <td>...</td>\n",
       "      <td>0</td>\n",
       "      <td>6</td>\n",
       "      <td>7</td>\n",
       "      <td>0</td>\n",
       "      <td>0.000000</td>\n",
       "      <td>0</td>\n",
       "      <td>16.2</td>\n",
       "      <td>0.3</td>\n",
       "      <td>-0.92</td>\n",
       "      <td>Dropout</td>\n",
       "    </tr>\n",
       "    <tr>\n",
       "      <th>1722</th>\n",
       "      <td>1</td>\n",
       "      <td>51</td>\n",
       "      <td>1</td>\n",
       "      <td>9085</td>\n",
       "      <td>1</td>\n",
       "      <td>1</td>\n",
       "      <td>127.0</td>\n",
       "      <td>1</td>\n",
       "      <td>3</td>\n",
       "      <td>3</td>\n",
       "      <td>...</td>\n",
       "      <td>5</td>\n",
       "      <td>12</td>\n",
       "      <td>20</td>\n",
       "      <td>12</td>\n",
       "      <td>15.428571</td>\n",
       "      <td>0</td>\n",
       "      <td>8.9</td>\n",
       "      <td>1.4</td>\n",
       "      <td>3.51</td>\n",
       "      <td>Graduate</td>\n",
       "    </tr>\n",
       "    <tr>\n",
       "      <th>3990</th>\n",
       "      <td>1</td>\n",
       "      <td>15</td>\n",
       "      <td>1</td>\n",
       "      <td>9853</td>\n",
       "      <td>1</td>\n",
       "      <td>1</td>\n",
       "      <td>133.1</td>\n",
       "      <td>41</td>\n",
       "      <td>43</td>\n",
       "      <td>1</td>\n",
       "      <td>...</td>\n",
       "      <td>6</td>\n",
       "      <td>10</td>\n",
       "      <td>12</td>\n",
       "      <td>9</td>\n",
       "      <td>14.888889</td>\n",
       "      <td>0</td>\n",
       "      <td>8.9</td>\n",
       "      <td>1.4</td>\n",
       "      <td>3.51</td>\n",
       "      <td>Graduate</td>\n",
       "    </tr>\n",
       "  </tbody>\n",
       "</table>\n",
       "<p>442 rows × 37 columns</p>\n",
       "</div>"
      ],
      "text/plain": [
       "      Marital status  Application mode  Application order  Course  \\\n",
       "342                2                39                  1    8014   \n",
       "2506               1                 1                  1    9556   \n",
       "786                1                 1                  1    9070   \n",
       "2365               1                18                  1    9773   \n",
       "127                1                 1                  1    9853   \n",
       "...              ...               ...                ...     ...   \n",
       "2491               1                 1                  2    9147   \n",
       "4184               1                 1                  1    9238   \n",
       "2123               1                17                  3    9238   \n",
       "1722               1                51                  1    9085   \n",
       "3990               1                15                  1    9853   \n",
       "\n",
       "      Daytime/evening attendance\\t  Previous qualification  \\\n",
       "342                              0                       1   \n",
       "2506                             1                       1   \n",
       "786                              1                       1   \n",
       "2365                             1                       1   \n",
       "127                              1                       1   \n",
       "...                            ...                     ...   \n",
       "2491                             1                       1   \n",
       "4184                             1                       1   \n",
       "2123                             1                       1   \n",
       "1722                             1                       1   \n",
       "3990                             1                       1   \n",
       "\n",
       "      Previous qualification (grade)  Nacionality  Mother's qualification  \\\n",
       "342                            120.0            1                      37   \n",
       "2506                           123.0            1                      19   \n",
       "786                            153.0            1                       3   \n",
       "2365                           125.0            1                       1   \n",
       "127                            146.0            1                      19   \n",
       "...                              ...          ...                     ...   \n",
       "2491                           128.0            1                       1   \n",
       "4184                           136.0            1                      38   \n",
       "2123                           118.0            1                       1   \n",
       "1722                           127.0            1                       3   \n",
       "3990                           133.1           41                      43   \n",
       "\n",
       "      Father's qualification  ...  Curricular units 2nd sem (credited)  \\\n",
       "342                       37  ...                                    0   \n",
       "2506                      19  ...                                    0   \n",
       "786                        3  ...                                    0   \n",
       "2365                       1  ...                                    0   \n",
       "127                       38  ...                                    0   \n",
       "...                      ...  ...                                  ...   \n",
       "2491                       1  ...                                    0   \n",
       "4184                      38  ...                                    0   \n",
       "2123                      19  ...                                    0   \n",
       "1722                       3  ...                                    5   \n",
       "3990                       1  ...                                    6   \n",
       "\n",
       "      Curricular units 2nd sem (enrolled)  \\\n",
       "342                                     6   \n",
       "2506                                    8   \n",
       "786                                     6   \n",
       "2365                                    6   \n",
       "127                                     6   \n",
       "...                                   ...   \n",
       "2491                                    5   \n",
       "4184                                    6   \n",
       "2123                                    6   \n",
       "1722                                   12   \n",
       "3990                                   10   \n",
       "\n",
       "      Curricular units 2nd sem (evaluations)  \\\n",
       "342                                        8   \n",
       "2506                                      10   \n",
       "786                                        6   \n",
       "2365                                       6   \n",
       "127                                        7   \n",
       "...                                      ...   \n",
       "2491                                      13   \n",
       "4184                                      13   \n",
       "2123                                       7   \n",
       "1722                                      20   \n",
       "3990                                      12   \n",
       "\n",
       "      Curricular units 2nd sem (approved)  Curricular units 2nd sem (grade)  \\\n",
       "342                                     6                         12.857143   \n",
       "2506                                    8                         11.425000   \n",
       "786                                     5                         14.000000   \n",
       "2365                                    6                         14.500000   \n",
       "127                                     5                         13.400000   \n",
       "...                                   ...                               ...   \n",
       "2491                                    2                         13.500000   \n",
       "4184                                    5                         11.400000   \n",
       "2123                                    0                          0.000000   \n",
       "1722                                   12                         15.428571   \n",
       "3990                                    9                         14.888889   \n",
       "\n",
       "      Curricular units 2nd sem (without evaluations)  Unemployment rate  \\\n",
       "342                                                0               12.4   \n",
       "2506                                               0               12.7   \n",
       "786                                                0               12.7   \n",
       "2365                                               0                8.9   \n",
       "127                                                0                9.4   \n",
       "...                                              ...                ...   \n",
       "2491                                               0                8.9   \n",
       "4184                                               0                7.6   \n",
       "2123                                               0               16.2   \n",
       "1722                                               0                8.9   \n",
       "3990                                               0                8.9   \n",
       "\n",
       "      Inflation rate   GDP    Target  \n",
       "342              0.5  1.79  Graduate  \n",
       "2506             3.7 -1.70  Graduate  \n",
       "786              3.7 -1.70  Graduate  \n",
       "2365             1.4  3.51  Graduate  \n",
       "127             -0.8 -3.12  Enrolled  \n",
       "...              ...   ...       ...  \n",
       "2491             1.4  3.51  Enrolled  \n",
       "4184             2.6  0.32  Graduate  \n",
       "2123             0.3 -0.92   Dropout  \n",
       "1722             1.4  3.51  Graduate  \n",
       "3990             1.4  3.51  Graduate  \n",
       "\n",
       "[442 rows x 37 columns]"
      ]
     },
     "execution_count": 34,
     "metadata": {},
     "output_type": "execute_result"
    }
   ],
   "source": [
    "# Se você preferir, pode extrair um percentual do DataFrame:\n",
    "amostra_10_perc = stud.sample(frac=0.1)\n",
    "amostra_10_perc"
   ]
  },
  {
   "cell_type": "markdown",
   "id": "8e864a49",
   "metadata": {
    "papermill": {
     "duration": 0.026312,
     "end_time": "2024-06-12T12:38:26.057889",
     "exception": false,
     "start_time": "2024-06-12T12:38:26.031577",
     "status": "completed"
    },
    "tags": []
   },
   "source": [
    "Por padrão, a amostragem é sem reposição. Se quiser uma amostragem com reposição, utilize o parâmetro replace = True:"
   ]
  },
  {
   "cell_type": "markdown",
   "id": "a0228aa2",
   "metadata": {
    "papermill": {
     "duration": 0.026845,
     "end_time": "2024-06-12T12:38:26.111664",
     "exception": false,
     "start_time": "2024-06-12T12:38:26.084819",
     "status": "completed"
    },
    "tags": []
   },
   "source": [
    "# 4.3 Método nunique e unique\n",
    "A função nunique retorna o número de elementos únicos no objeto, enquanto unique retorna os elementos únicos em si."
   ]
  },
  {
   "cell_type": "code",
   "execution_count": 35,
   "id": "d1314bc7",
   "metadata": {
    "execution": {
     "iopub.execute_input": "2024-06-12T12:38:26.167015Z",
     "iopub.status.busy": "2024-06-12T12:38:26.166581Z",
     "iopub.status.idle": "2024-06-12T12:38:26.174073Z",
     "shell.execute_reply": "2024-06-12T12:38:26.172954Z"
    },
    "papermill": {
     "duration": 0.037781,
     "end_time": "2024-06-12T12:38:26.176358",
     "exception": false,
     "start_time": "2024-06-12T12:38:26.138577",
     "status": "completed"
    },
    "tags": []
   },
   "outputs": [
    {
     "data": {
      "text/plain": [
       "array(['Dropout', 'Graduate', 'Enrolled'], dtype=object)"
      ]
     },
     "execution_count": 35,
     "metadata": {},
     "output_type": "execute_result"
    }
   ],
   "source": [
    "# Retorna os valores únicos \n",
    "stud.Target.unique()"
   ]
  },
  {
   "cell_type": "code",
   "execution_count": 36,
   "id": "5ae8d0a5",
   "metadata": {
    "execution": {
     "iopub.execute_input": "2024-06-12T12:38:26.232501Z",
     "iopub.status.busy": "2024-06-12T12:38:26.232102Z",
     "iopub.status.idle": "2024-06-12T12:38:26.239765Z",
     "shell.execute_reply": "2024-06-12T12:38:26.238491Z"
    },
    "papermill": {
     "duration": 0.039034,
     "end_time": "2024-06-12T12:38:26.242334",
     "exception": false,
     "start_time": "2024-06-12T12:38:26.203300",
     "status": "completed"
    },
    "tags": []
   },
   "outputs": [
    {
     "data": {
      "text/plain": [
       "3"
      ]
     },
     "execution_count": 36,
     "metadata": {},
     "output_type": "execute_result"
    }
   ],
   "source": [
    "stud.Target.nunique()"
   ]
  },
  {
   "cell_type": "markdown",
   "id": "cbc69e26",
   "metadata": {
    "papermill": {
     "duration": 0.026546,
     "end_time": "2024-06-12T12:38:26.296264",
     "exception": false,
     "start_time": "2024-06-12T12:38:26.269718",
     "status": "completed"
    },
    "tags": []
   },
   "source": [
    "Quando se tem 100, 200, ..., 1000 colunas, fica difícil checar cada uma para separar entre numéricas em categóricas. Sendo assim, você terá duas opções para fazer essa separação: (1) colocar tudo que é texto como feature categórica e o restante como numérica; (2) Olhar quantos valores únicos cada coluna possui e definir um valor como o limite que separa as features numéricas de categóricas (ex.: abaixo de 10 valores únicos são categóricas e o restante são numéricas). Para o segundo caso, df.unique() vai te ajudar a fazer o mapeamento."
   ]
  },
  {
   "cell_type": "code",
   "execution_count": 37,
   "id": "bd3a2bbb",
   "metadata": {
    "execution": {
     "iopub.execute_input": "2024-06-12T12:38:26.366840Z",
     "iopub.status.busy": "2024-06-12T12:38:26.366449Z",
     "iopub.status.idle": "2024-06-12T12:38:26.374939Z",
     "shell.execute_reply": "2024-06-12T12:38:26.373487Z"
    },
    "papermill": {
     "duration": 0.049296,
     "end_time": "2024-06-12T12:38:26.377164",
     "exception": false,
     "start_time": "2024-06-12T12:38:26.327868",
     "status": "completed"
    },
    "tags": []
   },
   "outputs": [],
   "source": [
    "# Lista de colunas com tipo de dado 'object' (geralmente texto ou string)\n",
    "categorical_features = stud.select_dtypes(include=['object']).columns.tolist()\n",
    "# Lista de colunas com tipos de dados numéricos (int e float)\n",
    "numerical_features = stud.select_dtypes(exclude=['object']).columns.tolist()\n"
   ]
  },
  {
   "cell_type": "markdown",
   "id": "348bbaf8",
   "metadata": {
    "papermill": {
     "duration": 0.026749,
     "end_time": "2024-06-12T12:38:26.431165",
     "exception": false,
     "start_time": "2024-06-12T12:38:26.404416",
     "status": "completed"
    },
    "tags": []
   },
   "source": [
    "# 4.4 Como usar funções com apply\n",
    "\n",
    "O método apply() é uma das ferramentas mais versáteis e poderosas do Pandas. Ele permite que você aplique uma função personalizada a cada elemento de uma Series ou a cada coluna/linha de um DataFrame. Isso é especialmente útil quando você precisa realizar transformações ou cálculos que não são facilmente alcançados com os métodos padrão do Pandas.\n",
    "\n",
    "Para os exercícios de Pandas, vamos usar o data\n",
    "Se você deseja aplicar uma função a cada elemento de uma Series, simplesmente use apply() diretamente nessa Series. Por exemplo, podemos calcular o quadrado de cada valor em uma coluna usando o apply combinado com uma função lambda:"
   ]
  },
  {
   "cell_type": "code",
   "execution_count": 38,
   "id": "147de63b",
   "metadata": {
    "execution": {
     "iopub.execute_input": "2024-06-12T12:38:26.500613Z",
     "iopub.status.busy": "2024-06-12T12:38:26.500040Z",
     "iopub.status.idle": "2024-06-12T12:38:26.511870Z",
     "shell.execute_reply": "2024-06-12T12:38:26.510886Z"
    },
    "papermill": {
     "duration": 0.052699,
     "end_time": "2024-06-12T12:38:26.514577",
     "exception": false,
     "start_time": "2024-06-12T12:38:26.461878",
     "status": "completed"
    },
    "tags": []
   },
   "outputs": [
    {
     "data": {
      "text/html": [
       "<div>\n",
       "<style scoped>\n",
       "    .dataframe tbody tr th:only-of-type {\n",
       "        vertical-align: middle;\n",
       "    }\n",
       "\n",
       "    .dataframe tbody tr th {\n",
       "        vertical-align: top;\n",
       "    }\n",
       "\n",
       "    .dataframe thead th {\n",
       "        text-align: right;\n",
       "    }\n",
       "</style>\n",
       "<table border=\"1\" class=\"dataframe\">\n",
       "  <thead>\n",
       "    <tr style=\"text-align: right;\">\n",
       "      <th></th>\n",
       "      <th>A</th>\n",
       "      <th>quadrado</th>\n",
       "    </tr>\n",
       "  </thead>\n",
       "  <tbody>\n",
       "    <tr>\n",
       "      <th>0</th>\n",
       "      <td>1</td>\n",
       "      <td>1</td>\n",
       "    </tr>\n",
       "    <tr>\n",
       "      <th>1</th>\n",
       "      <td>2</td>\n",
       "      <td>4</td>\n",
       "    </tr>\n",
       "    <tr>\n",
       "      <th>2</th>\n",
       "      <td>3</td>\n",
       "      <td>9</td>\n",
       "    </tr>\n",
       "    <tr>\n",
       "      <th>3</th>\n",
       "      <td>4</td>\n",
       "      <td>16</td>\n",
       "    </tr>\n",
       "    <tr>\n",
       "      <th>4</th>\n",
       "      <td>5</td>\n",
       "      <td>25</td>\n",
       "    </tr>\n",
       "  </tbody>\n",
       "</table>\n",
       "</div>"
      ],
      "text/plain": [
       "   A  quadrado\n",
       "0  1         1\n",
       "1  2         4\n",
       "2  3         9\n",
       "3  4        16\n",
       "4  5        25"
      ]
     },
     "execution_count": 38,
     "metadata": {},
     "output_type": "execute_result"
    }
   ],
   "source": [
    "df =pd.DataFrame({'A':[1,2,3,4,5]})\n",
    "\n",
    "df['quadrado'] = df['A'].apply(lambda x: x**2)\n",
    "\n",
    "df"
   ]
  },
  {
   "cell_type": "markdown",
   "id": "da60034d",
   "metadata": {
    "papermill": {
     "duration": 0.035977,
     "end_time": "2024-06-12T12:38:26.591244",
     "exception": false,
     "start_time": "2024-06-12T12:38:26.555267",
     "status": "completed"
    },
    "tags": []
   },
   "source": [
    "Voltando ao nosso dataset de alunos, vamos criar uma nova coluna para deixar o GDP multiplicado por 100:"
   ]
  },
  {
   "cell_type": "code",
   "execution_count": 39,
   "id": "0c0a417b",
   "metadata": {
    "execution": {
     "iopub.execute_input": "2024-06-12T12:38:26.646976Z",
     "iopub.status.busy": "2024-06-12T12:38:26.646235Z",
     "iopub.status.idle": "2024-06-12T12:38:26.660057Z",
     "shell.execute_reply": "2024-06-12T12:38:26.658864Z"
    },
    "papermill": {
     "duration": 0.04411,
     "end_time": "2024-06-12T12:38:26.662343",
     "exception": false,
     "start_time": "2024-06-12T12:38:26.618233",
     "status": "completed"
    },
    "tags": []
   },
   "outputs": [
    {
     "data": {
      "text/html": [
       "<div>\n",
       "<style scoped>\n",
       "    .dataframe tbody tr th:only-of-type {\n",
       "        vertical-align: middle;\n",
       "    }\n",
       "\n",
       "    .dataframe tbody tr th {\n",
       "        vertical-align: top;\n",
       "    }\n",
       "\n",
       "    .dataframe thead th {\n",
       "        text-align: right;\n",
       "    }\n",
       "</style>\n",
       "<table border=\"1\" class=\"dataframe\">\n",
       "  <thead>\n",
       "    <tr style=\"text-align: right;\">\n",
       "      <th></th>\n",
       "      <th>GDP</th>\n",
       "      <th>new_GDP</th>\n",
       "    </tr>\n",
       "  </thead>\n",
       "  <tbody>\n",
       "    <tr>\n",
       "      <th>0</th>\n",
       "      <td>1.74</td>\n",
       "      <td>174.0</td>\n",
       "    </tr>\n",
       "    <tr>\n",
       "      <th>1</th>\n",
       "      <td>0.79</td>\n",
       "      <td>79.0</td>\n",
       "    </tr>\n",
       "    <tr>\n",
       "      <th>2</th>\n",
       "      <td>1.74</td>\n",
       "      <td>174.0</td>\n",
       "    </tr>\n",
       "    <tr>\n",
       "      <th>3</th>\n",
       "      <td>-3.12</td>\n",
       "      <td>-312.0</td>\n",
       "    </tr>\n",
       "    <tr>\n",
       "      <th>4</th>\n",
       "      <td>0.79</td>\n",
       "      <td>79.0</td>\n",
       "    </tr>\n",
       "  </tbody>\n",
       "</table>\n",
       "</div>"
      ],
      "text/plain": [
       "    GDP  new_GDP\n",
       "0  1.74    174.0\n",
       "1  0.79     79.0\n",
       "2  1.74    174.0\n",
       "3 -3.12   -312.0\n",
       "4  0.79     79.0"
      ]
     },
     "execution_count": 39,
     "metadata": {},
     "output_type": "execute_result"
    }
   ],
   "source": [
    "stud['new_GDP'] = stud.GDP.apply(lambda x: x*100)\n",
    "stud[['GDP','new_GDP']].head()"
   ]
  },
  {
   "cell_type": "markdown",
   "id": "da4858a7",
   "metadata": {
    "papermill": {
     "duration": 0.03103,
     "end_time": "2024-06-12T12:38:26.730823",
     "exception": false,
     "start_time": "2024-06-12T12:38:26.699793",
     "status": "completed"
    },
    "tags": []
   },
   "source": [
    "Ao usar apply() em um DataFrame, você pode especificar o eixo ao longo do qual a função deve ser aplicada. Por padrão, a função será aplicada a cada coluna (axis=0), mas você pode alterar para aplicar a função a cada linha (axis=1). Veja como podemos aplicar nas colunas e linhas de um DataFrame:"
   ]
  },
  {
   "cell_type": "code",
   "execution_count": 40,
   "id": "c4653d25",
   "metadata": {
    "execution": {
     "iopub.execute_input": "2024-06-12T12:38:26.791483Z",
     "iopub.status.busy": "2024-06-12T12:38:26.791100Z",
     "iopub.status.idle": "2024-06-12T12:38:26.802606Z",
     "shell.execute_reply": "2024-06-12T12:38:26.801632Z"
    },
    "papermill": {
     "duration": 0.042238,
     "end_time": "2024-06-12T12:38:26.804739",
     "exception": false,
     "start_time": "2024-06-12T12:38:26.762501",
     "status": "completed"
    },
    "tags": []
   },
   "outputs": [
    {
     "data": {
      "text/html": [
       "<div>\n",
       "<style scoped>\n",
       "    .dataframe tbody tr th:only-of-type {\n",
       "        vertical-align: middle;\n",
       "    }\n",
       "\n",
       "    .dataframe tbody tr th {\n",
       "        vertical-align: top;\n",
       "    }\n",
       "\n",
       "    .dataframe thead th {\n",
       "        text-align: right;\n",
       "    }\n",
       "</style>\n",
       "<table border=\"1\" class=\"dataframe\">\n",
       "  <thead>\n",
       "    <tr style=\"text-align: right;\">\n",
       "      <th></th>\n",
       "      <th>A</th>\n",
       "      <th>B</th>\n",
       "      <th>C</th>\n",
       "    </tr>\n",
       "  </thead>\n",
       "  <tbody>\n",
       "    <tr>\n",
       "      <th>0</th>\n",
       "      <td>1</td>\n",
       "      <td>4</td>\n",
       "      <td>7</td>\n",
       "    </tr>\n",
       "    <tr>\n",
       "      <th>1</th>\n",
       "      <td>2</td>\n",
       "      <td>5</td>\n",
       "      <td>8</td>\n",
       "    </tr>\n",
       "    <tr>\n",
       "      <th>2</th>\n",
       "      <td>3</td>\n",
       "      <td>6</td>\n",
       "      <td>9</td>\n",
       "    </tr>\n",
       "  </tbody>\n",
       "</table>\n",
       "</div>"
      ],
      "text/plain": [
       "   A  B  C\n",
       "0  1  4  7\n",
       "1  2  5  8\n",
       "2  3  6  9"
      ]
     },
     "execution_count": 40,
     "metadata": {},
     "output_type": "execute_result"
    }
   ],
   "source": [
    "# Construindo dataframe para exemplos\n",
    "df = pd.DataFrame({\n",
    "    'A': [1,2,3],\n",
    "    'B': [4,5,6],\n",
    "    'C': [7,8,9]\n",
    "})\n",
    "\n",
    "df"
   ]
  },
  {
   "cell_type": "code",
   "execution_count": 41,
   "id": "8ddcdf45",
   "metadata": {
    "execution": {
     "iopub.execute_input": "2024-06-12T12:38:26.863682Z",
     "iopub.status.busy": "2024-06-12T12:38:26.863260Z",
     "iopub.status.idle": "2024-06-12T12:38:26.872399Z",
     "shell.execute_reply": "2024-06-12T12:38:26.871306Z"
    },
    "papermill": {
     "duration": 0.042505,
     "end_time": "2024-06-12T12:38:26.874704",
     "exception": false,
     "start_time": "2024-06-12T12:38:26.832199",
     "status": "completed"
    },
    "tags": []
   },
   "outputs": [
    {
     "data": {
      "text/plain": [
       "0    4.0\n",
       "1    5.0\n",
       "2    6.0\n",
       "dtype: float64"
      ]
     },
     "execution_count": 41,
     "metadata": {},
     "output_type": "execute_result"
    }
   ],
   "source": [
    "# Media das colunas\n",
    "df.apply(lambda col: col.mean(), axis=1)"
   ]
  },
  {
   "cell_type": "code",
   "execution_count": 42,
   "id": "e85d6a05",
   "metadata": {
    "execution": {
     "iopub.execute_input": "2024-06-12T12:38:26.931965Z",
     "iopub.status.busy": "2024-06-12T12:38:26.931561Z",
     "iopub.status.idle": "2024-06-12T12:38:26.940086Z",
     "shell.execute_reply": "2024-06-12T12:38:26.938931Z"
    },
    "papermill": {
     "duration": 0.040339,
     "end_time": "2024-06-12T12:38:26.942715",
     "exception": false,
     "start_time": "2024-06-12T12:38:26.902376",
     "status": "completed"
    },
    "tags": []
   },
   "outputs": [
    {
     "data": {
      "text/plain": [
       "A     6\n",
       "B    15\n",
       "C    24\n",
       "dtype: int64"
      ]
     },
     "execution_count": 42,
     "metadata": {},
     "output_type": "execute_result"
    }
   ],
   "source": [
    "# Soma das linhas\n",
    "df.apply(lambda row: row.sum(), axis=0)"
   ]
  },
  {
   "cell_type": "markdown",
   "id": "055b9b91",
   "metadata": {
    "papermill": {
     "duration": 0.027168,
     "end_time": "2024-06-12T12:38:26.997628",
     "exception": false,
     "start_time": "2024-06-12T12:38:26.970460",
     "status": "completed"
    },
    "tags": []
   },
   "source": [
    "O método apply() é extremamente flexível e, com ele, as possibilidades são quase infinitas. Seja para transformações simples ou operações mais complexas, apply() é uma ferramenta essencial no arsenal de qualquer cientista ou analista de dados que trabalhe com Pandas"
   ]
  },
  {
   "cell_type": "markdown",
   "id": "d0cd750d",
   "metadata": {
    "papermill": {
     "duration": 0.028682,
     "end_time": "2024-06-12T12:38:27.055284",
     "exception": false,
     "start_time": "2024-06-12T12:38:27.026602",
     "status": "completed"
    },
    "tags": []
   },
   "source": [
    "# 4.5 Tabelas de Frequência Cruzada\n",
    "\n",
    "A função crosstab() é uma ferramenta poderosa do Pandas que permite criar tabelas de contingência, que são ótimas para entender a relação entre duas variáveis categóricas.\n",
    "\n",
    "Vamos ao nosso dataset de bikes! Baixe no anexo o arquivo bike.zip, vamos carregar o dataset products:"
   ]
  },
  {
   "cell_type": "code",
   "execution_count": 43,
   "id": "79265155",
   "metadata": {
    "execution": {
     "iopub.execute_input": "2024-06-12T12:38:27.113589Z",
     "iopub.status.busy": "2024-06-12T12:38:27.113225Z",
     "iopub.status.idle": "2024-06-12T12:38:27.133206Z",
     "shell.execute_reply": "2024-06-12T12:38:27.132083Z"
    },
    "papermill": {
     "duration": 0.051867,
     "end_time": "2024-06-12T12:38:27.135421",
     "exception": false,
     "start_time": "2024-06-12T12:38:27.083554",
     "status": "completed"
    },
    "tags": []
   },
   "outputs": [
    {
     "data": {
      "text/html": [
       "<div>\n",
       "<style scoped>\n",
       "    .dataframe tbody tr th:only-of-type {\n",
       "        vertical-align: middle;\n",
       "    }\n",
       "\n",
       "    .dataframe tbody tr th {\n",
       "        vertical-align: top;\n",
       "    }\n",
       "\n",
       "    .dataframe thead th {\n",
       "        text-align: right;\n",
       "    }\n",
       "</style>\n",
       "<table border=\"1\" class=\"dataframe\">\n",
       "  <thead>\n",
       "    <tr style=\"text-align: right;\">\n",
       "      <th>brand_id</th>\n",
       "      <th>1</th>\n",
       "      <th>2</th>\n",
       "      <th>3</th>\n",
       "      <th>4</th>\n",
       "      <th>5</th>\n",
       "      <th>6</th>\n",
       "      <th>7</th>\n",
       "      <th>8</th>\n",
       "      <th>9</th>\n",
       "    </tr>\n",
       "    <tr>\n",
       "      <th>model_year</th>\n",
       "      <th></th>\n",
       "      <th></th>\n",
       "      <th></th>\n",
       "      <th></th>\n",
       "      <th></th>\n",
       "      <th></th>\n",
       "      <th></th>\n",
       "      <th></th>\n",
       "      <th></th>\n",
       "    </tr>\n",
       "  </thead>\n",
       "  <tbody>\n",
       "    <tr>\n",
       "      <th>2016</th>\n",
       "      <td>12</td>\n",
       "      <td>0</td>\n",
       "      <td>1</td>\n",
       "      <td>3</td>\n",
       "      <td>1</td>\n",
       "      <td>0</td>\n",
       "      <td>0</td>\n",
       "      <td>4</td>\n",
       "      <td>5</td>\n",
       "    </tr>\n",
       "    <tr>\n",
       "      <th>2017</th>\n",
       "      <td>16</td>\n",
       "      <td>10</td>\n",
       "      <td>0</td>\n",
       "      <td>0</td>\n",
       "      <td>0</td>\n",
       "      <td>0</td>\n",
       "      <td>23</td>\n",
       "      <td>8</td>\n",
       "      <td>28</td>\n",
       "    </tr>\n",
       "    <tr>\n",
       "      <th>2018</th>\n",
       "      <td>90</td>\n",
       "      <td>0</td>\n",
       "      <td>2</td>\n",
       "      <td>0</td>\n",
       "      <td>0</td>\n",
       "      <td>3</td>\n",
       "      <td>0</td>\n",
       "      <td>13</td>\n",
       "      <td>96</td>\n",
       "    </tr>\n",
       "    <tr>\n",
       "      <th>2019</th>\n",
       "      <td>0</td>\n",
       "      <td>0</td>\n",
       "      <td>0</td>\n",
       "      <td>0</td>\n",
       "      <td>0</td>\n",
       "      <td>0</td>\n",
       "      <td>0</td>\n",
       "      <td>0</td>\n",
       "      <td>6</td>\n",
       "    </tr>\n",
       "  </tbody>\n",
       "</table>\n",
       "</div>"
      ],
      "text/plain": [
       "brand_id     1   2  3  4  5  6   7   8   9\n",
       "model_year                                \n",
       "2016        12   0  1  3  1  0   0   4   5\n",
       "2017        16  10  0  0  0  0  23   8  28\n",
       "2018        90   0  2  0  0  3   0  13  96\n",
       "2019         0   0  0  0  0  0   0   0   6"
      ]
     },
     "execution_count": 43,
     "metadata": {},
     "output_type": "execute_result"
    }
   ],
   "source": [
    "pd.crosstab(prod['model_year'], prod['brand_id'])"
   ]
  },
  {
   "cell_type": "markdown",
   "id": "06c58653",
   "metadata": {
    "papermill": {
     "duration": 0.028818,
     "end_time": "2024-06-12T12:38:27.192542",
     "exception": false,
     "start_time": "2024-06-12T12:38:27.163724",
     "status": "completed"
    },
    "tags": []
   },
   "source": [
    "Veja que apenas a marca de id 9 criou bikes no ano de 2019. Além disso, podemos ver que ela é uma das que mais criou produtos, junto com a marca 1.\n",
    "\n",
    "Se quisermos ver o total das linhas e colunas:"
   ]
  },
  {
   "cell_type": "code",
   "execution_count": 44,
   "id": "b453dfb5",
   "metadata": {
    "execution": {
     "iopub.execute_input": "2024-06-12T12:38:27.250730Z",
     "iopub.status.busy": "2024-06-12T12:38:27.250366Z",
     "iopub.status.idle": "2024-06-12T12:38:27.296184Z",
     "shell.execute_reply": "2024-06-12T12:38:27.295121Z"
    },
    "papermill": {
     "duration": 0.077641,
     "end_time": "2024-06-12T12:38:27.298200",
     "exception": false,
     "start_time": "2024-06-12T12:38:27.220559",
     "status": "completed"
    },
    "tags": []
   },
   "outputs": [
    {
     "data": {
      "text/html": [
       "<div>\n",
       "<style scoped>\n",
       "    .dataframe tbody tr th:only-of-type {\n",
       "        vertical-align: middle;\n",
       "    }\n",
       "\n",
       "    .dataframe tbody tr th {\n",
       "        vertical-align: top;\n",
       "    }\n",
       "\n",
       "    .dataframe thead th {\n",
       "        text-align: right;\n",
       "    }\n",
       "</style>\n",
       "<table border=\"1\" class=\"dataframe\">\n",
       "  <thead>\n",
       "    <tr style=\"text-align: right;\">\n",
       "      <th>brand_id</th>\n",
       "      <th>1</th>\n",
       "      <th>2</th>\n",
       "      <th>3</th>\n",
       "      <th>4</th>\n",
       "      <th>5</th>\n",
       "      <th>6</th>\n",
       "      <th>7</th>\n",
       "      <th>8</th>\n",
       "      <th>9</th>\n",
       "      <th>All</th>\n",
       "    </tr>\n",
       "    <tr>\n",
       "      <th>model_year</th>\n",
       "      <th></th>\n",
       "      <th></th>\n",
       "      <th></th>\n",
       "      <th></th>\n",
       "      <th></th>\n",
       "      <th></th>\n",
       "      <th></th>\n",
       "      <th></th>\n",
       "      <th></th>\n",
       "      <th></th>\n",
       "    </tr>\n",
       "  </thead>\n",
       "  <tbody>\n",
       "    <tr>\n",
       "      <th>2016</th>\n",
       "      <td>12</td>\n",
       "      <td>0</td>\n",
       "      <td>1</td>\n",
       "      <td>3</td>\n",
       "      <td>1</td>\n",
       "      <td>0</td>\n",
       "      <td>0</td>\n",
       "      <td>4</td>\n",
       "      <td>5</td>\n",
       "      <td>26</td>\n",
       "    </tr>\n",
       "    <tr>\n",
       "      <th>2017</th>\n",
       "      <td>16</td>\n",
       "      <td>10</td>\n",
       "      <td>0</td>\n",
       "      <td>0</td>\n",
       "      <td>0</td>\n",
       "      <td>0</td>\n",
       "      <td>23</td>\n",
       "      <td>8</td>\n",
       "      <td>28</td>\n",
       "      <td>85</td>\n",
       "    </tr>\n",
       "    <tr>\n",
       "      <th>2018</th>\n",
       "      <td>90</td>\n",
       "      <td>0</td>\n",
       "      <td>2</td>\n",
       "      <td>0</td>\n",
       "      <td>0</td>\n",
       "      <td>3</td>\n",
       "      <td>0</td>\n",
       "      <td>13</td>\n",
       "      <td>96</td>\n",
       "      <td>204</td>\n",
       "    </tr>\n",
       "    <tr>\n",
       "      <th>2019</th>\n",
       "      <td>0</td>\n",
       "      <td>0</td>\n",
       "      <td>0</td>\n",
       "      <td>0</td>\n",
       "      <td>0</td>\n",
       "      <td>0</td>\n",
       "      <td>0</td>\n",
       "      <td>0</td>\n",
       "      <td>6</td>\n",
       "      <td>6</td>\n",
       "    </tr>\n",
       "    <tr>\n",
       "      <th>All</th>\n",
       "      <td>118</td>\n",
       "      <td>10</td>\n",
       "      <td>3</td>\n",
       "      <td>3</td>\n",
       "      <td>1</td>\n",
       "      <td>3</td>\n",
       "      <td>23</td>\n",
       "      <td>25</td>\n",
       "      <td>135</td>\n",
       "      <td>321</td>\n",
       "    </tr>\n",
       "  </tbody>\n",
       "</table>\n",
       "</div>"
      ],
      "text/plain": [
       "brand_id      1   2  3  4  5  6   7   8    9  All\n",
       "model_year                                       \n",
       "2016         12   0  1  3  1  0   0   4    5   26\n",
       "2017         16  10  0  0  0  0  23   8   28   85\n",
       "2018         90   0  2  0  0  3   0  13   96  204\n",
       "2019          0   0  0  0  0  0   0   0    6    6\n",
       "All         118  10  3  3  1  3  23  25  135  321"
      ]
     },
     "execution_count": 44,
     "metadata": {},
     "output_type": "execute_result"
    }
   ],
   "source": [
    "pd.crosstab(prod['model_year'], prod['brand_id'],margins = True)"
   ]
  },
  {
   "cell_type": "markdown",
   "id": "6ef95aef",
   "metadata": {
    "papermill": {
     "duration": 0.02821,
     "end_time": "2024-06-12T12:38:27.354422",
     "exception": false,
     "start_time": "2024-06-12T12:38:27.326212",
     "status": "completed"
    },
    "tags": []
   },
   "source": [
    "Agora ficou mais claro que a marca 9 é a que mais produz e o ano de 2018 foi o ano que mais se criou produtos para este grupo de marcas.\n",
    "\n",
    "Se quisermos ver quanto cada célula representa daquela linha ou daquela coluna, em percentual, aí teremos que ser um pouco mais espertos e nos aproveitarmos do apply:"
   ]
  },
  {
   "cell_type": "code",
   "execution_count": 45,
   "id": "6a574a17",
   "metadata": {
    "execution": {
     "iopub.execute_input": "2024-06-12T12:38:27.414606Z",
     "iopub.status.busy": "2024-06-12T12:38:27.413939Z",
     "iopub.status.idle": "2024-06-12T12:38:27.437812Z",
     "shell.execute_reply": "2024-06-12T12:38:27.436683Z"
    },
    "papermill": {
     "duration": 0.05557,
     "end_time": "2024-06-12T12:38:27.440198",
     "exception": false,
     "start_time": "2024-06-12T12:38:27.384628",
     "status": "completed"
    },
    "tags": []
   },
   "outputs": [
    {
     "data": {
      "text/html": [
       "<div>\n",
       "<style scoped>\n",
       "    .dataframe tbody tr th:only-of-type {\n",
       "        vertical-align: middle;\n",
       "    }\n",
       "\n",
       "    .dataframe tbody tr th {\n",
       "        vertical-align: top;\n",
       "    }\n",
       "\n",
       "    .dataframe thead th {\n",
       "        text-align: right;\n",
       "    }\n",
       "</style>\n",
       "<table border=\"1\" class=\"dataframe\">\n",
       "  <thead>\n",
       "    <tr style=\"text-align: right;\">\n",
       "      <th>brand_id</th>\n",
       "      <th>1</th>\n",
       "      <th>2</th>\n",
       "      <th>3</th>\n",
       "      <th>4</th>\n",
       "      <th>5</th>\n",
       "      <th>6</th>\n",
       "      <th>7</th>\n",
       "      <th>8</th>\n",
       "      <th>9</th>\n",
       "    </tr>\n",
       "    <tr>\n",
       "      <th>model_year</th>\n",
       "      <th></th>\n",
       "      <th></th>\n",
       "      <th></th>\n",
       "      <th></th>\n",
       "      <th></th>\n",
       "      <th></th>\n",
       "      <th></th>\n",
       "      <th></th>\n",
       "      <th></th>\n",
       "    </tr>\n",
       "  </thead>\n",
       "  <tbody>\n",
       "    <tr>\n",
       "      <th>2016</th>\n",
       "      <td>0.461538</td>\n",
       "      <td>0.000000</td>\n",
       "      <td>0.038462</td>\n",
       "      <td>0.115385</td>\n",
       "      <td>0.038462</td>\n",
       "      <td>0.000000</td>\n",
       "      <td>0.000000</td>\n",
       "      <td>0.153846</td>\n",
       "      <td>0.192308</td>\n",
       "    </tr>\n",
       "    <tr>\n",
       "      <th>2017</th>\n",
       "      <td>0.188235</td>\n",
       "      <td>0.117647</td>\n",
       "      <td>0.000000</td>\n",
       "      <td>0.000000</td>\n",
       "      <td>0.000000</td>\n",
       "      <td>0.000000</td>\n",
       "      <td>0.270588</td>\n",
       "      <td>0.094118</td>\n",
       "      <td>0.329412</td>\n",
       "    </tr>\n",
       "    <tr>\n",
       "      <th>2018</th>\n",
       "      <td>0.441176</td>\n",
       "      <td>0.000000</td>\n",
       "      <td>0.009804</td>\n",
       "      <td>0.000000</td>\n",
       "      <td>0.000000</td>\n",
       "      <td>0.014706</td>\n",
       "      <td>0.000000</td>\n",
       "      <td>0.063725</td>\n",
       "      <td>0.470588</td>\n",
       "    </tr>\n",
       "    <tr>\n",
       "      <th>2019</th>\n",
       "      <td>0.000000</td>\n",
       "      <td>0.000000</td>\n",
       "      <td>0.000000</td>\n",
       "      <td>0.000000</td>\n",
       "      <td>0.000000</td>\n",
       "      <td>0.000000</td>\n",
       "      <td>0.000000</td>\n",
       "      <td>0.000000</td>\n",
       "      <td>1.000000</td>\n",
       "    </tr>\n",
       "  </tbody>\n",
       "</table>\n",
       "</div>"
      ],
      "text/plain": [
       "brand_id           1         2         3         4         5         6  \\\n",
       "model_year                                                               \n",
       "2016        0.461538  0.000000  0.038462  0.115385  0.038462  0.000000   \n",
       "2017        0.188235  0.117647  0.000000  0.000000  0.000000  0.000000   \n",
       "2018        0.441176  0.000000  0.009804  0.000000  0.000000  0.014706   \n",
       "2019        0.000000  0.000000  0.000000  0.000000  0.000000  0.000000   \n",
       "\n",
       "brand_id           7         8         9  \n",
       "model_year                                \n",
       "2016        0.000000  0.153846  0.192308  \n",
       "2017        0.270588  0.094118  0.329412  \n",
       "2018        0.000000  0.063725  0.470588  \n",
       "2019        0.000000  0.000000  1.000000  "
      ]
     },
     "execution_count": 45,
     "metadata": {},
     "output_type": "execute_result"
    }
   ],
   "source": [
    "# percentual da linha\n",
    "pd.crosstab(prod['model_year'], prod['brand_id']).apply(lambda r: r/r.sum(),axis=1)"
   ]
  },
  {
   "cell_type": "code",
   "execution_count": 46,
   "id": "6dbb9354",
   "metadata": {
    "execution": {
     "iopub.execute_input": "2024-06-12T12:38:27.499753Z",
     "iopub.status.busy": "2024-06-12T12:38:27.499395Z",
     "iopub.status.idle": "2024-06-12T12:38:27.521087Z",
     "shell.execute_reply": "2024-06-12T12:38:27.520063Z"
    },
    "papermill": {
     "duration": 0.053837,
     "end_time": "2024-06-12T12:38:27.523283",
     "exception": false,
     "start_time": "2024-06-12T12:38:27.469446",
     "status": "completed"
    },
    "tags": []
   },
   "outputs": [
    {
     "data": {
      "text/html": [
       "<style type=\"text/css\">\n",
       "</style>\n",
       "<table id=\"T_19a3c\">\n",
       "  <thead>\n",
       "    <tr>\n",
       "      <th class=\"index_name level0\" >brand_id</th>\n",
       "      <th id=\"T_19a3c_level0_col0\" class=\"col_heading level0 col0\" >1</th>\n",
       "      <th id=\"T_19a3c_level0_col1\" class=\"col_heading level0 col1\" >2</th>\n",
       "      <th id=\"T_19a3c_level0_col2\" class=\"col_heading level0 col2\" >3</th>\n",
       "      <th id=\"T_19a3c_level0_col3\" class=\"col_heading level0 col3\" >4</th>\n",
       "      <th id=\"T_19a3c_level0_col4\" class=\"col_heading level0 col4\" >5</th>\n",
       "      <th id=\"T_19a3c_level0_col5\" class=\"col_heading level0 col5\" >6</th>\n",
       "      <th id=\"T_19a3c_level0_col6\" class=\"col_heading level0 col6\" >7</th>\n",
       "      <th id=\"T_19a3c_level0_col7\" class=\"col_heading level0 col7\" >8</th>\n",
       "      <th id=\"T_19a3c_level0_col8\" class=\"col_heading level0 col8\" >9</th>\n",
       "    </tr>\n",
       "    <tr>\n",
       "      <th class=\"index_name level0\" >model_year</th>\n",
       "      <th class=\"blank col0\" >&nbsp;</th>\n",
       "      <th class=\"blank col1\" >&nbsp;</th>\n",
       "      <th class=\"blank col2\" >&nbsp;</th>\n",
       "      <th class=\"blank col3\" >&nbsp;</th>\n",
       "      <th class=\"blank col4\" >&nbsp;</th>\n",
       "      <th class=\"blank col5\" >&nbsp;</th>\n",
       "      <th class=\"blank col6\" >&nbsp;</th>\n",
       "      <th class=\"blank col7\" >&nbsp;</th>\n",
       "      <th class=\"blank col8\" >&nbsp;</th>\n",
       "    </tr>\n",
       "  </thead>\n",
       "  <tbody>\n",
       "    <tr>\n",
       "      <th id=\"T_19a3c_level0_row0\" class=\"row_heading level0 row0\" >2016</th>\n",
       "      <td id=\"T_19a3c_row0_col0\" class=\"data row0 col0\" >46.15%</td>\n",
       "      <td id=\"T_19a3c_row0_col1\" class=\"data row0 col1\" >0.00%</td>\n",
       "      <td id=\"T_19a3c_row0_col2\" class=\"data row0 col2\" >3.85%</td>\n",
       "      <td id=\"T_19a3c_row0_col3\" class=\"data row0 col3\" >11.54%</td>\n",
       "      <td id=\"T_19a3c_row0_col4\" class=\"data row0 col4\" >3.85%</td>\n",
       "      <td id=\"T_19a3c_row0_col5\" class=\"data row0 col5\" >0.00%</td>\n",
       "      <td id=\"T_19a3c_row0_col6\" class=\"data row0 col6\" >0.00%</td>\n",
       "      <td id=\"T_19a3c_row0_col7\" class=\"data row0 col7\" >15.38%</td>\n",
       "      <td id=\"T_19a3c_row0_col8\" class=\"data row0 col8\" >19.23%</td>\n",
       "    </tr>\n",
       "    <tr>\n",
       "      <th id=\"T_19a3c_level0_row1\" class=\"row_heading level0 row1\" >2017</th>\n",
       "      <td id=\"T_19a3c_row1_col0\" class=\"data row1 col0\" >18.82%</td>\n",
       "      <td id=\"T_19a3c_row1_col1\" class=\"data row1 col1\" >11.76%</td>\n",
       "      <td id=\"T_19a3c_row1_col2\" class=\"data row1 col2\" >0.00%</td>\n",
       "      <td id=\"T_19a3c_row1_col3\" class=\"data row1 col3\" >0.00%</td>\n",
       "      <td id=\"T_19a3c_row1_col4\" class=\"data row1 col4\" >0.00%</td>\n",
       "      <td id=\"T_19a3c_row1_col5\" class=\"data row1 col5\" >0.00%</td>\n",
       "      <td id=\"T_19a3c_row1_col6\" class=\"data row1 col6\" >27.06%</td>\n",
       "      <td id=\"T_19a3c_row1_col7\" class=\"data row1 col7\" >9.41%</td>\n",
       "      <td id=\"T_19a3c_row1_col8\" class=\"data row1 col8\" >32.94%</td>\n",
       "    </tr>\n",
       "    <tr>\n",
       "      <th id=\"T_19a3c_level0_row2\" class=\"row_heading level0 row2\" >2018</th>\n",
       "      <td id=\"T_19a3c_row2_col0\" class=\"data row2 col0\" >44.12%</td>\n",
       "      <td id=\"T_19a3c_row2_col1\" class=\"data row2 col1\" >0.00%</td>\n",
       "      <td id=\"T_19a3c_row2_col2\" class=\"data row2 col2\" >0.98%</td>\n",
       "      <td id=\"T_19a3c_row2_col3\" class=\"data row2 col3\" >0.00%</td>\n",
       "      <td id=\"T_19a3c_row2_col4\" class=\"data row2 col4\" >0.00%</td>\n",
       "      <td id=\"T_19a3c_row2_col5\" class=\"data row2 col5\" >1.47%</td>\n",
       "      <td id=\"T_19a3c_row2_col6\" class=\"data row2 col6\" >0.00%</td>\n",
       "      <td id=\"T_19a3c_row2_col7\" class=\"data row2 col7\" >6.37%</td>\n",
       "      <td id=\"T_19a3c_row2_col8\" class=\"data row2 col8\" >47.06%</td>\n",
       "    </tr>\n",
       "    <tr>\n",
       "      <th id=\"T_19a3c_level0_row3\" class=\"row_heading level0 row3\" >2019</th>\n",
       "      <td id=\"T_19a3c_row3_col0\" class=\"data row3 col0\" >0.00%</td>\n",
       "      <td id=\"T_19a3c_row3_col1\" class=\"data row3 col1\" >0.00%</td>\n",
       "      <td id=\"T_19a3c_row3_col2\" class=\"data row3 col2\" >0.00%</td>\n",
       "      <td id=\"T_19a3c_row3_col3\" class=\"data row3 col3\" >0.00%</td>\n",
       "      <td id=\"T_19a3c_row3_col4\" class=\"data row3 col4\" >0.00%</td>\n",
       "      <td id=\"T_19a3c_row3_col5\" class=\"data row3 col5\" >0.00%</td>\n",
       "      <td id=\"T_19a3c_row3_col6\" class=\"data row3 col6\" >0.00%</td>\n",
       "      <td id=\"T_19a3c_row3_col7\" class=\"data row3 col7\" >0.00%</td>\n",
       "      <td id=\"T_19a3c_row3_col8\" class=\"data row3 col8\" >100.00%</td>\n",
       "    </tr>\n",
       "  </tbody>\n",
       "</table>\n"
      ],
      "text/plain": [
       "<pandas.io.formats.style.Styler at 0x7804931d7490>"
      ]
     },
     "execution_count": 46,
     "metadata": {},
     "output_type": "execute_result"
    }
   ],
   "source": [
    "# Calcular o percentual da linha * 100\n",
    "crosstab = pd.crosstab(prod['model_year'], prod['brand_id']).apply(lambda r: (r/r.sum())*100, axis=1)\n",
    "\n",
    "# Formatar os valores como porcentagem com duas casas decimais e incluir o símbolo %\n",
    "crosstab.style.format(\"{:.2f}%\")"
   ]
  },
  {
   "cell_type": "code",
   "execution_count": 47,
   "id": "3dbe7c4b",
   "metadata": {
    "execution": {
     "iopub.execute_input": "2024-06-12T12:38:27.583959Z",
     "iopub.status.busy": "2024-06-12T12:38:27.582952Z",
     "iopub.status.idle": "2024-06-12T12:38:27.610100Z",
     "shell.execute_reply": "2024-06-12T12:38:27.608972Z"
    },
    "papermill": {
     "duration": 0.060296,
     "end_time": "2024-06-12T12:38:27.612267",
     "exception": false,
     "start_time": "2024-06-12T12:38:27.551971",
     "status": "completed"
    },
    "tags": []
   },
   "outputs": [
    {
     "data": {
      "text/html": [
       "<div>\n",
       "<style scoped>\n",
       "    .dataframe tbody tr th:only-of-type {\n",
       "        vertical-align: middle;\n",
       "    }\n",
       "\n",
       "    .dataframe tbody tr th {\n",
       "        vertical-align: top;\n",
       "    }\n",
       "\n",
       "    .dataframe thead th {\n",
       "        text-align: right;\n",
       "    }\n",
       "</style>\n",
       "<table border=\"1\" class=\"dataframe\">\n",
       "  <thead>\n",
       "    <tr style=\"text-align: right;\">\n",
       "      <th>brand_id</th>\n",
       "      <th>1</th>\n",
       "      <th>2</th>\n",
       "      <th>3</th>\n",
       "      <th>4</th>\n",
       "      <th>5</th>\n",
       "      <th>6</th>\n",
       "      <th>7</th>\n",
       "      <th>8</th>\n",
       "      <th>9</th>\n",
       "    </tr>\n",
       "    <tr>\n",
       "      <th>model_year</th>\n",
       "      <th></th>\n",
       "      <th></th>\n",
       "      <th></th>\n",
       "      <th></th>\n",
       "      <th></th>\n",
       "      <th></th>\n",
       "      <th></th>\n",
       "      <th></th>\n",
       "      <th></th>\n",
       "    </tr>\n",
       "  </thead>\n",
       "  <tbody>\n",
       "    <tr>\n",
       "      <th>2016</th>\n",
       "      <td>10.169492</td>\n",
       "      <td>0.0</td>\n",
       "      <td>33.333333</td>\n",
       "      <td>100.0</td>\n",
       "      <td>100.0</td>\n",
       "      <td>0.0</td>\n",
       "      <td>0.0</td>\n",
       "      <td>16.0</td>\n",
       "      <td>3.703704</td>\n",
       "    </tr>\n",
       "    <tr>\n",
       "      <th>2017</th>\n",
       "      <td>13.559322</td>\n",
       "      <td>100.0</td>\n",
       "      <td>0.000000</td>\n",
       "      <td>0.0</td>\n",
       "      <td>0.0</td>\n",
       "      <td>0.0</td>\n",
       "      <td>100.0</td>\n",
       "      <td>32.0</td>\n",
       "      <td>20.740741</td>\n",
       "    </tr>\n",
       "    <tr>\n",
       "      <th>2018</th>\n",
       "      <td>76.271186</td>\n",
       "      <td>0.0</td>\n",
       "      <td>66.666667</td>\n",
       "      <td>0.0</td>\n",
       "      <td>0.0</td>\n",
       "      <td>100.0</td>\n",
       "      <td>0.0</td>\n",
       "      <td>52.0</td>\n",
       "      <td>71.111111</td>\n",
       "    </tr>\n",
       "    <tr>\n",
       "      <th>2019</th>\n",
       "      <td>0.000000</td>\n",
       "      <td>0.0</td>\n",
       "      <td>0.000000</td>\n",
       "      <td>0.0</td>\n",
       "      <td>0.0</td>\n",
       "      <td>0.0</td>\n",
       "      <td>0.0</td>\n",
       "      <td>0.0</td>\n",
       "      <td>4.444444</td>\n",
       "    </tr>\n",
       "  </tbody>\n",
       "</table>\n",
       "</div>"
      ],
      "text/plain": [
       "brand_id            1      2          3      4      5      6      7     8  \\\n",
       "model_year                                                                  \n",
       "2016        10.169492    0.0  33.333333  100.0  100.0    0.0    0.0  16.0   \n",
       "2017        13.559322  100.0   0.000000    0.0    0.0    0.0  100.0  32.0   \n",
       "2018        76.271186    0.0  66.666667    0.0    0.0  100.0    0.0  52.0   \n",
       "2019         0.000000    0.0   0.000000    0.0    0.0    0.0    0.0   0.0   \n",
       "\n",
       "brand_id            9  \n",
       "model_year             \n",
       "2016         3.703704  \n",
       "2017        20.740741  \n",
       "2018        71.111111  \n",
       "2019         4.444444  "
      ]
     },
     "execution_count": 47,
     "metadata": {},
     "output_type": "execute_result"
    }
   ],
   "source": [
    "# Percentual da coluna * 100\n",
    "crosstab_coluna = pd.crosstab(prod['model_year'], prod['brand_id']).apply(lambda r: (r/r.sum())*100, axis=0)\n",
    "\n",
    "crosstab_coluna\n"
   ]
  },
  {
   "cell_type": "code",
   "execution_count": 48,
   "id": "b3bb5979",
   "metadata": {
    "execution": {
     "iopub.execute_input": "2024-06-12T12:38:27.670908Z",
     "iopub.status.busy": "2024-06-12T12:38:27.670531Z",
     "iopub.status.idle": "2024-06-12T12:38:27.689815Z",
     "shell.execute_reply": "2024-06-12T12:38:27.688677Z"
    },
    "papermill": {
     "duration": 0.051203,
     "end_time": "2024-06-12T12:38:27.692154",
     "exception": false,
     "start_time": "2024-06-12T12:38:27.640951",
     "status": "completed"
    },
    "tags": []
   },
   "outputs": [
    {
     "data": {
      "text/html": [
       "<style type=\"text/css\">\n",
       "#T_98381_row0_col0, #T_98381_row0_col2, #T_98381_row0_col7, #T_98381_row1_col0, #T_98381_row1_col7, #T_98381_row1_col8, #T_98381_row3_col8 {\n",
       "  background-color: orange;\n",
       "}\n",
       "#T_98381_row0_col1, #T_98381_row0_col5, #T_98381_row0_col6, #T_98381_row0_col8, #T_98381_row1_col2, #T_98381_row1_col3, #T_98381_row1_col4, #T_98381_row1_col5, #T_98381_row2_col1, #T_98381_row2_col3, #T_98381_row2_col4, #T_98381_row2_col6, #T_98381_row3_col0, #T_98381_row3_col1, #T_98381_row3_col2, #T_98381_row3_col3, #T_98381_row3_col4, #T_98381_row3_col5, #T_98381_row3_col6, #T_98381_row3_col7 {\n",
       "  background-color: blank;\n",
       "}\n",
       "#T_98381_row0_col3, #T_98381_row0_col4, #T_98381_row1_col1, #T_98381_row1_col6, #T_98381_row2_col0, #T_98381_row2_col2, #T_98381_row2_col5, #T_98381_row2_col7, #T_98381_row2_col8 {\n",
       "  background-color: lightgreen;\n",
       "}\n",
       "</style>\n",
       "<table id=\"T_98381\">\n",
       "  <thead>\n",
       "    <tr>\n",
       "      <th class=\"index_name level0\" >brand_id</th>\n",
       "      <th id=\"T_98381_level0_col0\" class=\"col_heading level0 col0\" >1</th>\n",
       "      <th id=\"T_98381_level0_col1\" class=\"col_heading level0 col1\" >2</th>\n",
       "      <th id=\"T_98381_level0_col2\" class=\"col_heading level0 col2\" >3</th>\n",
       "      <th id=\"T_98381_level0_col3\" class=\"col_heading level0 col3\" >4</th>\n",
       "      <th id=\"T_98381_level0_col4\" class=\"col_heading level0 col4\" >5</th>\n",
       "      <th id=\"T_98381_level0_col5\" class=\"col_heading level0 col5\" >6</th>\n",
       "      <th id=\"T_98381_level0_col6\" class=\"col_heading level0 col6\" >7</th>\n",
       "      <th id=\"T_98381_level0_col7\" class=\"col_heading level0 col7\" >8</th>\n",
       "      <th id=\"T_98381_level0_col8\" class=\"col_heading level0 col8\" >9</th>\n",
       "    </tr>\n",
       "    <tr>\n",
       "      <th class=\"index_name level0\" >model_year</th>\n",
       "      <th class=\"blank col0\" >&nbsp;</th>\n",
       "      <th class=\"blank col1\" >&nbsp;</th>\n",
       "      <th class=\"blank col2\" >&nbsp;</th>\n",
       "      <th class=\"blank col3\" >&nbsp;</th>\n",
       "      <th class=\"blank col4\" >&nbsp;</th>\n",
       "      <th class=\"blank col5\" >&nbsp;</th>\n",
       "      <th class=\"blank col6\" >&nbsp;</th>\n",
       "      <th class=\"blank col7\" >&nbsp;</th>\n",
       "      <th class=\"blank col8\" >&nbsp;</th>\n",
       "    </tr>\n",
       "  </thead>\n",
       "  <tbody>\n",
       "    <tr>\n",
       "      <th id=\"T_98381_level0_row0\" class=\"row_heading level0 row0\" >2016</th>\n",
       "      <td id=\"T_98381_row0_col0\" class=\"data row0 col0\" >10.17%</td>\n",
       "      <td id=\"T_98381_row0_col1\" class=\"data row0 col1\" >0.00%</td>\n",
       "      <td id=\"T_98381_row0_col2\" class=\"data row0 col2\" >33.33%</td>\n",
       "      <td id=\"T_98381_row0_col3\" class=\"data row0 col3\" >100.00%</td>\n",
       "      <td id=\"T_98381_row0_col4\" class=\"data row0 col4\" >100.00%</td>\n",
       "      <td id=\"T_98381_row0_col5\" class=\"data row0 col5\" >0.00%</td>\n",
       "      <td id=\"T_98381_row0_col6\" class=\"data row0 col6\" >0.00%</td>\n",
       "      <td id=\"T_98381_row0_col7\" class=\"data row0 col7\" >16.00%</td>\n",
       "      <td id=\"T_98381_row0_col8\" class=\"data row0 col8\" >3.70%</td>\n",
       "    </tr>\n",
       "    <tr>\n",
       "      <th id=\"T_98381_level0_row1\" class=\"row_heading level0 row1\" >2017</th>\n",
       "      <td id=\"T_98381_row1_col0\" class=\"data row1 col0\" >13.56%</td>\n",
       "      <td id=\"T_98381_row1_col1\" class=\"data row1 col1\" >100.00%</td>\n",
       "      <td id=\"T_98381_row1_col2\" class=\"data row1 col2\" >0.00%</td>\n",
       "      <td id=\"T_98381_row1_col3\" class=\"data row1 col3\" >0.00%</td>\n",
       "      <td id=\"T_98381_row1_col4\" class=\"data row1 col4\" >0.00%</td>\n",
       "      <td id=\"T_98381_row1_col5\" class=\"data row1 col5\" >0.00%</td>\n",
       "      <td id=\"T_98381_row1_col6\" class=\"data row1 col6\" >100.00%</td>\n",
       "      <td id=\"T_98381_row1_col7\" class=\"data row1 col7\" >32.00%</td>\n",
       "      <td id=\"T_98381_row1_col8\" class=\"data row1 col8\" >20.74%</td>\n",
       "    </tr>\n",
       "    <tr>\n",
       "      <th id=\"T_98381_level0_row2\" class=\"row_heading level0 row2\" >2018</th>\n",
       "      <td id=\"T_98381_row2_col0\" class=\"data row2 col0\" >76.27%</td>\n",
       "      <td id=\"T_98381_row2_col1\" class=\"data row2 col1\" >0.00%</td>\n",
       "      <td id=\"T_98381_row2_col2\" class=\"data row2 col2\" >66.67%</td>\n",
       "      <td id=\"T_98381_row2_col3\" class=\"data row2 col3\" >0.00%</td>\n",
       "      <td id=\"T_98381_row2_col4\" class=\"data row2 col4\" >0.00%</td>\n",
       "      <td id=\"T_98381_row2_col5\" class=\"data row2 col5\" >100.00%</td>\n",
       "      <td id=\"T_98381_row2_col6\" class=\"data row2 col6\" >0.00%</td>\n",
       "      <td id=\"T_98381_row2_col7\" class=\"data row2 col7\" >52.00%</td>\n",
       "      <td id=\"T_98381_row2_col8\" class=\"data row2 col8\" >71.11%</td>\n",
       "    </tr>\n",
       "    <tr>\n",
       "      <th id=\"T_98381_level0_row3\" class=\"row_heading level0 row3\" >2019</th>\n",
       "      <td id=\"T_98381_row3_col0\" class=\"data row3 col0\" >0.00%</td>\n",
       "      <td id=\"T_98381_row3_col1\" class=\"data row3 col1\" >0.00%</td>\n",
       "      <td id=\"T_98381_row3_col2\" class=\"data row3 col2\" >0.00%</td>\n",
       "      <td id=\"T_98381_row3_col3\" class=\"data row3 col3\" >0.00%</td>\n",
       "      <td id=\"T_98381_row3_col4\" class=\"data row3 col4\" >0.00%</td>\n",
       "      <td id=\"T_98381_row3_col5\" class=\"data row3 col5\" >0.00%</td>\n",
       "      <td id=\"T_98381_row3_col6\" class=\"data row3 col6\" >0.00%</td>\n",
       "      <td id=\"T_98381_row3_col7\" class=\"data row3 col7\" >0.00%</td>\n",
       "      <td id=\"T_98381_row3_col8\" class=\"data row3 col8\" >4.44%</td>\n",
       "    </tr>\n",
       "  </tbody>\n",
       "</table>\n"
      ],
      "text/plain": [
       "<pandas.io.formats.style.Styler at 0x78049320d180>"
      ]
     },
     "execution_count": 48,
     "metadata": {},
     "output_type": "execute_result"
    }
   ],
   "source": [
    "# Função para destacar máximo, mínimo e intermediários\n",
    "def highlight_max_min(data):\n",
    "    styles = pd.DataFrame('', index=data.index, columns=data.columns)\n",
    "    for col in data.columns:\n",
    "        max_val = data[col].max()\n",
    "        min_val = data[col].min()\n",
    "        styles[col] = ['background-color: lightgreen' if v == max_val else 'background-color: blank'\n",
    "                       if v == min_val else 'background-color: orange' for v in data[col]]\n",
    "    return styles\n",
    "\n",
    "# Aplicar formatação e estilização\n",
    "styled_df = crosstab_coluna.style.apply(highlight_max_min, axis=None).format(\"{:.2f}%\")\n",
    "\n",
    "# Exibir o DataFrame estilizado\n",
    "styled_df"
   ]
  },
  {
   "cell_type": "markdown",
   "id": "86980df7",
   "metadata": {
    "papermill": {
     "duration": 0.029625,
     "end_time": "2024-06-12T12:38:27.750659",
     "exception": false,
     "start_time": "2024-06-12T12:38:27.721034",
     "status": "completed"
    },
    "tags": []
   },
   "source": [
    "# 4.6 Identificando Valores Ausentes com isna()\n",
    "A função isna() é usada para identificar valores ausentes em um DataFrame ou Series. Ele retorna uma máscara booleana (Verdadeiro ou Falso) do mesmo tamanho que os dados, onde True indica um valor ausente.\n",
    "Exemplo básico:"
   ]
  },
  {
   "cell_type": "code",
   "execution_count": 49,
   "id": "a3fb4e81",
   "metadata": {
    "execution": {
     "iopub.execute_input": "2024-06-12T12:38:27.811399Z",
     "iopub.status.busy": "2024-06-12T12:38:27.810491Z",
     "iopub.status.idle": "2024-06-12T12:38:27.822222Z",
     "shell.execute_reply": "2024-06-12T12:38:27.821150Z"
    },
    "papermill": {
     "duration": 0.044217,
     "end_time": "2024-06-12T12:38:27.824482",
     "exception": false,
     "start_time": "2024-06-12T12:38:27.780265",
     "status": "completed"
    },
    "tags": []
   },
   "outputs": [
    {
     "data": {
      "text/html": [
       "<div>\n",
       "<style scoped>\n",
       "    .dataframe tbody tr th:only-of-type {\n",
       "        vertical-align: middle;\n",
       "    }\n",
       "\n",
       "    .dataframe tbody tr th {\n",
       "        vertical-align: top;\n",
       "    }\n",
       "\n",
       "    .dataframe thead th {\n",
       "        text-align: right;\n",
       "    }\n",
       "</style>\n",
       "<table border=\"1\" class=\"dataframe\">\n",
       "  <thead>\n",
       "    <tr style=\"text-align: right;\">\n",
       "      <th></th>\n",
       "      <th>A</th>\n",
       "      <th>B</th>\n",
       "    </tr>\n",
       "  </thead>\n",
       "  <tbody>\n",
       "    <tr>\n",
       "      <th>0</th>\n",
       "      <td>1.0</td>\n",
       "      <td>A</td>\n",
       "    </tr>\n",
       "    <tr>\n",
       "      <th>1</th>\n",
       "      <td>2.0</td>\n",
       "      <td>None</td>\n",
       "    </tr>\n",
       "    <tr>\n",
       "      <th>2</th>\n",
       "      <td>NaN</td>\n",
       "      <td>C</td>\n",
       "    </tr>\n",
       "    <tr>\n",
       "      <th>3</th>\n",
       "      <td>4.0</td>\n",
       "      <td>D</td>\n",
       "    </tr>\n",
       "    <tr>\n",
       "      <th>4</th>\n",
       "      <td>5.0</td>\n",
       "      <td>E</td>\n",
       "    </tr>\n",
       "  </tbody>\n",
       "</table>\n",
       "</div>"
      ],
      "text/plain": [
       "     A     B\n",
       "0  1.0     A\n",
       "1  2.0  None\n",
       "2  NaN     C\n",
       "3  4.0     D\n",
       "4  5.0     E"
      ]
     },
     "execution_count": 49,
     "metadata": {},
     "output_type": "execute_result"
    }
   ],
   "source": [
    "import pandas as pd\n",
    "\n",
    "# Corrigindo as listas para que tenham o mesmo comprimento\n",
    "df = pd.DataFrame({\n",
    "    'A': [1, 2, None, 4, 5],\n",
    "    'B': ['A', None, 'C', 'D', 'E']\n",
    "})\n",
    "\n",
    "df\n"
   ]
  },
  {
   "cell_type": "code",
   "execution_count": 50,
   "id": "b5ca2ad3",
   "metadata": {
    "execution": {
     "iopub.execute_input": "2024-06-12T12:38:27.885189Z",
     "iopub.status.busy": "2024-06-12T12:38:27.884781Z",
     "iopub.status.idle": "2024-06-12T12:38:27.894830Z",
     "shell.execute_reply": "2024-06-12T12:38:27.893839Z"
    },
    "papermill": {
     "duration": 0.042824,
     "end_time": "2024-06-12T12:38:27.897040",
     "exception": false,
     "start_time": "2024-06-12T12:38:27.854216",
     "status": "completed"
    },
    "tags": []
   },
   "outputs": [
    {
     "data": {
      "text/html": [
       "<div>\n",
       "<style scoped>\n",
       "    .dataframe tbody tr th:only-of-type {\n",
       "        vertical-align: middle;\n",
       "    }\n",
       "\n",
       "    .dataframe tbody tr th {\n",
       "        vertical-align: top;\n",
       "    }\n",
       "\n",
       "    .dataframe thead th {\n",
       "        text-align: right;\n",
       "    }\n",
       "</style>\n",
       "<table border=\"1\" class=\"dataframe\">\n",
       "  <thead>\n",
       "    <tr style=\"text-align: right;\">\n",
       "      <th></th>\n",
       "      <th>A</th>\n",
       "      <th>B</th>\n",
       "    </tr>\n",
       "  </thead>\n",
       "  <tbody>\n",
       "    <tr>\n",
       "      <th>0</th>\n",
       "      <td>False</td>\n",
       "      <td>False</td>\n",
       "    </tr>\n",
       "    <tr>\n",
       "      <th>1</th>\n",
       "      <td>False</td>\n",
       "      <td>True</td>\n",
       "    </tr>\n",
       "    <tr>\n",
       "      <th>2</th>\n",
       "      <td>True</td>\n",
       "      <td>False</td>\n",
       "    </tr>\n",
       "    <tr>\n",
       "      <th>3</th>\n",
       "      <td>False</td>\n",
       "      <td>False</td>\n",
       "    </tr>\n",
       "    <tr>\n",
       "      <th>4</th>\n",
       "      <td>False</td>\n",
       "      <td>False</td>\n",
       "    </tr>\n",
       "  </tbody>\n",
       "</table>\n",
       "</div>"
      ],
      "text/plain": [
       "       A      B\n",
       "0  False  False\n",
       "1  False   True\n",
       "2   True  False\n",
       "3  False  False\n",
       "4  False  False"
      ]
     },
     "execution_count": 50,
     "metadata": {},
     "output_type": "execute_result"
    }
   ],
   "source": [
    "df.isna()"
   ]
  },
  {
   "cell_type": "markdown",
   "id": "34608e2e",
   "metadata": {
    "papermill": {
     "duration": 0.030057,
     "end_time": "2024-06-12T12:38:27.956818",
     "exception": false,
     "start_time": "2024-06-12T12:38:27.926761",
     "status": "completed"
    },
    "tags": []
   },
   "source": [
    "Contando valores ausentes por coluna:\n"
   ]
  },
  {
   "cell_type": "code",
   "execution_count": 51,
   "id": "874c9783",
   "metadata": {
    "execution": {
     "iopub.execute_input": "2024-06-12T12:38:28.017371Z",
     "iopub.status.busy": "2024-06-12T12:38:28.016934Z",
     "iopub.status.idle": "2024-06-12T12:38:28.025598Z",
     "shell.execute_reply": "2024-06-12T12:38:28.024303Z"
    },
    "papermill": {
     "duration": 0.04197,
     "end_time": "2024-06-12T12:38:28.028029",
     "exception": false,
     "start_time": "2024-06-12T12:38:27.986059",
     "status": "completed"
    },
    "tags": []
   },
   "outputs": [
    {
     "data": {
      "text/plain": [
       "A    1\n",
       "B    1\n",
       "dtype: int64"
      ]
     },
     "execution_count": 51,
     "metadata": {},
     "output_type": "execute_result"
    }
   ],
   "source": [
    "# ausentes por coluna (soma)\n",
    "df.isna().sum()"
   ]
  },
  {
   "cell_type": "code",
   "execution_count": 52,
   "id": "043e6f1a",
   "metadata": {
    "execution": {
     "iopub.execute_input": "2024-06-12T12:38:28.090886Z",
     "iopub.status.busy": "2024-06-12T12:38:28.089863Z",
     "iopub.status.idle": "2024-06-12T12:38:28.099236Z",
     "shell.execute_reply": "2024-06-12T12:38:28.098174Z"
    },
    "papermill": {
     "duration": 0.043307,
     "end_time": "2024-06-12T12:38:28.101445",
     "exception": false,
     "start_time": "2024-06-12T12:38:28.058138",
     "status": "completed"
    },
    "tags": []
   },
   "outputs": [
    {
     "data": {
      "text/plain": [
       "A    0.2\n",
       "B    0.2\n",
       "dtype: float64"
      ]
     },
     "execution_count": 52,
     "metadata": {},
     "output_type": "execute_result"
    }
   ],
   "source": [
    "# ausentes por coluna (percentual)\n",
    "df.isna().mean()"
   ]
  },
  {
   "cell_type": "markdown",
   "id": "d03cf02d",
   "metadata": {
    "papermill": {
     "duration": 0.029541,
     "end_time": "2024-06-12T12:38:28.160955",
     "exception": false,
     "start_time": "2024-06-12T12:38:28.131414",
     "status": "completed"
    },
    "tags": []
   },
   "source": [
    "Filtrando linhas com valores ausentes:"
   ]
  },
  {
   "cell_type": "code",
   "execution_count": 53,
   "id": "57e296b5",
   "metadata": {
    "execution": {
     "iopub.execute_input": "2024-06-12T12:38:28.221765Z",
     "iopub.status.busy": "2024-06-12T12:38:28.221399Z",
     "iopub.status.idle": "2024-06-12T12:38:28.231863Z",
     "shell.execute_reply": "2024-06-12T12:38:28.230864Z"
    },
    "papermill": {
     "duration": 0.04338,
     "end_time": "2024-06-12T12:38:28.233927",
     "exception": false,
     "start_time": "2024-06-12T12:38:28.190547",
     "status": "completed"
    },
    "tags": []
   },
   "outputs": [
    {
     "data": {
      "text/html": [
       "<div>\n",
       "<style scoped>\n",
       "    .dataframe tbody tr th:only-of-type {\n",
       "        vertical-align: middle;\n",
       "    }\n",
       "\n",
       "    .dataframe tbody tr th {\n",
       "        vertical-align: top;\n",
       "    }\n",
       "\n",
       "    .dataframe thead th {\n",
       "        text-align: right;\n",
       "    }\n",
       "</style>\n",
       "<table border=\"1\" class=\"dataframe\">\n",
       "  <thead>\n",
       "    <tr style=\"text-align: right;\">\n",
       "      <th></th>\n",
       "      <th>A</th>\n",
       "      <th>B</th>\n",
       "    </tr>\n",
       "  </thead>\n",
       "  <tbody>\n",
       "    <tr>\n",
       "      <th>2</th>\n",
       "      <td>NaN</td>\n",
       "      <td>C</td>\n",
       "    </tr>\n",
       "  </tbody>\n",
       "</table>\n",
       "</div>"
      ],
      "text/plain": [
       "    A  B\n",
       "2 NaN  C"
      ]
     },
     "execution_count": 53,
     "metadata": {},
     "output_type": "execute_result"
    }
   ],
   "source": [
    "# Filtrando missing na coluna A\n",
    "df[df['A'].isna()]"
   ]
  },
  {
   "cell_type": "code",
   "execution_count": 54,
   "id": "3fd69e9d",
   "metadata": {
    "execution": {
     "iopub.execute_input": "2024-06-12T12:38:28.295020Z",
     "iopub.status.busy": "2024-06-12T12:38:28.294597Z",
     "iopub.status.idle": "2024-06-12T12:38:28.305101Z",
     "shell.execute_reply": "2024-06-12T12:38:28.304076Z"
    },
    "papermill": {
     "duration": 0.043822,
     "end_time": "2024-06-12T12:38:28.307316",
     "exception": false,
     "start_time": "2024-06-12T12:38:28.263494",
     "status": "completed"
    },
    "tags": []
   },
   "outputs": [
    {
     "data": {
      "text/html": [
       "<div>\n",
       "<style scoped>\n",
       "    .dataframe tbody tr th:only-of-type {\n",
       "        vertical-align: middle;\n",
       "    }\n",
       "\n",
       "    .dataframe tbody tr th {\n",
       "        vertical-align: top;\n",
       "    }\n",
       "\n",
       "    .dataframe thead th {\n",
       "        text-align: right;\n",
       "    }\n",
       "</style>\n",
       "<table border=\"1\" class=\"dataframe\">\n",
       "  <thead>\n",
       "    <tr style=\"text-align: right;\">\n",
       "      <th></th>\n",
       "      <th>A</th>\n",
       "      <th>B</th>\n",
       "    </tr>\n",
       "  </thead>\n",
       "  <tbody>\n",
       "    <tr>\n",
       "      <th>1</th>\n",
       "      <td>2.0</td>\n",
       "      <td>None</td>\n",
       "    </tr>\n",
       "  </tbody>\n",
       "</table>\n",
       "</div>"
      ],
      "text/plain": [
       "     A     B\n",
       "1  2.0  None"
      ]
     },
     "execution_count": 54,
     "metadata": {},
     "output_type": "execute_result"
    }
   ],
   "source": [
    "# Filtrando missing na coluna B\n",
    "df[df['B'].isna()]"
   ]
  },
  {
   "cell_type": "markdown",
   "id": "d0d4eb52",
   "metadata": {
    "papermill": {
     "duration": 0.030076,
     "end_time": "2024-06-12T12:38:28.367286",
     "exception": false,
     "start_time": "2024-06-12T12:38:28.337210",
     "status": "completed"
    },
    "tags": []
   },
   "source": [
    "# 4.7 Filtrando Dados com query()\n",
    "O método query() permite filtrar dados de um DataFrame usando uma string de consulta, o que pode ser mais legível e conciso do que a indexação booleana tradicional. Em outras palavras, o que ele recebe é uma lógica que resulta em Verdadeiro ou Falso e ele retorna quando aquilo for verdadeiro. Voltando ao dataset products do nosso arquivo bike.zip, veja como filtramos facilmente todas as bikes cujo preço é superior a 5500:"
   ]
  },
  {
   "cell_type": "code",
   "execution_count": 55,
   "id": "c2921b0b",
   "metadata": {
    "execution": {
     "iopub.execute_input": "2024-06-12T12:38:28.431301Z",
     "iopub.status.busy": "2024-06-12T12:38:28.430892Z",
     "iopub.status.idle": "2024-06-12T12:38:28.448651Z",
     "shell.execute_reply": "2024-06-12T12:38:28.447432Z"
    },
    "papermill": {
     "duration": 0.051462,
     "end_time": "2024-06-12T12:38:28.451126",
     "exception": false,
     "start_time": "2024-06-12T12:38:28.399664",
     "status": "completed"
    },
    "tags": []
   },
   "outputs": [
    {
     "data": {
      "text/html": [
       "<div>\n",
       "<style scoped>\n",
       "    .dataframe tbody tr th:only-of-type {\n",
       "        vertical-align: middle;\n",
       "    }\n",
       "\n",
       "    .dataframe tbody tr th {\n",
       "        vertical-align: top;\n",
       "    }\n",
       "\n",
       "    .dataframe thead th {\n",
       "        text-align: right;\n",
       "    }\n",
       "</style>\n",
       "<table border=\"1\" class=\"dataframe\">\n",
       "  <thead>\n",
       "    <tr style=\"text-align: right;\">\n",
       "      <th></th>\n",
       "      <th>product_id</th>\n",
       "      <th>product_name</th>\n",
       "      <th>brand_id</th>\n",
       "      <th>category_id</th>\n",
       "      <th>model_year</th>\n",
       "      <th>list_price</th>\n",
       "    </tr>\n",
       "  </thead>\n",
       "  <tbody>\n",
       "    <tr>\n",
       "      <th>49</th>\n",
       "      <td>50</td>\n",
       "      <td>Trek Silque SLR 7 Women's - 2017</td>\n",
       "      <td>9</td>\n",
       "      <td>7</td>\n",
       "      <td>2017</td>\n",
       "      <td>5999.99</td>\n",
       "    </tr>\n",
       "    <tr>\n",
       "      <th>50</th>\n",
       "      <td>51</td>\n",
       "      <td>Trek Silque SLR 8 Women's - 2017</td>\n",
       "      <td>9</td>\n",
       "      <td>7</td>\n",
       "      <td>2017</td>\n",
       "      <td>6499.99</td>\n",
       "    </tr>\n",
       "    <tr>\n",
       "      <th>148</th>\n",
       "      <td>149</td>\n",
       "      <td>Trek Domane SLR 8 Disc - 2018</td>\n",
       "      <td>9</td>\n",
       "      <td>7</td>\n",
       "      <td>2018</td>\n",
       "      <td>7499.99</td>\n",
       "    </tr>\n",
       "    <tr>\n",
       "      <th>154</th>\n",
       "      <td>155</td>\n",
       "      <td>Trek Domane SLR 9 Disc - 2018</td>\n",
       "      <td>9</td>\n",
       "      <td>7</td>\n",
       "      <td>2018</td>\n",
       "      <td>11999.99</td>\n",
       "    </tr>\n",
       "    <tr>\n",
       "      <th>155</th>\n",
       "      <td>156</td>\n",
       "      <td>Trek Domane SL Frameset - 2018</td>\n",
       "      <td>9</td>\n",
       "      <td>7</td>\n",
       "      <td>2018</td>\n",
       "      <td>6499.99</td>\n",
       "    </tr>\n",
       "    <tr>\n",
       "      <th>156</th>\n",
       "      <td>157</td>\n",
       "      <td>Trek Domane SL Frameset Women's - 2018</td>\n",
       "      <td>9</td>\n",
       "      <td>7</td>\n",
       "      <td>2018</td>\n",
       "      <td>6499.99</td>\n",
       "    </tr>\n",
       "    <tr>\n",
       "      <th>168</th>\n",
       "      <td>169</td>\n",
       "      <td>Trek Emonda SLR 8 - 2018</td>\n",
       "      <td>9</td>\n",
       "      <td>7</td>\n",
       "      <td>2018</td>\n",
       "      <td>6499.99</td>\n",
       "    </tr>\n",
       "  </tbody>\n",
       "</table>\n",
       "</div>"
      ],
      "text/plain": [
       "     product_id                            product_name  brand_id  \\\n",
       "49           50        Trek Silque SLR 7 Women's - 2017         9   \n",
       "50           51        Trek Silque SLR 8 Women's - 2017         9   \n",
       "148         149           Trek Domane SLR 8 Disc - 2018         9   \n",
       "154         155           Trek Domane SLR 9 Disc - 2018         9   \n",
       "155         156          Trek Domane SL Frameset - 2018         9   \n",
       "156         157  Trek Domane SL Frameset Women's - 2018         9   \n",
       "168         169                Trek Emonda SLR 8 - 2018         9   \n",
       "\n",
       "     category_id  model_year  list_price  \n",
       "49             7        2017     5999.99  \n",
       "50             7        2017     6499.99  \n",
       "148            7        2018     7499.99  \n",
       "154            7        2018    11999.99  \n",
       "155            7        2018     6499.99  \n",
       "156            7        2018     6499.99  \n",
       "168            7        2018     6499.99  "
      ]
     },
     "execution_count": 55,
     "metadata": {},
     "output_type": "execute_result"
    }
   ],
   "source": [
    "prod.query('list_price > 5500')"
   ]
  },
  {
   "cell_type": "markdown",
   "id": "d10648f3",
   "metadata": {
    "papermill": {
     "duration": 0.031518,
     "end_time": "2024-06-12T12:38:28.514323",
     "exception": false,
     "start_time": "2024-06-12T12:38:28.482805",
     "status": "completed"
    },
    "tags": []
   },
   "source": [
    "Veja que o que está entre parênteses é uma lógica que só poderia retornar True ou False. O que query() faz é nos mostrar quais linhas correspondem à condição quando ela for verdadeira.\n",
    "\n",
    "É possível utilizar operadores lógicos dentro de query():"
   ]
  },
  {
   "cell_type": "code",
   "execution_count": 56,
   "id": "f61885ab",
   "metadata": {
    "execution": {
     "iopub.execute_input": "2024-06-12T12:38:28.578266Z",
     "iopub.status.busy": "2024-06-12T12:38:28.577126Z",
     "iopub.status.idle": "2024-06-12T12:38:28.594338Z",
     "shell.execute_reply": "2024-06-12T12:38:28.593261Z"
    },
    "papermill": {
     "duration": 0.051696,
     "end_time": "2024-06-12T12:38:28.596607",
     "exception": false,
     "start_time": "2024-06-12T12:38:28.544911",
     "status": "completed"
    },
    "tags": []
   },
   "outputs": [
    {
     "data": {
      "text/html": [
       "<div>\n",
       "<style scoped>\n",
       "    .dataframe tbody tr th:only-of-type {\n",
       "        vertical-align: middle;\n",
       "    }\n",
       "\n",
       "    .dataframe tbody tr th {\n",
       "        vertical-align: top;\n",
       "    }\n",
       "\n",
       "    .dataframe thead th {\n",
       "        text-align: right;\n",
       "    }\n",
       "</style>\n",
       "<table border=\"1\" class=\"dataframe\">\n",
       "  <thead>\n",
       "    <tr style=\"text-align: right;\">\n",
       "      <th></th>\n",
       "      <th>product_id</th>\n",
       "      <th>product_name</th>\n",
       "      <th>brand_id</th>\n",
       "      <th>category_id</th>\n",
       "      <th>model_year</th>\n",
       "      <th>list_price</th>\n",
       "    </tr>\n",
       "  </thead>\n",
       "  <tbody>\n",
       "    <tr>\n",
       "      <th>148</th>\n",
       "      <td>149</td>\n",
       "      <td>Trek Domane SLR 8 Disc - 2018</td>\n",
       "      <td>9</td>\n",
       "      <td>7</td>\n",
       "      <td>2018</td>\n",
       "      <td>7499.99</td>\n",
       "    </tr>\n",
       "    <tr>\n",
       "      <th>154</th>\n",
       "      <td>155</td>\n",
       "      <td>Trek Domane SLR 9 Disc - 2018</td>\n",
       "      <td>9</td>\n",
       "      <td>7</td>\n",
       "      <td>2018</td>\n",
       "      <td>11999.99</td>\n",
       "    </tr>\n",
       "    <tr>\n",
       "      <th>155</th>\n",
       "      <td>156</td>\n",
       "      <td>Trek Domane SL Frameset - 2018</td>\n",
       "      <td>9</td>\n",
       "      <td>7</td>\n",
       "      <td>2018</td>\n",
       "      <td>6499.99</td>\n",
       "    </tr>\n",
       "    <tr>\n",
       "      <th>156</th>\n",
       "      <td>157</td>\n",
       "      <td>Trek Domane SL Frameset Women's - 2018</td>\n",
       "      <td>9</td>\n",
       "      <td>7</td>\n",
       "      <td>2018</td>\n",
       "      <td>6499.99</td>\n",
       "    </tr>\n",
       "    <tr>\n",
       "      <th>168</th>\n",
       "      <td>169</td>\n",
       "      <td>Trek Emonda SLR 8 - 2018</td>\n",
       "      <td>9</td>\n",
       "      <td>7</td>\n",
       "      <td>2018</td>\n",
       "      <td>6499.99</td>\n",
       "    </tr>\n",
       "  </tbody>\n",
       "</table>\n",
       "</div>"
      ],
      "text/plain": [
       "     product_id                            product_name  brand_id  \\\n",
       "148         149           Trek Domane SLR 8 Disc - 2018         9   \n",
       "154         155           Trek Domane SLR 9 Disc - 2018         9   \n",
       "155         156          Trek Domane SL Frameset - 2018         9   \n",
       "156         157  Trek Domane SL Frameset Women's - 2018         9   \n",
       "168         169                Trek Emonda SLR 8 - 2018         9   \n",
       "\n",
       "     category_id  model_year  list_price  \n",
       "148            7        2018     7499.99  \n",
       "154            7        2018    11999.99  \n",
       "155            7        2018     6499.99  \n",
       "156            7        2018     6499.99  \n",
       "168            7        2018     6499.99  "
      ]
     },
     "execution_count": 56,
     "metadata": {},
     "output_type": "execute_result"
    }
   ],
   "source": [
    "prod.query('list_price > 5500 & model_year == 2018')"
   ]
  },
  {
   "cell_type": "markdown",
   "id": "76f531c7",
   "metadata": {
    "papermill": {
     "duration": 0.030495,
     "end_time": "2024-06-12T12:38:28.657864",
     "exception": false,
     "start_time": "2024-06-12T12:38:28.627369",
     "status": "completed"
    },
    "tags": []
   },
   "source": [
    "Podemos também referenciar valores externos:"
   ]
  },
  {
   "cell_type": "code",
   "execution_count": 57,
   "id": "fad4575f",
   "metadata": {
    "execution": {
     "iopub.execute_input": "2024-06-12T12:38:28.721929Z",
     "iopub.status.busy": "2024-06-12T12:38:28.720993Z",
     "iopub.status.idle": "2024-06-12T12:38:28.738837Z",
     "shell.execute_reply": "2024-06-12T12:38:28.737838Z"
    },
    "papermill": {
     "duration": 0.052318,
     "end_time": "2024-06-12T12:38:28.741650",
     "exception": false,
     "start_time": "2024-06-12T12:38:28.689332",
     "status": "completed"
    },
    "tags": []
   },
   "outputs": [
    {
     "data": {
      "text/html": [
       "<div>\n",
       "<style scoped>\n",
       "    .dataframe tbody tr th:only-of-type {\n",
       "        vertical-align: middle;\n",
       "    }\n",
       "\n",
       "    .dataframe tbody tr th {\n",
       "        vertical-align: top;\n",
       "    }\n",
       "\n",
       "    .dataframe thead th {\n",
       "        text-align: right;\n",
       "    }\n",
       "</style>\n",
       "<table border=\"1\" class=\"dataframe\">\n",
       "  <thead>\n",
       "    <tr style=\"text-align: right;\">\n",
       "      <th></th>\n",
       "      <th>product_id</th>\n",
       "      <th>product_name</th>\n",
       "      <th>brand_id</th>\n",
       "      <th>category_id</th>\n",
       "      <th>model_year</th>\n",
       "      <th>list_price</th>\n",
       "    </tr>\n",
       "  </thead>\n",
       "  <tbody>\n",
       "    <tr>\n",
       "      <th>113</th>\n",
       "      <td>114</td>\n",
       "      <td>Trek Marlin 6 - 2018</td>\n",
       "      <td>9</td>\n",
       "      <td>6</td>\n",
       "      <td>2018</td>\n",
       "      <td>579.99</td>\n",
       "    </tr>\n",
       "    <tr>\n",
       "      <th>114</th>\n",
       "      <td>115</td>\n",
       "      <td>Trek Fuel EX 8 29 - 2018</td>\n",
       "      <td>9</td>\n",
       "      <td>6</td>\n",
       "      <td>2018</td>\n",
       "      <td>3199.99</td>\n",
       "    </tr>\n",
       "    <tr>\n",
       "      <th>115</th>\n",
       "      <td>116</td>\n",
       "      <td>Trek Marlin 7 - 2017/2018</td>\n",
       "      <td>9</td>\n",
       "      <td>6</td>\n",
       "      <td>2018</td>\n",
       "      <td>749.99</td>\n",
       "    </tr>\n",
       "    <tr>\n",
       "      <th>116</th>\n",
       "      <td>117</td>\n",
       "      <td>Trek Ticket S Frame - 2018</td>\n",
       "      <td>9</td>\n",
       "      <td>6</td>\n",
       "      <td>2018</td>\n",
       "      <td>1469.99</td>\n",
       "    </tr>\n",
       "    <tr>\n",
       "      <th>117</th>\n",
       "      <td>118</td>\n",
       "      <td>Trek X-Caliber 8 - 2018</td>\n",
       "      <td>9</td>\n",
       "      <td>6</td>\n",
       "      <td>2018</td>\n",
       "      <td>999.99</td>\n",
       "    </tr>\n",
       "    <tr>\n",
       "      <th>...</th>\n",
       "      <td>...</td>\n",
       "      <td>...</td>\n",
       "      <td>...</td>\n",
       "      <td>...</td>\n",
       "      <td>...</td>\n",
       "      <td>...</td>\n",
       "    </tr>\n",
       "    <tr>\n",
       "      <th>309</th>\n",
       "      <td>310</td>\n",
       "      <td>Electra Townie Commute 27D Ladies - 2018</td>\n",
       "      <td>1</td>\n",
       "      <td>2</td>\n",
       "      <td>2018</td>\n",
       "      <td>899.99</td>\n",
       "    </tr>\n",
       "    <tr>\n",
       "      <th>310</th>\n",
       "      <td>311</td>\n",
       "      <td>Electra Townie Commute 8D - 2018</td>\n",
       "      <td>1</td>\n",
       "      <td>2</td>\n",
       "      <td>2018</td>\n",
       "      <td>749.99</td>\n",
       "    </tr>\n",
       "    <tr>\n",
       "      <th>311</th>\n",
       "      <td>312</td>\n",
       "      <td>Electra Townie Commute 8D Ladies' - 2018</td>\n",
       "      <td>1</td>\n",
       "      <td>2</td>\n",
       "      <td>2018</td>\n",
       "      <td>699.99</td>\n",
       "    </tr>\n",
       "    <tr>\n",
       "      <th>313</th>\n",
       "      <td>314</td>\n",
       "      <td>Electra Townie Original 21D EQ Ladies' - 2018</td>\n",
       "      <td>1</td>\n",
       "      <td>2</td>\n",
       "      <td>2018</td>\n",
       "      <td>679.99</td>\n",
       "    </tr>\n",
       "    <tr>\n",
       "      <th>314</th>\n",
       "      <td>315</td>\n",
       "      <td>Electra Townie Original 21D Ladies' - 2018</td>\n",
       "      <td>1</td>\n",
       "      <td>2</td>\n",
       "      <td>2018</td>\n",
       "      <td>559.99</td>\n",
       "    </tr>\n",
       "  </tbody>\n",
       "</table>\n",
       "<p>146 rows × 6 columns</p>\n",
       "</div>"
      ],
      "text/plain": [
       "     product_id                                   product_name  brand_id  \\\n",
       "113         114                           Trek Marlin 6 - 2018         9   \n",
       "114         115                       Trek Fuel EX 8 29 - 2018         9   \n",
       "115         116                      Trek Marlin 7 - 2017/2018         9   \n",
       "116         117                     Trek Ticket S Frame - 2018         9   \n",
       "117         118                        Trek X-Caliber 8 - 2018         9   \n",
       "..          ...                                            ...       ...   \n",
       "309         310       Electra Townie Commute 27D Ladies - 2018         1   \n",
       "310         311               Electra Townie Commute 8D - 2018         1   \n",
       "311         312       Electra Townie Commute 8D Ladies' - 2018         1   \n",
       "313         314  Electra Townie Original 21D EQ Ladies' - 2018         1   \n",
       "314         315     Electra Townie Original 21D Ladies' - 2018         1   \n",
       "\n",
       "     category_id  model_year  list_price  \n",
       "113            6        2018      579.99  \n",
       "114            6        2018     3199.99  \n",
       "115            6        2018      749.99  \n",
       "116            6        2018     1469.99  \n",
       "117            6        2018      999.99  \n",
       "..           ...         ...         ...  \n",
       "309            2        2018      899.99  \n",
       "310            2        2018      749.99  \n",
       "311            2        2018      699.99  \n",
       "313            2        2018      679.99  \n",
       "314            2        2018      559.99  \n",
       "\n",
       "[146 rows x 6 columns]"
      ]
     },
     "execution_count": 57,
     "metadata": {},
     "output_type": "execute_result"
    }
   ],
   "source": [
    "preco = 550\n",
    "prod.query('list_price > @preco & model_year == 2018')"
   ]
  },
  {
   "cell_type": "markdown",
   "id": "ef1a4908",
   "metadata": {
    "papermill": {
     "duration": 0.030208,
     "end_time": "2024-06-12T12:38:28.803855",
     "exception": false,
     "start_time": "2024-06-12T12:38:28.773647",
     "status": "completed"
    },
    "tags": []
   },
   "source": [
    "Com isso, creio que finalizamos a parte teórica desta semana. Não conseguimos ver tudo que há no Pandas, acho que nunca conseguiremos usar todas as inúmeras funcionalidades que ele possui, mas já vimos o bastante para fazermos análises de peso! No fim deste material, deixei uma série de exercícios para testar seus conhecimentos! Vamos ver o quão preparados estamos para os dados reais, fechou?\n"
   ]
  },
  {
   "cell_type": "markdown",
   "id": "bb2dc0b5",
   "metadata": {
    "papermill": {
     "duration": 0.030696,
     "end_time": "2024-06-12T12:38:28.865111",
     "exception": false,
     "start_time": "2024-06-12T12:38:28.834415",
     "status": "completed"
    },
    "tags": []
   },
   "source": [
    "# 5. Considerações Finais\n",
    "\n",
    "Neste material, mergulhamos profundamente em funções avançadas que enriquecem nossa habilidade de manipulação e análise de dados. Abordamos desde a construção de tabelas dinâmicas, uma técnica amplamente reconhecida no Excel, até outras funcionalidades como a categorização de dados e a identificação de valores únicos. Cada técnica e ferramenta discutida aqui é uma alavanca poderosa para aprimorar sua eficiência analítica e te tornar um profissional de alto nível no mercado profissional - bora se destacar aí!\n",
    "\n",
    "Além disso, destacamos práticas indispensáveis no mundo corporativo: as junções, fundamentais devido à estruturação dos bancos de dados, e a formatação condicional, que confere sofisticação e clareza aos relatórios. Esta jornada é projetada para equipá-lo com habilidades essenciais e insights valiosos para suas análises.\n",
    "\n",
    "À medida que você avança em sua carreira de ciência de dados, descobrirá que muitas vezes a preparação e a manipulação de dados são etapas que consomem mais tempo do que a modelagem em si. Portanto, dominar as habilidades apresentadas neste material é crucial. Agora, para solidificar seu aprendizado e garantir que você esteja pronto para aplicar essas técnicas no mundo real, encorajamos você a mergulhar na seção de Exercícios. Nela, você encontrará desafios práticos que testarão e aprimorarão sua compreensão. Boa sorte e bons estudos!\n",
    "\n"
   ]
  },
  {
   "cell_type": "markdown",
   "id": "8ef8f8cf",
   "metadata": {
    "papermill": {
     "duration": 0.030181,
     "end_time": "2024-06-12T12:38:28.925725",
     "exception": false,
     "start_time": "2024-06-12T12:38:28.895544",
     "status": "completed"
    },
    "tags": []
   },
   "source": [
    "# 6. Exercícios\n",
    "Utilize o arquivo bank.zip para responder às perguntas:\n",
    "\n",
    "1) Olhando apenas para o grupo de divorciados, qual o percentual deles que é empreendedor (entrepreneur)? E estudantes?"
   ]
  },
  {
   "cell_type": "code",
   "execution_count": 58,
   "id": "7ef50438",
   "metadata": {
    "execution": {
     "iopub.execute_input": "2024-06-12T12:38:28.990413Z",
     "iopub.status.busy": "2024-06-12T12:38:28.989978Z",
     "iopub.status.idle": "2024-06-12T12:38:29.168672Z",
     "shell.execute_reply": "2024-06-12T12:38:29.167587Z"
    },
    "papermill": {
     "duration": 0.213581,
     "end_time": "2024-06-12T12:38:29.171107",
     "exception": false,
     "start_time": "2024-06-12T12:38:28.957526",
     "status": "completed"
    },
    "tags": []
   },
   "outputs": [
    {
     "data": {
      "text/html": [
       "<div>\n",
       "<style scoped>\n",
       "    .dataframe tbody tr th:only-of-type {\n",
       "        vertical-align: middle;\n",
       "    }\n",
       "\n",
       "    .dataframe tbody tr th {\n",
       "        vertical-align: top;\n",
       "    }\n",
       "\n",
       "    .dataframe thead th {\n",
       "        text-align: right;\n",
       "    }\n",
       "</style>\n",
       "<table border=\"1\" class=\"dataframe\">\n",
       "  <thead>\n",
       "    <tr style=\"text-align: right;\">\n",
       "      <th></th>\n",
       "      <th>age</th>\n",
       "      <th>job</th>\n",
       "      <th>marital</th>\n",
       "      <th>education</th>\n",
       "      <th>default</th>\n",
       "      <th>balance</th>\n",
       "      <th>housing</th>\n",
       "      <th>loan</th>\n",
       "      <th>contact</th>\n",
       "      <th>day</th>\n",
       "      <th>month</th>\n",
       "      <th>duration</th>\n",
       "      <th>campaign</th>\n",
       "      <th>pdays</th>\n",
       "      <th>previous</th>\n",
       "      <th>poutcome</th>\n",
       "      <th>y</th>\n",
       "    </tr>\n",
       "  </thead>\n",
       "  <tbody>\n",
       "    <tr>\n",
       "      <th>0</th>\n",
       "      <td>58</td>\n",
       "      <td>management</td>\n",
       "      <td>married</td>\n",
       "      <td>tertiary</td>\n",
       "      <td>no</td>\n",
       "      <td>2143</td>\n",
       "      <td>yes</td>\n",
       "      <td>no</td>\n",
       "      <td>unknown</td>\n",
       "      <td>5</td>\n",
       "      <td>may</td>\n",
       "      <td>261</td>\n",
       "      <td>1</td>\n",
       "      <td>-1</td>\n",
       "      <td>0</td>\n",
       "      <td>unknown</td>\n",
       "      <td>no</td>\n",
       "    </tr>\n",
       "    <tr>\n",
       "      <th>1</th>\n",
       "      <td>44</td>\n",
       "      <td>technician</td>\n",
       "      <td>single</td>\n",
       "      <td>secondary</td>\n",
       "      <td>no</td>\n",
       "      <td>29</td>\n",
       "      <td>yes</td>\n",
       "      <td>no</td>\n",
       "      <td>unknown</td>\n",
       "      <td>5</td>\n",
       "      <td>may</td>\n",
       "      <td>151</td>\n",
       "      <td>1</td>\n",
       "      <td>-1</td>\n",
       "      <td>0</td>\n",
       "      <td>unknown</td>\n",
       "      <td>no</td>\n",
       "    </tr>\n",
       "    <tr>\n",
       "      <th>2</th>\n",
       "      <td>33</td>\n",
       "      <td>entrepreneur</td>\n",
       "      <td>married</td>\n",
       "      <td>secondary</td>\n",
       "      <td>no</td>\n",
       "      <td>2</td>\n",
       "      <td>yes</td>\n",
       "      <td>yes</td>\n",
       "      <td>unknown</td>\n",
       "      <td>5</td>\n",
       "      <td>may</td>\n",
       "      <td>76</td>\n",
       "      <td>1</td>\n",
       "      <td>-1</td>\n",
       "      <td>0</td>\n",
       "      <td>unknown</td>\n",
       "      <td>no</td>\n",
       "    </tr>\n",
       "    <tr>\n",
       "      <th>3</th>\n",
       "      <td>47</td>\n",
       "      <td>blue-collar</td>\n",
       "      <td>married</td>\n",
       "      <td>unknown</td>\n",
       "      <td>no</td>\n",
       "      <td>1506</td>\n",
       "      <td>yes</td>\n",
       "      <td>no</td>\n",
       "      <td>unknown</td>\n",
       "      <td>5</td>\n",
       "      <td>may</td>\n",
       "      <td>92</td>\n",
       "      <td>1</td>\n",
       "      <td>-1</td>\n",
       "      <td>0</td>\n",
       "      <td>unknown</td>\n",
       "      <td>no</td>\n",
       "    </tr>\n",
       "    <tr>\n",
       "      <th>4</th>\n",
       "      <td>33</td>\n",
       "      <td>unknown</td>\n",
       "      <td>single</td>\n",
       "      <td>unknown</td>\n",
       "      <td>no</td>\n",
       "      <td>1</td>\n",
       "      <td>no</td>\n",
       "      <td>no</td>\n",
       "      <td>unknown</td>\n",
       "      <td>5</td>\n",
       "      <td>may</td>\n",
       "      <td>198</td>\n",
       "      <td>1</td>\n",
       "      <td>-1</td>\n",
       "      <td>0</td>\n",
       "      <td>unknown</td>\n",
       "      <td>no</td>\n",
       "    </tr>\n",
       "  </tbody>\n",
       "</table>\n",
       "</div>"
      ],
      "text/plain": [
       "   age           job  marital  education default  balance housing loan  \\\n",
       "0   58    management  married   tertiary      no     2143     yes   no   \n",
       "1   44    technician   single  secondary      no       29     yes   no   \n",
       "2   33  entrepreneur  married  secondary      no        2     yes  yes   \n",
       "3   47   blue-collar  married    unknown      no     1506     yes   no   \n",
       "4   33       unknown   single    unknown      no        1      no   no   \n",
       "\n",
       "   contact  day month  duration  campaign  pdays  previous poutcome   y  \n",
       "0  unknown    5   may       261         1     -1         0  unknown  no  \n",
       "1  unknown    5   may       151         1     -1         0  unknown  no  \n",
       "2  unknown    5   may        76         1     -1         0  unknown  no  \n",
       "3  unknown    5   may        92         1     -1         0  unknown  no  \n",
       "4  unknown    5   may       198         1     -1         0  unknown  no  "
      ]
     },
     "execution_count": 58,
     "metadata": {},
     "output_type": "execute_result"
    }
   ],
   "source": [
    "bnk = pd.read_csv('/kaggle/input/bank-marketing/bank-full.csv', sep=\";\")\n",
    "bnk.head()"
   ]
  },
  {
   "cell_type": "code",
   "execution_count": 59,
   "id": "48b00dfd",
   "metadata": {
    "execution": {
     "iopub.execute_input": "2024-06-12T12:38:29.235720Z",
     "iopub.status.busy": "2024-06-12T12:38:29.235364Z",
     "iopub.status.idle": "2024-06-12T12:38:29.249882Z",
     "shell.execute_reply": "2024-06-12T12:38:29.248660Z"
    },
    "papermill": {
     "duration": 0.049657,
     "end_time": "2024-06-12T12:38:29.252179",
     "exception": false,
     "start_time": "2024-06-12T12:38:29.202522",
     "status": "completed"
    },
    "tags": []
   },
   "outputs": [
    {
     "name": "stdout",
     "output_type": "stream",
     "text": [
      "percentual de empreendedores entre divorciados: 3.44%\n",
      "percentual de estudantes entre divorciados: 0.12%\n"
     ]
    }
   ],
   "source": [
    "# Filtrando todos os dados para incluir apenas os divorciados\n",
    "\n",
    "divorciados_df = bnk[bnk['marital'] == 'divorced']\n",
    "\n",
    "# Calculando o total de individuos divorciados\n",
    "total_divorciados = len(divorciados_df)\n",
    "\n",
    "# Agrupar por job e calcular a contagem\n",
    "job_counts = divorciados_df['job'].value_counts()\n",
    "\n",
    "# Calcular o percentual de empreendedores e estudantes\n",
    "percent_empreendedores = (job_counts.get('entrepreneur', 0) / total_divorciados) * 100\n",
    "percent_estudantes = (job_counts.get('student', 0) / total_divorciados) * 100\n",
    "\n",
    "print(f\"percentual de empreendedores entre divorciados: {percent_empreendedores:.2f}%\")\n",
    "print(f\"percentual de estudantes entre divorciados: {percent_estudantes:.2f}%\")"
   ]
  },
  {
   "cell_type": "markdown",
   "id": "b9e62c99",
   "metadata": {
    "papermill": {
     "duration": 0.031017,
     "end_time": "2024-06-12T12:38:29.314525",
     "exception": false,
     "start_time": "2024-06-12T12:38:29.283508",
     "status": "completed"
    },
    "tags": []
   },
   "source": [
    "2) O seu chefe decidiu criar duas categorias, Premium e Gold, para focar nos clientes mais promissores. Para a categoria Premium, entrarão os que possuem saldo (balance) nos top 10%. Ou seja, o grupo acima do percentil 90. Já o grupo Gold, ficarão os que possuem saldo nos top 20%, mas abaixo do grupo Premium. Ou seja, do p80 até o último do p90. Verifique quantos clientes possuem no grupo Premium e no Gold."
   ]
  },
  {
   "cell_type": "code",
   "execution_count": 60,
   "id": "cee5c26c",
   "metadata": {
    "execution": {
     "iopub.execute_input": "2024-06-12T12:38:29.380356Z",
     "iopub.status.busy": "2024-06-12T12:38:29.379933Z",
     "iopub.status.idle": "2024-06-12T12:38:29.396136Z",
     "shell.execute_reply": "2024-06-12T12:38:29.395057Z"
    },
    "papermill": {
     "duration": 0.052331,
     "end_time": "2024-06-12T12:38:29.398459",
     "exception": false,
     "start_time": "2024-06-12T12:38:29.346128",
     "status": "completed"
    },
    "tags": []
   },
   "outputs": [
    {
     "name": "stdout",
     "output_type": "stream",
     "text": [
      "Número de clientes no grupo Premium: 4521\n",
      "Número de clientes no grupo Premium: 4525\n"
     ]
    }
   ],
   "source": [
    "# Calcular os percentis 90 e 80 para balance\n",
    "\n",
    "percentil_90 = bnk['balance'].quantile(0.90)\n",
    "percentil_80 = bnk['balance'].quantile(0.80)\n",
    "\n",
    "# Filtrar os clientes do grupo Premium (acima do percentil 90)\n",
    "premium_group = bnk[bnk['balance'] > percentil_90]\n",
    "\n",
    "# Filtrar os clientes do grupo Gold (entre os percentis 80 e 90)\n",
    "gold_group = bnk[(bnk['balance']< percentil_90)& (bnk['balance'] >= percentil_80)]\n",
    "\n",
    "# Contar o número de clientes em cada grupo\n",
    "num_premium = premium_group.shape[0]\n",
    "num_gold = gold_group.shape[0]\n",
    "\n",
    "print(f\"Número de clientes no grupo Premium: {num_premium}\")\n",
    "print(f\"Número de clientes no grupo Premium: {num_gold}\")"
   ]
  },
  {
   "cell_type": "markdown",
   "id": "af7c16e9",
   "metadata": {
    "papermill": {
     "duration": 0.031547,
     "end_time": "2024-06-12T12:38:29.461441",
     "exception": false,
     "start_time": "2024-06-12T12:38:29.429894",
     "status": "completed"
    },
    "tags": []
   },
   "source": [
    "3) Seu chefe também quer saber se existe diferença nos percentuais vistos no exercício (1) para o grupo Premium. Verifique como a tabela cruzada da população se diferencia do grupo Premium. Existe diferença? Qual sua hipótese para que exista essa diferença?"
   ]
  },
  {
   "cell_type": "code",
   "execution_count": 61,
   "id": "63664d8d",
   "metadata": {
    "execution": {
     "iopub.execute_input": "2024-06-12T12:38:29.526025Z",
     "iopub.status.busy": "2024-06-12T12:38:29.525118Z",
     "iopub.status.idle": "2024-06-12T12:38:29.554271Z",
     "shell.execute_reply": "2024-06-12T12:38:29.553175Z"
    },
    "papermill": {
     "duration": 0.064051,
     "end_time": "2024-06-12T12:38:29.556757",
     "exception": false,
     "start_time": "2024-06-12T12:38:29.492706",
     "status": "completed"
    },
    "tags": []
   },
   "outputs": [
    {
     "data": {
      "text/html": [
       "<div>\n",
       "<style scoped>\n",
       "    .dataframe tbody tr th:only-of-type {\n",
       "        vertical-align: middle;\n",
       "    }\n",
       "\n",
       "    .dataframe tbody tr th {\n",
       "        vertical-align: top;\n",
       "    }\n",
       "\n",
       "    .dataframe thead th {\n",
       "        text-align: right;\n",
       "    }\n",
       "</style>\n",
       "<table border=\"1\" class=\"dataframe\">\n",
       "  <thead>\n",
       "    <tr style=\"text-align: right;\">\n",
       "      <th>job</th>\n",
       "      <th>admin.</th>\n",
       "      <th>blue-collar</th>\n",
       "      <th>entrepreneur</th>\n",
       "      <th>housemaid</th>\n",
       "      <th>management</th>\n",
       "      <th>retired</th>\n",
       "      <th>self-employed</th>\n",
       "      <th>services</th>\n",
       "      <th>technician</th>\n",
       "      <th>unemployed</th>\n",
       "      <th>unknown</th>\n",
       "    </tr>\n",
       "    <tr>\n",
       "      <th>marital</th>\n",
       "      <th></th>\n",
       "      <th></th>\n",
       "      <th></th>\n",
       "      <th></th>\n",
       "      <th></th>\n",
       "      <th></th>\n",
       "      <th></th>\n",
       "      <th></th>\n",
       "      <th></th>\n",
       "      <th></th>\n",
       "      <th></th>\n",
       "    </tr>\n",
       "  </thead>\n",
       "  <tbody>\n",
       "    <tr>\n",
       "      <th>divorced</th>\n",
       "      <td>9.61%</td>\n",
       "      <td>9.61%</td>\n",
       "      <td>2.75%</td>\n",
       "      <td>5.26%</td>\n",
       "      <td>30.66%</td>\n",
       "      <td>12.36%</td>\n",
       "      <td>5.72%</td>\n",
       "      <td>7.78%</td>\n",
       "      <td>11.67%</td>\n",
       "      <td>3.89%</td>\n",
       "      <td>0.69%</td>\n",
       "    </tr>\n",
       "  </tbody>\n",
       "</table>\n",
       "</div>"
      ],
      "text/plain": [
       "job      admin. blue-collar entrepreneur housemaid management retired  \\\n",
       "marital                                                                 \n",
       "divorced  9.61%       9.61%        2.75%     5.26%     30.66%  12.36%   \n",
       "\n",
       "job      self-employed services technician unemployed unknown  \n",
       "marital                                                        \n",
       "divorced         5.72%    7.78%     11.67%      3.89%   0.69%  "
      ]
     },
     "execution_count": 61,
     "metadata": {},
     "output_type": "execute_result"
    }
   ],
   "source": [
    "# Filtrar clientes Premium\n",
    "percentil_90 = bnk['balance'].quantile(0.90)\n",
    "premium_customers = bnk[bnk['balance'] > percentil_90]\n",
    "\n",
    "# Filtrar divorciados no grupo Premium\n",
    "divorced_premium = premium_customers[premium_customers['marital'] == 'divorced']\n",
    "\n",
    "# Criar a tabela cruzada para divorciados no grupo Premium\n",
    "crosstab_divorced_premium = pd.crosstab(divorced_premium['marital'], divorced_premium['job'], normalize='index') * 100\n",
    "\n",
    "# Formatando os valores como strings com duas casas decimais e o símbolo de porcentagem\n",
    "crosstab_divorced_premium = crosstab_divorced_premium.apply(lambda x: x.map(lambda v: f\"{v:.2f}%\"))\n",
    "\n",
    "crosstab_divorced_premium"
   ]
  },
  {
   "cell_type": "markdown",
   "id": "938ab224",
   "metadata": {
    "papermill": {
     "duration": 0.032126,
     "end_time": "2024-06-12T12:38:29.620500",
     "exception": false,
     "start_time": "2024-06-12T12:38:29.588374",
     "status": "completed"
    },
    "tags": []
   },
   "source": [
    "5) Na sua opinião e de parte da diretoria, há 3 fatores que determinam se a pessoa vai aceitar a proposta do seu banco (y): o saldo (balance), se ela já deixou de pagar um empréstimo (default) e se ela tem um empréstimo pessoal (loan). Para avaliar essas 3 características junto com o aceite (y), você precisará criar uma tabela dinâmica, cujo valor observado seja a média do saldo. Avalie se existe diferença no saldo de quem aceita a proposta e tem empréstimo vs quem não aceita e não tem empréstimo, e o mesmo para o default. Em outras palavras, crie uma tabela dinâmica cruzando loan e default, mas também segmentando por aceite ou não da proposta. O saldo de quem aceita e tem empréstimo é maior ou menor do que o de quem não aceita? Por qual motivo você acha que isso acontece? Crie a sua hipótese para justificar o resultado achado!"
   ]
  },
  {
   "cell_type": "code",
   "execution_count": 62,
   "id": "2999c239",
   "metadata": {
    "execution": {
     "iopub.execute_input": "2024-06-12T12:38:29.686511Z",
     "iopub.status.busy": "2024-06-12T12:38:29.685563Z",
     "iopub.status.idle": "2024-06-12T12:38:29.724846Z",
     "shell.execute_reply": "2024-06-12T12:38:29.723783Z"
    },
    "papermill": {
     "duration": 0.075409,
     "end_time": "2024-06-12T12:38:29.727722",
     "exception": false,
     "start_time": "2024-06-12T12:38:29.652313",
     "status": "completed"
    },
    "tags": []
   },
   "outputs": [
    {
     "data": {
      "text/html": [
       "<div>\n",
       "<style scoped>\n",
       "    .dataframe tbody tr th:only-of-type {\n",
       "        vertical-align: middle;\n",
       "    }\n",
       "\n",
       "    .dataframe tbody tr th {\n",
       "        vertical-align: top;\n",
       "    }\n",
       "\n",
       "    .dataframe thead th {\n",
       "        text-align: right;\n",
       "    }\n",
       "</style>\n",
       "<table border=\"1\" class=\"dataframe\">\n",
       "  <thead>\n",
       "    <tr style=\"text-align: right;\">\n",
       "      <th></th>\n",
       "      <th>tem_emprestimo</th>\n",
       "      <th>no</th>\n",
       "      <th>yes</th>\n",
       "    </tr>\n",
       "    <tr>\n",
       "      <th>proposta</th>\n",
       "      <th>caloteiro</th>\n",
       "      <th></th>\n",
       "      <th></th>\n",
       "    </tr>\n",
       "  </thead>\n",
       "  <tbody>\n",
       "    <tr>\n",
       "      <th rowspan=\"2\" valign=\"top\">no</th>\n",
       "      <th>no</th>\n",
       "      <td>1435.673581</td>\n",
       "      <td>807.983318</td>\n",
       "    </tr>\n",
       "    <tr>\n",
       "      <th>yes</th>\n",
       "      <td>-124.737945</td>\n",
       "      <td>-172.958042</td>\n",
       "    </tr>\n",
       "    <tr>\n",
       "      <th rowspan=\"2\" valign=\"top\">yes</th>\n",
       "      <th>no</th>\n",
       "      <td>1912.359060</td>\n",
       "      <td>912.245203</td>\n",
       "    </tr>\n",
       "    <tr>\n",
       "      <th>yes</th>\n",
       "      <td>-82.108108</td>\n",
       "      <td>-10.666667</td>\n",
       "    </tr>\n",
       "  </tbody>\n",
       "</table>\n",
       "</div>"
      ],
      "text/plain": [
       "tem_emprestimo               no         yes\n",
       "proposta caloteiro                         \n",
       "no       no         1435.673581  807.983318\n",
       "         yes        -124.737945 -172.958042\n",
       "yes      no         1912.359060  912.245203\n",
       "         yes         -82.108108  -10.666667"
      ]
     },
     "execution_count": 62,
     "metadata": {},
     "output_type": "execute_result"
    }
   ],
   "source": [
    "bnk_renamed = bnk.rename(columns={\n",
    "    'y': 'proposta',\n",
    "    'default': 'caloteiro',\n",
    "    'loan': 'tem_emprestimo',\n",
    "    'balance': 'saldo'\n",
    "})\n",
    "\n",
    "# Criar a tabela dinâmica com os novos nomes\n",
    "bnk_renamed.pivot_table(\n",
    "    index=['proposta', 'caloteiro'],\n",
    "    columns='tem_emprestimo',\n",
    "    values='saldo',\n",
    "    aggfunc='mean'\n",
    ")\n"
   ]
  },
  {
   "cell_type": "markdown",
   "id": "8c3d7a33",
   "metadata": {
    "papermill": {
     "duration": 0.032216,
     "end_time": "2024-06-12T12:38:29.791910",
     "exception": false,
     "start_time": "2024-06-12T12:38:29.759694",
     "status": "completed"
    },
    "tags": []
   },
   "source": [
    "O saldo de quem aceita uma proposta tende a ser maior de quem não aceita a proposta por conta dos juros que acabam sendo descontados a um valor bem menor quando é feita uma negociação com o banco, e também vemos que o menor saldo é o do quadrante onde não é aceita proposta e o individuo é caloteiro"
   ]
  },
  {
   "cell_type": "markdown",
   "id": "4d7bdc67",
   "metadata": {
    "papermill": {
     "duration": 0.031208,
     "end_time": "2024-06-12T12:38:29.854447",
     "exception": false,
     "start_time": "2024-06-12T12:38:29.823239",
     "status": "completed"
    },
    "tags": []
   },
   "source": [
    "7) Você trabalha numa empresa de bicicletas e precisa fazer uma clusterização separando marcas caras de baratas. Para isso, você precisará saber a média de preços das bicicletas de cada marca.\n",
    "\n",
    "Dica: No dataset brands, você encontra as marcas e no products você possui o preço de cada bicicleta. Traga a informação de preço de products para brands usando a coluna brand_id, e, em seguida, faça o agrupamento de preço médio por cada brand."
   ]
  },
  {
   "cell_type": "code",
   "execution_count": 63,
   "id": "2edc7fda",
   "metadata": {
    "execution": {
     "iopub.execute_input": "2024-06-12T12:38:29.919165Z",
     "iopub.status.busy": "2024-06-12T12:38:29.918771Z",
     "iopub.status.idle": "2024-06-12T12:38:29.959737Z",
     "shell.execute_reply": "2024-06-12T12:38:29.958484Z"
    },
    "papermill": {
     "duration": 0.076204,
     "end_time": "2024-06-12T12:38:29.962231",
     "exception": false,
     "start_time": "2024-06-12T12:38:29.886027",
     "status": "completed"
    },
    "tags": []
   },
   "outputs": [
    {
     "data": {
      "text/html": [
       "<style type=\"text/css\">\n",
       "#T_7c341_row0_col0, #T_7c341_row0_col1, #T_7c341_row0_col2 {\n",
       "  background-color: hsl(0, 6.0520622328622755%, 96.97396888356886%);\n",
       "}\n",
       "#T_7c341_row1_col0, #T_7c341_row1_col1, #T_7c341_row1_col2 {\n",
       "  background-color: hsl(0, 4.525184016908551%, 97.73740799154572%);\n",
       "}\n",
       "#T_7c341_row2_col0, #T_7c341_row2_col1, #T_7c341_row2_col2 {\n",
       "  background-color: hsl(0, 21.560598041468275%, 89.21970097926587%);\n",
       "}\n",
       "#T_7c341_row3_col0, #T_7c341_row3_col1, #T_7c341_row3_col2 {\n",
       "  background-color: hsl(0, 2.5519328602797464%, 98.72403356986013%);\n",
       "}\n",
       "#T_7c341_row4_col0, #T_7c341_row4_col1, #T_7c341_row4_col2 {\n",
       "  background-color: hsl(0, 5.931066429928683%, 97.03446678503566%);\n",
       "}\n",
       "#T_7c341_row5_col0, #T_7c341_row5_col1, #T_7c341_row5_col2 {\n",
       "  background-color: hsl(0, 0.0%, 100.0%);\n",
       "}\n",
       "#T_7c341_row6_col0, #T_7c341_row6_col1, #T_7c341_row6_col2 {\n",
       "  background-color: hsl(0, 3.4540582518256175%, 98.27297087408719%);\n",
       "}\n",
       "#T_7c341_row7_col0, #T_7c341_row7_col1, #T_7c341_row7_col2 {\n",
       "  background-color: hsl(0, 12.320841537548048%, 93.83957923122597%);\n",
       "}\n",
       "#T_7c341_row8_col0, #T_7c341_row8_col1, #T_7c341_row8_col2 {\n",
       "  background-color: hsl(0, 25.15292863479769%, 87.42353568260116%);\n",
       "}\n",
       "#T_7c341_row9_col0, #T_7c341_row9_col1, #T_7c341_row9_col2 {\n",
       "  background-color: blank;\n",
       "  background-color: lightgrey;\n",
       "}\n",
       "</style>\n",
       "<table id=\"T_7c341\">\n",
       "  <thead>\n",
       "    <tr>\n",
       "      <th class=\"blank level0\" >&nbsp;</th>\n",
       "      <th id=\"T_7c341_level0_col0\" class=\"col_heading level0 col0\" >brand_name</th>\n",
       "      <th id=\"T_7c341_level0_col1\" class=\"col_heading level0 col1\" >list_price</th>\n",
       "      <th id=\"T_7c341_level0_col2\" class=\"col_heading level0 col2\" >porcentagem</th>\n",
       "    </tr>\n",
       "  </thead>\n",
       "  <tbody>\n",
       "    <tr>\n",
       "      <th id=\"T_7c341_level0_row0\" class=\"row_heading level0 row0\" >0</th>\n",
       "      <td id=\"T_7c341_row0_col0\" class=\"data row0 col0\" >Electra</td>\n",
       "      <td id=\"T_7c341_row0_col1\" class=\"data row0 col1\" >761.006186</td>\n",
       "      <td id=\"T_7c341_row0_col2\" class=\"data row0 col2\" >8.17%</td>\n",
       "    </tr>\n",
       "    <tr>\n",
       "      <th id=\"T_7c341_level0_row1\" class=\"row_heading level0 row1\" >1</th>\n",
       "      <td id=\"T_7c341_row1_col0\" class=\"data row1 col0\" >Haro</td>\n",
       "      <td id=\"T_7c341_row1_col1\" class=\"data row1 col1\" >621.990000</td>\n",
       "      <td id=\"T_7c341_row1_col2\" class=\"data row1 col2\" >6.68%</td>\n",
       "    </tr>\n",
       "    <tr>\n",
       "      <th id=\"T_7c341_level0_row2\" class=\"row_heading level0 row2\" >2</th>\n",
       "      <td id=\"T_7c341_row2_col0\" class=\"data row2 col0\" >Heller</td>\n",
       "      <td id=\"T_7c341_row2_col1\" class=\"data row2 col1\" >2172.996667</td>\n",
       "      <td id=\"T_7c341_row2_col2\" class=\"data row2 col2\" >23.33%</td>\n",
       "    </tr>\n",
       "    <tr>\n",
       "      <th id=\"T_7c341_level0_row3\" class=\"row_heading level0 row3\" >3</th>\n",
       "      <td id=\"T_7c341_row3_col0\" class=\"data row3 col0\" >Pure Cycles</td>\n",
       "      <td id=\"T_7c341_row3_col1\" class=\"data row3 col1\" >442.333333</td>\n",
       "      <td id=\"T_7c341_row3_col2\" class=\"data row3 col2\" >4.75%</td>\n",
       "    </tr>\n",
       "    <tr>\n",
       "      <th id=\"T_7c341_level0_row4\" class=\"row_heading level0 row4\" >4</th>\n",
       "      <td id=\"T_7c341_row4_col0\" class=\"data row4 col0\" >Ritchey</td>\n",
       "      <td id=\"T_7c341_row4_col1\" class=\"data row4 col1\" >749.990000</td>\n",
       "      <td id=\"T_7c341_row4_col2\" class=\"data row4 col2\" >8.05%</td>\n",
       "    </tr>\n",
       "    <tr>\n",
       "      <th id=\"T_7c341_level0_row5\" class=\"row_heading level0 row5\" >5</th>\n",
       "      <td id=\"T_7c341_row5_col0\" class=\"data row5 col0\" >Strider</td>\n",
       "      <td id=\"T_7c341_row5_col1\" class=\"data row5 col1\" >209.990000</td>\n",
       "      <td id=\"T_7c341_row5_col2\" class=\"data row5 col2\" >2.25%</td>\n",
       "    </tr>\n",
       "    <tr>\n",
       "      <th id=\"T_7c341_level0_row6\" class=\"row_heading level0 row6\" >6</th>\n",
       "      <td id=\"T_7c341_row6_col0\" class=\"data row6 col0\" >Sun Bicycles</td>\n",
       "      <td id=\"T_7c341_row6_col1\" class=\"data row6 col1\" >524.468261</td>\n",
       "      <td id=\"T_7c341_row6_col2\" class=\"data row6 col2\" >5.63%</td>\n",
       "    </tr>\n",
       "    <tr>\n",
       "      <th id=\"T_7c341_level0_row7\" class=\"row_heading level0 row7\" >7</th>\n",
       "      <td id=\"T_7c341_row7_col0\" class=\"data row7 col0\" >Surly</td>\n",
       "      <td id=\"T_7c341_row7_col1\" class=\"data row7 col1\" >1331.753600</td>\n",
       "      <td id=\"T_7c341_row7_col2\" class=\"data row7 col2\" >14.30%</td>\n",
       "    </tr>\n",
       "    <tr>\n",
       "      <th id=\"T_7c341_level0_row8\" class=\"row_heading level0 row8\" >8</th>\n",
       "      <td id=\"T_7c341_row8_col0\" class=\"data row8 col0\" >Trek</td>\n",
       "      <td id=\"T_7c341_row8_col1\" class=\"data row8 col1\" >2500.064074</td>\n",
       "      <td id=\"T_7c341_row8_col2\" class=\"data row8 col2\" >26.84%</td>\n",
       "    </tr>\n",
       "    <tr>\n",
       "      <th id=\"T_7c341_level0_row9\" class=\"row_heading level0 row9\" >9</th>\n",
       "      <td id=\"T_7c341_row9_col0\" class=\"data row9 col0\" >Total</td>\n",
       "      <td id=\"T_7c341_row9_col1\" class=\"data row9 col1\" >9314.592121</td>\n",
       "      <td id=\"T_7c341_row9_col2\" class=\"data row9 col2\" >100.00%</td>\n",
       "    </tr>\n",
       "  </tbody>\n",
       "</table>\n"
      ],
      "text/plain": [
       "<pandas.io.formats.style.Styler at 0x78049320f8b0>"
      ]
     },
     "execution_count": 63,
     "metadata": {},
     "output_type": "execute_result"
    }
   ],
   "source": [
    "import pandas as pd\n",
    "\n",
    "# Carregando os datasets\n",
    "brands = pd.read_csv('/kaggle/input/bike-store-sample-database/brands.csv')\n",
    "products = pd.read_csv('/kaggle/input/bike-store-sample-database/products.csv')\n",
    "\n",
    "# Combinando os datasets na coluna 'brand_id'\n",
    "merged_df = pd.merge(brands, products, on='brand_id')\n",
    "\n",
    "# Agrupando pelo nome da marca e calculando a média dos preços\n",
    "average_prices = merged_df.groupby('brand_name')['list_price'].mean().reset_index()\n",
    "\n",
    "# Calculando o total geral\n",
    "total_geral = average_prices['list_price'].sum()\n",
    "\n",
    "# Criando a coluna de porcentagem formatada em relação ao total\n",
    "average_prices['porcentagem'] = (average_prices['list_price'] / total_geral) * 100\n",
    "average_prices['porcentagem'] = average_prices['porcentagem'].map(lambda x: f\"{x:.2f}%\")\n",
    "\n",
    "# Adicionando a linha de total\n",
    "total_row = pd.DataFrame({'brand_name': ['Total'], 'list_price': [total_geral], 'porcentagem': ['100.00%']})\n",
    "average_prices = pd.concat([average_prices, total_row], ignore_index=True)\n",
    "\n",
    "# Função para aplicar o gradiente de cor apenas para linhas não totais\n",
    "def color_gradient(row):\n",
    "    if row['brand_name'] == 'Total':\n",
    "        return ['background-color: blank'] * len(row)\n",
    "    normalized_val = (row['list_price'] - average_prices['list_price'].min()) / (average_prices['list_price'].max() - average_prices['list_price'].min())\n",
    "    # Ajuste o gradiente com mais saturação e menos luminosidade\n",
    "    color = f'hsl(0, {normalized_val * 100}%, {100 - (normalized_val * 50)}%)'\n",
    "    return [f'background-color: {color}'] * len(row)\n",
    "\n",
    "# Função para destacar a linha total\n",
    "def highlight_total(row):\n",
    "    if row['brand_name'] == 'Total':\n",
    "        return ['background-color: lightgrey'] * len(row)\n",
    "    return [''] * len(row)\n",
    "\n",
    "# Aplicando os estilos usando Styler.apply\n",
    "styled_average_prices = average_prices.style.apply(color_gradient, axis=1).apply(highlight_total, axis=1)\n",
    "\n",
    "styled_average_prices\n"
   ]
  },
  {
   "cell_type": "code",
   "execution_count": null,
   "id": "606ce28c",
   "metadata": {
    "papermill": {
     "duration": 0.031678,
     "end_time": "2024-06-12T12:38:30.026022",
     "exception": false,
     "start_time": "2024-06-12T12:38:29.994344",
     "status": "completed"
    },
    "tags": []
   },
   "outputs": [],
   "source": []
  }
 ],
 "metadata": {
  "kaggle": {
   "accelerator": "none",
   "dataSources": [
    {
     "datasetId": 3649090,
     "sourceId": 6340459,
     "sourceType": "datasetVersion"
    },
    {
     "datasetId": 5144187,
     "sourceId": 8598512,
     "sourceType": "datasetVersion"
    },
    {
     "datasetId": 5193847,
     "sourceId": 8667141,
     "sourceType": "datasetVersion"
    }
   ],
   "dockerImageVersionId": 30715,
   "isGpuEnabled": false,
   "isInternetEnabled": true,
   "language": "python",
   "sourceType": "notebook"
  },
  "kernelspec": {
   "display_name": "Python 3",
   "language": "python",
   "name": "python3"
  },
  "language_info": {
   "codemirror_mode": {
    "name": "ipython",
    "version": 3
   },
   "file_extension": ".py",
   "mimetype": "text/x-python",
   "name": "python",
   "nbconvert_exporter": "python",
   "pygments_lexer": "ipython3",
   "version": "3.10.13"
  },
  "papermill": {
   "default_parameters": {},
   "duration": 11.761078,
   "end_time": "2024-06-12T12:38:30.579273",
   "environment_variables": {},
   "exception": null,
   "input_path": "__notebook__.ipynb",
   "output_path": "__notebook__.ipynb",
   "parameters": {},
   "start_time": "2024-06-12T12:38:18.818195",
   "version": "2.5.0"
  }
 },
 "nbformat": 4,
 "nbformat_minor": 5
}
